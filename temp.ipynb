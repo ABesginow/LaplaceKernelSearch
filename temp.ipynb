{
 "cells": [
  {
   "cell_type": "code",
   "execution_count": 109,
   "metadata": {},
   "outputs": [],
   "source": [
    "import gpytorch\n",
    "import torch\n",
    "from itertools import product"
   ]
  },
  {
   "cell_type": "code",
   "execution_count": null,
   "metadata": {},
   "outputs": [],
   "source": [
    "torch.linspace(0, 1, 10)"
   ]
  },
  {
   "cell_type": "code",
   "execution_count": 111,
   "metadata": {},
   "outputs": [],
   "source": [
    "class ExactMIGPModel(gpytorch.models.ExactGP):\n",
    "    def __init__(self, train_x, train_y, likelihood, kernel_text=\"RBF\", weights=None):\n",
    "        super(ExactMIGPModel, self).__init__(train_x, train_y, likelihood)\n",
    "        self.mean_module = gpytorch.means.ZeroMean()\n",
    "        self.covar_module = gpytorch.kernels.AdditiveStructureKernel(gpytorch.kernels.RBFKernel(active_dims=0) + gpytorch.kernels.MaternKernel(active_dims=1), num_dims=2)\n",
    "\n",
    "    def forward(self, x):\n",
    "        mean_x = self.mean_module(x)#sum([self.mean_module(xp) for xp in x])\n",
    "        covar_x = self.covar_module(x)#sum([covar(xp) for xp, covar in zip(x, self.covar_module)])\n",
    "        return gpytorch.distributions.MultivariateNormal(mean_x, covar_x)"
   ]
  },
  {
   "cell_type": "code",
   "execution_count": null,
   "metadata": {},
   "outputs": [],
   "source": [
    "X_SIZE = 10 \n",
    "\n",
    "# data MUST be pairs of x_i values i.e. (x1, x2), (x1, x3), (x2, x3), etc.\n",
    "train_x = torch.tensor(list(product(torch.linspace(0, 5, X_SIZE), torch.linspace(0, 5, X_SIZE))))\n",
    "train_y = (torch.sin(train_x[:,0]) + torch.cos(train_x[:,1]))#.view(-1, 1)\n",
    "print(train_x)\n",
    "print(train_y)\n",
    "likelihood = gpytorch.likelihoods.GaussianLikelihood()\n",
    "data_model = ExactMIGPModel(train_x, train_y, likelihood)"
   ]
  },
  {
   "cell_type": "code",
   "execution_count": null,
   "metadata": {},
   "outputs": [],
   "source": [
    "gpytorch.means.ZeroMean()(train_x)\n",
    "data_model(train_x)\n"
   ]
  },
  {
   "cell_type": "code",
   "execution_count": null,
   "metadata": {},
   "outputs": [],
   "source": [
    "plot_2d_gp(data_model, likelihood, x_min=0.0, x_max=1.0, y_min=0.0, y_max=1.0, resolution=50)"
   ]
  },
  {
   "cell_type": "code",
   "execution_count": null,
   "metadata": {},
   "outputs": [],
   "source": [
    "zer = gpytorch.means.ZeroMean()\n",
    "mean_x = sum([zer(xp) for xp in train_x.T])\n",
    "mean_x.shape\n",
    "covar_module = [gpytorch.kernels.RBFKernel(), gpytorch.kernels.MaternKernel()]\n",
    "covar_x = sum([covar(xp) for covar, xp in zip(covar_module, train_x.T)])\n",
    "covar_x.evaluate()\n",
    "#covar_x = sum([covar(xp) for xp, covar in zip(x, self.covar_module)])"
   ]
  },
  {
   "cell_type": "code",
   "execution_count": null,
   "metadata": {},
   "outputs": [],
   "source": [
    "with torch.no_grad(), gpytorch.settings.prior_mode(True):\n",
    "    f_preds = data_model(train_x)\n",
    "all_observations_y = f_preds.sample_n(5)"
   ]
  },
  {
   "cell_type": "code",
   "execution_count": 117,
   "metadata": {},
   "outputs": [],
   "source": [
    "import matplotlib.pyplot as plt\n",
    "\n",
    "def plot_2d_gp(model, likelihood, x_min=0.0, x_max=1.0, y_min=0.0, y_max=1.0, resolution=50):\n",
    "    xx, yy = torch.meshgrid(\n",
    "        torch.linspace(x_min, x_max, resolution), \n",
    "        torch.linspace(y_min, y_max, resolution)\n",
    "    )\n",
    "    test_x = torch.stack([xx.reshape(-1), yy.reshape(-1)], dim=-1)\n",
    "\n",
    "    model.eval()\n",
    "    likelihood.eval()\n",
    "    with torch.no_grad():\n",
    "        preds = likelihood(model(test_x))\n",
    "        mean = preds.mean.reshape(resolution, resolution)\n",
    "        lower, upper = preds.confidence_region()\n",
    "        lower = lower.reshape(resolution, resolution)\n",
    "        upper = upper.reshape(resolution, resolution)\n",
    "\n",
    "    plt.figure()\n",
    "    mean_contour = plt.contourf(xx.numpy(), yy.numpy(), mean.numpy(), levels=50, cmap='viridis')\n",
    "    plt.colorbar(mean_contour, label='Mean')\n",
    "    plt.contour(xx.numpy(), yy.numpy(), lower.numpy(), levels=10, linestyles='dotted', colors='white', alpha=0.7)\n",
    "    plt.contour(xx.numpy(), yy.numpy(), upper.numpy(), levels=10, linestyles='dashed', colors='white', alpha=0.7)\n",
    "    plt.title('2D GP Mean and Variance')\n",
    "    plt.xlabel('X1')\n",
    "    plt.ylabel('X2')\n",
    "    plt.show()"
   ]
  },
  {
   "cell_type": "code",
   "execution_count": 141,
   "metadata": {},
   "outputs": [],
   "source": [
    "def plot_3d_gp(model, likelihood, x_min=0.0, x_max=1.0, y_min=0.0, y_max=1.0, resolution=50):\n",
    "\n",
    "    model.eval()\n",
    "    likelihood.eval()\n",
    "\n",
    "    x_vals = torch.linspace(x_min, x_max, resolution)\n",
    "    y_vals = torch.linspace(y_min, y_max, resolution)\n",
    "    xx, yy = torch.meshgrid(x_vals, y_vals)\n",
    "    test_x = torch.stack([xx.reshape(-1), yy.reshape(-1)], dim=-1)\n",
    "\n",
    "    with torch.no_grad():\n",
    "        preds = likelihood(model(test_x))\n",
    "        mean = preds.mean.reshape(resolution, resolution)\n",
    "        lower, upper = preds.confidence_region()\n",
    "        lower = lower.reshape(resolution, resolution)\n",
    "        upper = upper.reshape(resolution, resolution)\n",
    "\n",
    "    fig = plt.figure(figsize=(8, 6))\n",
    "    ax = fig.add_subplot(111, projection='3d')\n",
    "\n",
    "    # Plot mean surface\n",
    "    ax.plot_surface(xx.numpy(), yy.numpy(), mean.numpy(), cmap='viridis', alpha=0.8)\n",
    "\n",
    "    # Plot lower and upper surfaces\n",
    "    ax.plot_surface(xx.numpy(), yy.numpy(), lower.numpy(), color='gray', alpha=0.2)\n",
    "    ax.plot_surface(xx.numpy(), yy.numpy(), upper.numpy(), color='gray', alpha=0.2)\n",
    "\n",
    "    ax.set_title('2D GP in 3D')\n",
    "    ax.set_xlabel('X1')\n",
    "    ax.set_ylabel('X2')\n",
    "    ax.set_zlabel('Mean and Variance Range')\n",
    "\n",
    "    plt.show()\n"
   ]
  },
  {
   "cell_type": "code",
   "execution_count": null,
   "metadata": {},
   "outputs": [],
   "source": [
    "plot_3d_gp(data_model, likelihood, x_min=-10.0, x_max=10.0, y_min=-10.0, y_max=10.0, resolution=50)"
   ]
  }
 ],
 "metadata": {
  "kernelspec": {
   "display_name": "sage",
   "language": "python",
   "name": "python3"
  },
  "language_info": {
   "codemirror_mode": {
    "name": "ipython",
    "version": 3
   },
   "file_extension": ".py",
   "mimetype": "text/x-python",
   "name": "python",
   "nbconvert_exporter": "python",
   "pygments_lexer": "ipython3",
   "version": "3.10.2"
  }
 },
 "nbformat": 4,
 "nbformat_minor": 2
}
