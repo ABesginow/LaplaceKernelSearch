{
 "cells": [
  {
   "cell_type": "code",
   "execution_count": 1,
   "id": "4a20b588",
   "metadata": {},
   "outputs": [],
   "source": [
    "from helpFunctions import get_string_representation_of_kernel as gsr, clean_kernel_expression, print_formatted_hyperparameters\n",
    "import torch\n",
    "import gpytorch\n",
    "import matplotlib.pyplot as plt\n",
    "from GaussianProcess import ExactGPModel"
   ]
  },
  {
   "cell_type": "code",
   "execution_count": 2,
   "id": "b1eb8b57",
   "metadata": {},
   "outputs": [],
   "source": [
    "class DataGPModel(gpytorch.models.ExactGP):\n",
    "    def __init__(self, train_x, train_y, likelihood, kernel_text=\"RBF\", weights=None):\n",
    "        super(DataGPModel, self).__init__(train_x, train_y, likelihood)\n",
    "        self.mean_module = gpytorch.means.ConstantMean()\n",
    "\n",
    "        if kernel_text == \"RBF\":\n",
    "            self.covar_module = gpytorch.kernels.RBFKernel()\n",
    "        elif kernel_text == \"SIN\":\n",
    "            self.covar_module = gpytorch.kernels.PeriodicKernel()\n",
    "        elif kernel_text == \"SIN+RBF\":\n",
    "            if weights is None:\n",
    "                self.covar_module = gpytorch.kernels.PeriodicKernel() + gpytorch.kernels.RBFKernel()\n",
    "            else:\n",
    "                self.covar_module = weights[0]*gpytorch.kernels.PeriodicKernel() + weights[1]*gpytorch.kernels.RBFKernel()\n",
    "        elif kernel_text == \"SIN*RBF\":\n",
    "            self.covar_module = gpytorch.kernels.PeriodicKernel() * gpytorch.kernels.RBFKernel()\n",
    "        elif kernel_text == \"SIN*LIN\":\n",
    "            self.covar_module = gpytorch.kernels.PeriodicKernel() * gpytorch.kernels.LinearKernel()\n",
    "        elif kernel_text == \"absurd\":\n",
    "            self.covar_module = gpytorch.kernels.RBFKernel() * ((gpytorch.kernels.PeriodicKernel() * gpytorch.kernels.LinearKernel()) + (gpytorch.kernels.PeriodicKernel() * gpytorch.kernels.LinearKernel()))\n",
    "\n",
    "            \n",
    "    def forward(self, x):\n",
    "        mean_x = self.mean_module(x)\n",
    "        covar_x = self.covar_module(x)\n",
    "        return gpytorch.distributions.MultivariateNormal(mean_x, covar_x)"
   ]
  },
  {
   "cell_type": "code",
   "execution_count": null,
   "id": "8a002d84",
   "metadata": {},
   "outputs": [],
   "source": []
  },
  {
   "cell_type": "code",
   "execution_count": 3,
   "id": "52ce84f7",
   "metadata": {},
   "outputs": [],
   "source": [
    "def get_kernels_in_kernel_expression(kernel_expression):\n",
    "    \"\"\"\n",
    "    returns list of all base kernels in a kernel expression\n",
    "    \"\"\"\n",
    "    if kernel_expression == None:\n",
    "        return []\n",
    "    if hasattr(kernel_expression, \"kernels\"):\n",
    "        ret = list()\n",
    "        for kernel in kernel_expression.kernels:\n",
    "            ret.extend(get_kernels_in_kernel_expression(kernel))\n",
    "        return ret\n",
    "    elif kernel_expression._get_name() == \"ScaleKernel\":\n",
    "        return get_kernels_in_kernel_expression(kernel_expression.base_kernel)\n",
    "    elif kernel_expression._get_name() == \"GridKernel\":\n",
    "        return get_kernels_in_kernel_expression(kernel_expression.base_kernel)\n",
    "    else:\n",
    "        return [kernel_expression]\n",
    "\n"
   ]
  },
  {
   "cell_type": "code",
   "execution_count": 4,
   "id": "a0ed424c",
   "metadata": {},
   "outputs": [
    {
     "name": "stderr",
     "output_type": "stream",
     "text": [
      "/opt/anaconda3/envs/sage/lib/python3.9/site-packages/linear_operator/utils/cholesky.py:40: NumericalWarning: A not p.d., added jitter of 1.0e-06 to the diagonal\n",
      "  warnings.warn(\n",
      "/opt/anaconda3/envs/sage/lib/python3.9/site-packages/linear_operator/utils/cholesky.py:40: NumericalWarning: A not p.d., added jitter of 1.0e-05 to the diagonal\n",
      "  warnings.warn(\n",
      "/opt/anaconda3/envs/sage/lib/python3.9/site-packages/linear_operator/utils/cholesky.py:40: NumericalWarning: A not p.d., added jitter of 1.0e-04 to the diagonal\n",
      "  warnings.warn(\n",
      "/opt/anaconda3/envs/sage/lib/python3.9/site-packages/linear_operator/operators/_linear_operator.py:2014: NumericalWarning: Runtime Error when computing Cholesky decomposition: Matrix not positive definite after repeatedly adding jitter up to 1.0e-04.. Using symeig method.\n",
      "  warnings.warn(\n"
     ]
    }
   ],
   "source": [
    "\n",
    "# training data for model initialization (e.g. 1 point with x=0, y=0) ; this makes initializing the model easier\n",
    "prior_x = torch.linspace(0,1,1)\n",
    "prior_y = prior_x\n",
    "# initialize likelihood and model\n",
    "data_likelihood = gpytorch.likelihoods.GaussianLikelihood()\n",
    "data_model = DataGPModel(prior_x, prior_y, data_likelihood, kernel_text=\"SIN\")\n",
    "observations_x = torch.linspace(-10, 10, 200)\n",
    "# Get into evaluation (predictive posterior) mode\n",
    "data_model.eval()\n",
    "data_likelihood.eval()\n",
    "\n",
    "# Make predictions by feeding model through likelihood\n",
    "with torch.no_grad(), gpytorch.settings.prior_mode(True):\n",
    "    observed_pred_prior = data_likelihood(data_model(observations_x))\n",
    "    f_preds = data_model(observations_x)\n",
    "    mean_prior = observed_pred_prior.mean\n",
    "    lower_prior, upper_prior = observed_pred_prior.confidence_region()\n",
    "\n",
    "f_mean = f_preds.mean\n",
    "f_var = f_preds.variance\n",
    "f_covar = f_preds.covariance_matrix\n",
    "observations_y = f_preds.sample()           # samples from the model\n",
    "\n",
    "\n",
    "X = observations_x[int((1-0.5)*0.5*200):int((1+0.5)*0.5*200)]\n",
    "Y = observations_y[int((1-0.5)*0.5*200):int((1+0.5)*0.5*200)]\n",
    "\n",
    "X = (X-X.mean())/X.std()\n",
    "Y = (Y-Y.mean())/Y.std()\n"
   ]
  },
  {
   "cell_type": "code",
   "execution_count": null,
   "id": "9f33d88a",
   "metadata": {},
   "outputs": [],
   "source": []
  },
  {
   "cell_type": "code",
   "execution_count": 5,
   "id": "52985f61",
   "metadata": {},
   "outputs": [],
   "source": [
    "limits = {\"RBFKernel\": {\"lengthscale\": [1e-4,1]},\n",
    "          \"LinearKernel\": {\"variance\": [1e-4,1]},\n",
    "          \"PeriodicKernel\": {\"lengthscale\": [1e-4,10],\n",
    "                             \"period_length\": [1e-4,10]},\n",
    "          \"ScaleKernel\": {\"outputscale\": [1e-4,100]},\n",
    "          \"WhiteNoiseKernel\": {'lengthscale': [1e-4,1]},\n",
    "          \"CosineKernel\": {\"period_length\": [1e-4,10]},\n",
    "          \"Noise\": [1,1e-1],\n",
    "          \"Mean\": [0.0,1.0]}\n"
   ]
  },
  {
   "cell_type": "code",
   "execution_count": 6,
   "id": "a4e6f1e3",
   "metadata": {},
   "outputs": [
    {
     "name": "stdout",
     "output_type": "stream",
     "text": [
      "15\n"
     ]
    }
   ],
   "source": [
    "random_repeats = 10000\n",
    "training_iter = 100\n",
    "try:\n",
    "    for j in range(random_repeats):\n",
    "        likelihood = gpytorch.likelihoods.GaussianLikelihood()\n",
    "        model = ExactGPModel(X, Y, likelihood, gpytorch.kernels.ScaleKernel(gpytorch.kernels.PeriodicKernel()) + gpytorch.kernels.ScaleKernel(gpytorch.kernels.PeriodicKernel()))\n",
    "        # Use the adam optimizer\n",
    "        #optimizer = torch.optim.Adam(model.parameters(), lr=0.1)  # Includes GaussianLikelihood parameters\n",
    "\n",
    "        # \"Loss\" for GPs - the marginal log likelihood\n",
    "        mll = gpytorch.mlls.ExactMarginalLogLikelihood(likelihood, model)\n",
    "        model.optimize_hyperparameters()\n",
    "        #likelihood.noise_covar.noise = torch.rand(1) + 0.001\n",
    "        log_loss = -model.get_current_loss() * model.train_inputs[0].numel()\n",
    "        2*log_loss + 2*sum(p.numel() for p in model.parameters() if p.requires_grad)\n",
    "        #for kernel in get_kernels_in_kernel_expression(model.covar_module):\n",
    "        #    hypers = limits[kernel._get_name()]\n",
    "        #    for hyperparameter in hypers:\n",
    "        #        new_value = torch.rand(1) *4 + 0.001\n",
    "        #        setattr(kernel, hyperparameter, new_value)\n",
    "except:\n",
    "    print(j)"
   ]
  },
  {
   "cell_type": "code",
   "execution_count": null,
   "id": "df7a8f64",
   "metadata": {},
   "outputs": [],
   "source": []
  }
 ],
 "metadata": {
  "kernelspec": {
   "display_name": "Python 3",
   "language": "python",
   "name": "python3"
  },
  "language_info": {
   "codemirror_mode": {
    "name": "ipython",
    "version": 3
   },
   "file_extension": ".py",
   "mimetype": "text/x-python",
   "name": "python",
   "nbconvert_exporter": "python",
   "pygments_lexer": "ipython3",
   "version": "3.10.2"
  }
 },
 "nbformat": 4,
 "nbformat_minor": 5
}
