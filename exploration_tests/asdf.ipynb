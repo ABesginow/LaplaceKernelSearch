{
 "cells": [
  {
   "cell_type": "markdown",
   "metadata": {},
   "source": [
    "**Goal**    \n",
    "Exploration of various metrics and behaviours for different model selection criteria"
   ]
  },
  {
   "cell_type": "code",
   "execution_count": 57,
   "metadata": {},
   "outputs": [],
   "source": [
    "import sys\n",
    "sys.path.insert(1, \"..\")\n",
    "import pprint\n",
    "import gpytorch\n",
    "import torch\n",
    "import numpy as np\n",
    "import metrics\n",
    "import copy\n",
    "import configparser\n",
    "from experiment_functions import Experiment\n",
    "from GaussianProcess import ExactGPModel\n",
    "from globalParams import options, hyperparameter_limits\n",
    "import gpytorch\n",
    "from helpFunctions import get_string_representation_of_kernel as gsr\n",
    "from helpFunctions import clean_kernel_expression\n",
    "from helpFunctions import get_kernels_in_kernel_expression, get_full_kernels_in_kernel_expression\n",
    "from helpFunctions import amount_of_base_kernels\n",
    "from itertools import product\n",
    "import json\n",
    "from kernelSearch import *\n",
    "from matplotlib import pyplot as plt\n",
    "from metrics import *\n",
    "from multiprocessing import Pool\n",
    "import numpy as np\n",
    "import os\n",
    "import pdb\n",
    "import pickle\n",
    "import random\n",
    "import tikzplotlib\n",
    "import time\n",
    "import torch\n",
    "from tqdm import tqdm\n",
    "from scipy.stats import multivariate_normal\n",
    "import matplotlib.pyplot as plt\n",
    "from pygranso.pygranso import pygranso\n",
    "from pygranso.pygransoStruct import pygransoStruct\n",
    "from pygranso.private.getNvar import getNvarTorch"
   ]
  },
  {
   "cell_type": "code",
   "execution_count": 58,
   "metadata": {},
   "outputs": [],
   "source": [
    "def random_reinit(model):\n",
    "    for i, (param, limit) in enumerate(zip(model.parameters(), [{\"Noise\": hyperparameter_limits[\"Noise\"]},*[hyperparameter_limits[kernel] for kernel in get_full_kernels_in_kernel_expression(model.covar_module)]])):\n",
    "        covar_text = gsr(model.covar_module)\n",
    "        param_name = list(limit.keys())[0]\n",
    "        new_param_value = torch.randn_like(param) * (limit[param_name][1] - limit[param_name][0]) + limit[param_name][0]\n",
    "        param.data = new_param_value\n",
    "\n",
    "\n",
    "def optimize_hyperparameters(model, likelihood, **kwargs):\n",
    "    \"\"\"\n",
    "    find optimal hyperparameters either by BO or by starting from random initial values multiple times, using an optimizer every time\n",
    "    and then returning the best result\n",
    "    \"\"\"\n",
    "    random_restarts = kwargs.get(\"random_restarts\", options[\"training\"][\"restarts\"]+1)\n",
    "    # Use kwargs if not None, otherwise use the default values\n",
    "    train_x = kwargs.get(\"train_x\", model.train_inputs[0])\n",
    "    train_y = kwargs.get(\"train_y\", model.train_targets)\n",
    "\n",
    "    # Define the negative log likelihood\n",
    "    mll = gpytorch.mlls.ExactMarginalLogLikelihood(likelihood, model)\n",
    "\n",
    "    # Set up the PyGRANSO optimizer\n",
    "    opts = pygransoStruct()\n",
    "    opts.torch_device = torch.device('cpu')\n",
    "    nvar = getNvarTorch(model.parameters())\n",
    "    opts.x0 = torch.nn.utils.parameters_to_vector(model.parameters()).detach().reshape(nvar,1)\n",
    "    opts.opt_tol = 1e-10\n",
    "    opts.limited_mem_size = 100\n",
    "    opts.globalAD = True\n",
    "    opts.quadprog_info_msg = False\n",
    "    opts.print_level = 0\n",
    "    opts.halt_on_linesearch_bracket = False\n",
    "    opts.double_precision = False\n",
    "\n",
    "    # Define the objective function\n",
    "    def objective_function(model):\n",
    "        output = model(train_x)\n",
    "        loss = -mll(output, train_y)\n",
    "        log_p = metrics.log_normalized_prior(model)\n",
    "        loss -= log_p\n",
    "        return [loss, None, None]\n",
    "\n",
    "    best_model_state_dict = model.state_dict()\n",
    "    best_likelihood_state_dict = likelihood.state_dict()\n",
    "\n",
    "    random_restarts = 5\n",
    "    best_f = np.inf\n",
    "    for restart in range(random_restarts):\n",
    "        # Train the model using PyGRANSO\n",
    "        soln = pygranso(var_spec=model, combined_fn=objective_function, user_opts=opts)\n",
    "        if soln.final.f < best_f:\n",
    "            best_f = soln.final.f\n",
    "            best_model_state_dict = model.state_dict()\n",
    "            best_likelihood_state_dict = likelihood.state_dict()\n",
    "        print(f\"post training (final): {list(model.named_parameters())} w. loss: {soln.final.f}\")\n",
    "        random_reinit(model)\n",
    "\n",
    "    model.load_state_dict(best_model_state_dict)\n",
    "    likelihood.load_state_dict(best_likelihood_state_dict)\n",
    "\n",
    "    loss = -mll(model(train_x), train_y)\n",
    "    log_p = metrics.log_normalized_prior(model)\n",
    "    loss -= log_p\n",
    "\n",
    "    print(f\"post training (best): {list(model.named_parameters())} w. loss: {soln.best.f}\")\n",
    "    print(f\"post training (final): {list(model.named_parameters())} w. loss: {soln.final.f}\")\n",
    "    print(torch.autograd.grad(loss, [p for p in model.parameters()], retain_graph=True, create_graph=True, allow_unused=True))\n",
    "    # Return the trained model\n",
    "    return loss, model, likelihood\n",
    "\n",
    "def get_std_points(mu, K):\n",
    "    x, y = np.mgrid[-3:3:.1, -3:3:.1]\n",
    "    rv = multivariate_normal(mu, K)\n",
    "    L = np.linalg.cholesky(K)\n",
    "\n",
    "    data = np.dstack((x, y))\n",
    "    z = rv.pdf(data)\n",
    "\n",
    "    # Drawing the unit circle\n",
    "    # x^2 + y^2 = 1\n",
    "    precision = 50\n",
    "    unit_x = torch.cat([torch.linspace(-1, 1, precision), torch.linspace(-1, 1, precision)])\n",
    "    unit_y = torch.cat([torch.sqrt(1 - torch.linspace(-1, 1, precision)**2), -torch.sqrt(1 - torch.linspace(-1, 1, precision)**2)])\n",
    "\n",
    "    new_unit_x = list()\n",
    "    new_unit_y = list()\n",
    "\n",
    "    for tx, ty in zip(unit_x, unit_y):\n",
    "        res = np.array([tx, ty]) @ L\n",
    "        new_unit_x.append(mu[0] + 2*res[0])\n",
    "        new_unit_y.append(mu[1] + 2*res[1])\n",
    "    return new_unit_x, new_unit_y"
   ]
  },
  {
   "cell_type": "code",
   "execution_count": 59,
   "metadata": {},
   "outputs": [],
   "source": [
    "# from metrics.py\n",
    "# Used to generate the parameter prior for the specific class of GP kernel and calculate the log propability of this specific parametrization\n",
    "#metrics.prior_distribution()\n",
    "#metrics.log_normalized_prior()"
   ]
  },
  {
   "cell_type": "markdown",
   "metadata": {},
   "source": [
    "# Definitions"
   ]
  },
  {
   "cell_type": "code",
   "execution_count": 60,
   "metadata": {},
   "outputs": [],
   "source": [
    "# Global name\n",
    "generating_model_GP = \"\"\n",
    "evaluating_GP_model = \"\"\n",
    "# timestamp in yyyy-mm-dd-hh-mm-ss\n",
    "timestamp = time.strftime(\"%Y-%m-%d-%H-%M-%S\")\n",
    "\n",
    "log_path = f\"logs/{timestamp}_{evaluating_GP_model}/\""
   ]
  },
  {
   "cell_type": "code",
   "execution_count": 74,
   "metadata": {},
   "outputs": [
    {
     "data": {
      "text/plain": [
       "[<matplotlib.lines.Line2D at 0x7b1a04160250>]"
      ]
     },
     "execution_count": 74,
     "metadata": {},
     "output_type": "execute_result"
    },
    {
     "data": {
      "image/png": "[encoded data removed]",
      "text/plain": [
       "<Figure size 640x480 with 1 Axes>"
      ]
     },
     "metadata": {},
     "output_type": "display_data"
    }
   ],
   "source": [
    "# Data\n",
    "torch.manual_seed(42)\n",
    "END = 1\n",
    "COUNT = 10\n",
    "train_x = torch.linspace(0, END, COUNT)\n",
    "train_y = torch.linspace(0, END, COUNT)\n",
    "train_y += torch.randn(train_x.size()) * torch.sqrt(torch.tensor(0.1))\n",
    "plt.plot(train_x, train_y, \"o\")"
   ]
  },
  {
   "cell_type": "markdown",
   "metadata": {},
   "source": [
    "# Model definition"
   ]
  },
  {
   "cell_type": "code",
   "execution_count": 62,
   "metadata": {},
   "outputs": [],
   "source": [
    "kernel = gpytorch.kernels.RBFKernel()"
   ]
  },
  {
   "cell_type": "code",
   "execution_count": 63,
   "metadata": {},
   "outputs": [],
   "source": [
    "# Simplest GP possible. SE with constant sigma_f \n",
    "class ExactGPModel(gpytorch.models.ExactGP):\n",
    "    def __init__(self, train_x, train_y, likelihood):\n",
    "        super(ExactGPModel, self).__init__(train_x, train_y, likelihood)\n",
    "        self.mean_module = gpytorch.means.ZeroMean()\n",
    "        self.covar_module = gpytorch.kernels.RBFKernel()\n",
    "        #self.covar_module = gpytorch.kernels.ScaleKernel(gpytorch.kernels.MaternKernel())\n",
    "        #self.covar_module = gpytorch.kernels.ScaleKernel(gpytorch.kernels.PeriodicKernel())\n",
    "\n",
    "    def forward(self, x):\n",
    "        mean_x = self.mean_module(x)\n",
    "        covar_x = self.covar_module(x)\n",
    "        return gpytorch.distributions.MultivariateNormal(mean_x, covar_x)\n",
    "\n",
    "# initialize likelihood and model\n",
    "#likelihood = gpytorch.likelihoods.GaussianLikelihood(noise_constraint=gpytorch.constraints.GreaterThan(1e-30))\n",
    "likelihood = gpytorch.likelihoods.GaussianLikelihood()\n",
    "model = ExactGPModel(train_x, train_y, likelihood)"
   ]
  },
  {
   "cell_type": "markdown",
   "metadata": {},
   "source": [
    "# Training"
   ]
  },
  {
   "cell_type": "code",
   "execution_count": 64,
   "metadata": {},
   "outputs": [
    {
     "name": "stdout",
     "output_type": "stream",
     "text": [
      "post training (final): [('likelihood.noise_covar.raw_noise', Parameter containing:\n",
      "tensor([-2.4345], requires_grad=True)), ('covar_module.raw_lengthscale', Parameter containing:\n",
      "tensor([[0.5014]], requires_grad=True))] w. loss: 0.9174181222915649\n",
      "post training (final): [('likelihood.noise_covar.raw_noise', Parameter containing:\n",
      "tensor([-2.4345], requires_grad=True)), ('covar_module.raw_lengthscale', Parameter containing:\n",
      "tensor([[0.5014]], requires_grad=True))] w. loss: 0.9174181222915649\n",
      "post training (final): [('likelihood.noise_covar.raw_noise', Parameter containing:\n",
      "tensor([-2.4345], requires_grad=True)), ('covar_module.raw_lengthscale', Parameter containing:\n",
      "tensor([[0.5014]], requires_grad=True))] w. loss: 0.9174181222915649\n",
      "post training (final): [('likelihood.noise_covar.raw_noise', Parameter containing:\n",
      "tensor([-2.4345], requires_grad=True)), ('covar_module.raw_lengthscale', Parameter containing:\n",
      "tensor([[0.5014]], requires_grad=True))] w. loss: 0.9174181222915649\n",
      "post training (final): [('likelihood.noise_covar.raw_noise', Parameter containing:\n",
      "tensor([-2.4345], requires_grad=True)), ('covar_module.raw_lengthscale', Parameter containing:\n",
      "tensor([[0.5014]], requires_grad=True))] w. loss: 0.9174181222915649\n",
      "post training (best): [('likelihood.noise_covar.raw_noise', Parameter containing:\n",
      "tensor([-2.4345], requires_grad=True)), ('covar_module.raw_lengthscale', Parameter containing:\n",
      "tensor([[0.5014]], requires_grad=True))] w. loss: 0.9174181222915649\n",
      "post training (final): [('likelihood.noise_covar.raw_noise', Parameter containing:\n",
      "tensor([-2.4345], requires_grad=True)), ('covar_module.raw_lengthscale', Parameter containing:\n",
      "tensor([[0.5014]], requires_grad=True))] w. loss: 0.9174181222915649\n",
      "(tensor([-4.3493e-07], grad_fn=<AddBackward0>), tensor([[-3.1665e-08]], grad_fn=<AddBackward0>))\n"
     ]
    }
   ],
   "source": [
    "loss, model, likelihood = optimize_hyperparameters(model, likelihood)"
   ]
  },
  {
   "cell_type": "code",
   "execution_count": 65,
   "metadata": {},
   "outputs": [
    {
     "data": {
      "text/plain": [
       "MultivariateNormal(loc: torch.Size([10]))"
      ]
     },
     "execution_count": 65,
     "metadata": {},
     "output_type": "execute_result"
    }
   ],
   "source": [
    "model(train_x)"
   ]
  },
  {
   "cell_type": "code",
   "execution_count": 66,
   "metadata": {},
   "outputs": [
    {
     "data": {
      "image/png": "[encoded data removed]",
      "text/plain": [
       "<Figure size 400x300 with 1 Axes>"
      ]
     },
     "metadata": {},
     "output_type": "display_data"
    }
   ],
   "source": [
    "# Get into evaluation (predictive posterior) mode\n",
    "model.eval()\n",
    "likelihood.eval()\n",
    "\n",
    "# Test points are regularly spaced along [0,1]\n",
    "# Make predictions by feeding model through likelihood\n",
    "with torch.no_grad(), gpytorch.settings.fast_pred_var():\n",
    "    test_x = torch.linspace(0, 1, 51)\n",
    "    a = model(test_x)\n",
    "    observed_pred = likelihood(a)\n",
    "    \n",
    "with torch.no_grad():\n",
    "    # Initialize plot\n",
    "    f, ax = plt.subplots(1, 1, figsize=(4, 3))\n",
    "\n",
    "    # Get upper and lower confidence bounds\n",
    "    lower, upper = observed_pred.confidence_region()\n",
    "    # Plot training data as black stars\n",
    "    ax.plot(train_x.numpy(), train_y.numpy(), 'k*')\n",
    "    # Plot predictive means as blue line\n",
    "    ax.plot(test_x.numpy(), observed_pred.mean.numpy(), 'b')\n",
    "    # Shade between the lower and upper confidence bounds\n",
    "    ax.fill_between(test_x.numpy(), lower.numpy(), upper.numpy(), alpha=0.5)\n",
    "    ax.set_ylim([-3, 3])\n",
    "    ax.legend(['Observed Data', 'Mean', 'Confidence'])"
   ]
  },
  {
   "cell_type": "markdown",
   "metadata": {},
   "source": [
    "# Laplace"
   ]
  },
  {
   "cell_type": "code",
   "execution_count": 67,
   "metadata": {},
   "outputs": [
    {
     "name": "stdout",
     "output_type": "stream",
     "text": [
      "tensor(-13.7794, grad_fn=<AddBackward0>)\n",
      "{'neg MLL': tensor(9.1742, dtype=torch.float32, grad_fn=<NegBackward0>), 'punish term': tensor(-4.6052), 'laplace without replacement': tensor(-7.7858, grad_fn=<SubBackward0>), 'num_replaced': tensor(2), 'parameter list': ['likelihood.noise_covar.raw_noise', 'covar_module.raw_lengthscale'], 'Jacobian': (tensor([-3.8072e-06], dtype=torch.float32, grad_fn=<AddBackward0>), tensor([[-8.9407e-07]], dtype=torch.float32, grad_fn=<AddBackward0>)), 'parameter values': tensor([[-2.4345],\n",
      "        [ 0.5014]], dtype=torch.float32), 'corrected Hessian': tensor([[628.3185,   0.0000],\n",
      "        [  0.0000, 628.3185]]), 'diag(constructed eigvals)': tensor([628.3185, 628.3185]), 'original symmetrized Hessian': tensor([[3.7372, 0.0875],\n",
      "        [0.0875, 0.6595]]), 'prior mean': tensor([[-3.5164],\n",
      "        [-0.2122]]), 'diag(prior var)': tensor([12.8388,  3.5704]), 'likelihood approximation': tensor(-13.7794, grad_fn=<AddBackward0>), 'Derivative time': 0.0015764236450195312, 'Approximation time': 0.0029497146606445312, 'Correction time': 0.002170562744140625, 'Prior generation time': 9.465217590332031e-05, 'Total time': 0.5296030044555664}\n"
     ]
    },
    {
     "name": "stderr",
     "output_type": "stream",
     "text": [
      "/home/besginow/code/LaplaceKernelSearch/exploration_tests/../metrics.py:148: UserWarning: To copy construct from a tensor, it is recommended to use sourceTensor.clone().detach() or sourceTensor.clone().detach().requires_grad_(True), rather than torch.tensor(sourceTensor).\n",
      "  [max(val, (torch.exp(torch.tensor(-2*param_punish_term))*(2*torch.pi))) for i, val in enumerate(vals)]))\n"
     ]
    }
   ],
   "source": [
    "model.train()\n",
    "likelihood.train()\n",
    "\n",
    "lap, lap_log = metrics.calculate_laplace(model, -loss*COUNT, with_prior=True, param_punish_term=\"BIC\")\n",
    "print(lap)\n",
    "print(lap_log)"
   ]
  },
  {
   "cell_type": "markdown",
   "metadata": {},
   "source": [
    "# AIC"
   ]
  },
  {
   "cell_type": "code",
   "execution_count": 70,
   "metadata": {},
   "outputs": [
    {
     "name": "stdout",
     "output_type": "stream",
     "text": [
      "tensor(-5.8348, dtype=torch.float32, grad_fn=<AddBackward0>)\n",
      "{'punish term': 4, 'Total time': 8.988380432128906e-05, 'loss term': tensor(-1.8348, dtype=torch.float32, grad_fn=<MulBackward0>)}\n"
     ]
    }
   ],
   "source": [
    "model.train()\n",
    "likelihood.train()\n",
    "\n",
    "aic, aic_log = metrics.calculate_AIC(-loss, len(list(model.parameters())))\n",
    "print(aic)\n",
    "print(aic_log)"
   ]
  },
  {
   "cell_type": "markdown",
   "metadata": {},
   "source": [
    "# BIC"
   ]
  },
  {
   "cell_type": "code",
   "execution_count": 77,
   "metadata": {},
   "outputs": [
    {
     "name": "stdout",
     "output_type": "stream",
     "text": [
      "tensor(-6.4400, grad_fn=<AddBackward0>)\n",
      "{'punish term': tensor(-4.6052), 'Total time': 0.0009815692901611328, 'loss term': tensor(-1.8348, dtype=torch.float32, grad_fn=<MulBackward0>)}\n"
     ]
    }
   ],
   "source": [
    "model.train()\n",
    "likelihood.train()\n",
    "\n",
    "bic, bic_log = metrics.calculate_BIC(-loss, len(list(model.parameters())), torch.tensor(COUNT))\n",
    "print(bic)\n",
    "print(bic_log)"
   ]
  },
  {
   "cell_type": "markdown",
   "metadata": {},
   "source": [
    "# Nested Sampling (Model evidence)"
   ]
  },
  {
   "cell_type": "code",
   "execution_count": 80,
   "metadata": {},
   "outputs": [
    {
     "name": "stdout",
     "output_type": "stream",
     "text": [
      "Random seed: 961158\n"
     ]
    },
    {
     "name": "stderr",
     "output_type": "stream",
     "text": [
      "0it [00:00, ?it/s]/home/besginow/anaconda3/envs/sage/lib/python3.10/site-packages/dynesty/dynamicsampler.py:447: RuntimeWarning: overflow encountered in cast\n",
      "  cur_live_logl[not_finite] = _LOWL_VAL\n",
      "10962it [01:09, 372.48it/s, batch: 7 | bound: 1 | nc: 1 | ncall: 60965 | eff(%): 17.638 | loglstar: -11.305 < -5.714 < -5.790 | logz: -7.988 +/-  0.038 | stop:  1.301]         /home/besginow/anaconda3/envs/sage/lib/python3.10/site-packages/dynesty/dynamicsampler.py:447: RuntimeWarning: overflow encountered in cast\n",
      "  cur_live_logl[not_finite] = _LOWL_VAL\n",
      "13596it [01:25, 158.57it/s, batch: 8 | bound: 0 | nc: 1 | ncall: 77395 | eff(%): 17.567 | loglstar:   -inf < -5.288 < -5.801 | logz: -7.976 +/-  0.036 | stop:  0.926]  "
     ]
    },
    {
     "name": "stdout",
     "output_type": "stream",
     "text": [
      "-7.98679860424999\n",
      "{'Sample time': 85.74566149711609, 'log Z': -7.98679860424999, 'log Z err': 0.03447732524398884, 'prior mean': tensor([[-3.5164],\n",
      "        [-0.2122]]), 'prior cov': tensor([[12.8388,  0.0000],\n",
      "        [ 0.0000,  3.5704]]), 'dynamic': True, 'num sampled': 13596, 'parameter statistics': {'mu': array([-2.39020751,  0.44988346]), 'std': array([1.51736691, 1.29573373])}, 'res file': 'Nested_results/res_1726749677.8344626.pkl'}\n"
     ]
    },
    {
     "name": "stderr",
     "output_type": "stream",
     "text": [
      "\n"
     ]
    }
   ],
   "source": [
    "model.train()\n",
    "likelihood.train()\n",
    "\n",
    "model_evidence, model_evidence_log = metrics.NestedSampling(model, \n",
    "                                                            print_progress=True,\n",
    "                                                            store_samples = True,\n",
    "                                                            store_likelihoods = True,\n",
    "                                                            store_full = True\n",
    "                                                            )\n",
    "print(model_evidence)\n",
    "print(model_evidence_log)"
   ]
  }
 ],
 "metadata": {
  "kernelspec": {
   "display_name": "sage",
   "language": "python",
   "name": "python3"
  },
  "language_info": {
   "codemirror_mode": {
    "name": "ipython",
    "version": 3
   },
   "file_extension": ".py",
   "mimetype": "text/x-python",
   "name": "python",
   "nbconvert_exporter": "python",
   "pygments_lexer": "ipython3",
   "version": "3.10.2"
  }
 },
 "nbformat": 4,
 "nbformat_minor": 2
}
