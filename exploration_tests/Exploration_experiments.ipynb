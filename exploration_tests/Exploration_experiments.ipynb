{
 "cells": [
  {
   "cell_type": "markdown",
   "metadata": {},
   "source": [
    "**Goal**    \n",
    "Exploration of various metrics and behaviours for different model selection criteria"
   ]
  },
  {
   "cell_type": "code",
   "execution_count": 154,
   "metadata": {},
   "outputs": [],
   "source": [
    "import sys\n",
    "sys.path.insert(1, \"..\")\n",
    "import pprint\n",
    "import torch\n",
    "import numpy as np\n",
    "import metrics\n",
    "import copy\n",
    "import configparser\n",
    "from experiment_functions import Experiment\n",
    "from GaussianProcess import ExactGPModel\n",
    "from globalParams import options, hyperparameter_limits\n",
    "import gpytorch\n",
    "from helpFunctions import get_string_representation_of_kernel as gsr\n",
    "from helpFunctions import clean_kernel_expression\n",
    "from helpFunctions import get_kernels_in_kernel_expression, get_full_kernels_in_kernel_expression\n",
    "from helpFunctions import amount_of_base_kernels\n",
    "from itertools import product\n",
    "import json\n",
    "from kernelSearch import *\n",
    "from matplotlib import pyplot as plt\n",
    "from matplotlib.patches import Ellipse\n",
    "import matplotlib.transforms as transforms\n",
    "from metrics import *\n",
    "from multiprocessing import Pool\n",
    "import numpy as np\n",
    "import os\n",
    "import pdb\n",
    "import pickle\n",
    "import random\n",
    "import tikzplotlib\n",
    "import time\n",
    "import torch\n",
    "from tqdm import tqdm\n",
    "from scipy.stats import multivariate_normal\n",
    "import matplotlib.pyplot as plt\n",
    "import pprint\n",
    "from pygranso.pygranso import pygranso\n",
    "from pygranso.pygransoStruct import pygransoStruct\n",
    "from pygranso.private.getNvar import getNvarTorch"
   ]
  },
  {
   "cell_type": "code",
   "execution_count": 155,
   "metadata": {},
   "outputs": [],
   "source": [
    "# Stolen from https://matplotlib.org/stable/gallery/statistics/confidence_ellipse.html\n",
    "def confidence_ellipse(mu, K, ax, n_std=3.0, facecolor='none', **kwargs):\n",
    "    \"\"\"\n",
    "    Create a plot of the covariance confidence ellipse of *x* and *y*.\n",
    "\n",
    "    Parameters\n",
    "    ----------\n",
    "    x, y : array-like, shape (n, )\n",
    "        Input data.\n",
    "\n",
    "    ax : matplotlib.axes.Axes\n",
    "        The Axes object to draw the ellipse into.\n",
    "\n",
    "    n_std : float\n",
    "        The number of standard deviations to determine the ellipse's radiuses.\n",
    "\n",
    "    **kwargs\n",
    "        Forwarded to `~matplotlib.patches.Ellipse`\n",
    "\n",
    "    Returns\n",
    "    -------\n",
    "    matplotlib.patches.Ellipse\n",
    "    \"\"\"\n",
    "\n",
    "    cov = K\n",
    "    pearson = cov[0, 1]/np.sqrt(cov[0, 0] * cov[1, 1])\n",
    "    # Using a special case to obtain the eigenvalues of this\n",
    "    # two-dimensional dataset.\n",
    "    ell_radius_x = np.sqrt(1 + pearson)\n",
    "    ell_radius_y = np.sqrt(1 - pearson)\n",
    "    ellipse = Ellipse((0, 0), width=ell_radius_x * 2, height=ell_radius_y * 2,\n",
    "                      facecolor=facecolor, **kwargs)\n",
    "\n",
    "    # Calculating the standard deviation of x from\n",
    "    # the squareroot of the variance and multiplying\n",
    "    # with the given number of standard deviations.\n",
    "    scale_x = np.sqrt(cov[0, 0]) * n_std\n",
    "    mean_x = mu[0] \n",
    "\n",
    "    # calculating the standard deviation of y ...\n",
    "    scale_y = np.sqrt(cov[1, 1]) * n_std\n",
    "    mean_y = mu[1]\n",
    "\n",
    "    transf = transforms.Affine2D() \\\n",
    "        .rotate_deg(45) \\\n",
    "        .scale(scale_x, scale_y) \\\n",
    "        .translate(mean_x, mean_y)\n",
    "\n",
    "    ellipse.set_transform(transf + ax.transData)\n",
    "    return ax.add_patch(ellipse)"
   ]
  },
  {
   "cell_type": "code",
   "execution_count": 156,
   "metadata": {},
   "outputs": [],
   "source": [
    "def random_reinit(model):\n",
    "    for i, (param, limit) in enumerate(zip(model.parameters(), [{\"Noise\": hyperparameter_limits[\"Noise\"]},*[hyperparameter_limits[kernel] for kernel in get_full_kernels_in_kernel_expression(model.covar_module)]])):\n",
    "        covar_text = gsr(model.covar_module)\n",
    "        param_name = list(limit.keys())[0]\n",
    "        new_param_value = torch.randn_like(param) * (limit[param_name][1] - limit[param_name][0]) + limit[param_name][0]\n",
    "        param.data = new_param_value\n",
    "\n",
    "\n",
    "def optimize_hyperparameters(model, likelihood, **kwargs):\n",
    "    \"\"\"\n",
    "    find optimal hyperparameters either by BO or by starting from random initial values multiple times, using an optimizer every time\n",
    "    and then returning the best result\n",
    "    \"\"\"\n",
    "    random_restarts = kwargs.get(\"random_restarts\", options[\"training\"][\"restarts\"]+1)\n",
    "    # Use kwargs if not None, otherwise use the default values\n",
    "    train_x = kwargs.get(\"train_x\", model.train_inputs[0])\n",
    "    train_y = kwargs.get(\"train_y\", model.train_targets)\n",
    "\n",
    "    # Define the negative log likelihood\n",
    "    mll = gpytorch.mlls.ExactMarginalLogLikelihood(likelihood, model)\n",
    "\n",
    "    # Set up the PyGRANSO optimizer\n",
    "    opts = pygransoStruct()\n",
    "    opts.torch_device = torch.device('cpu')\n",
    "    nvar = getNvarTorch(model.parameters())\n",
    "    opts.x0 = torch.nn.utils.parameters_to_vector(model.parameters()).detach().reshape(nvar,1)\n",
    "    opts.opt_tol = 1e-10\n",
    "    opts.limited_mem_size = 100\n",
    "    opts.globalAD = True\n",
    "    opts.quadprog_info_msg = False\n",
    "    opts.print_level = 0\n",
    "    opts.halt_on_linesearch_bracket = False\n",
    "    opts.double_precision = False\n",
    "\n",
    "    # Define the objective function\n",
    "    def objective_function(model):\n",
    "        output = model(train_x)\n",
    "        loss = -mll(output, train_y)\n",
    "        log_p = metrics.log_normalized_prior(model)\n",
    "        loss -= log_p\n",
    "        return [loss, None, None]\n",
    "\n",
    "    best_model_state_dict = model.state_dict()\n",
    "    best_likelihood_state_dict = likelihood.state_dict()\n",
    "\n",
    "    random_restarts = 5\n",
    "    best_f = np.inf\n",
    "    for restart in range(random_restarts):\n",
    "        # Train the model using PyGRANSO\n",
    "        soln = pygranso(var_spec=model, combined_fn=objective_function, user_opts=opts)\n",
    "        if soln.final.f < best_f:\n",
    "            best_f = soln.final.f\n",
    "            best_model_state_dict = model.state_dict()\n",
    "            best_likelihood_state_dict = likelihood.state_dict()\n",
    "        print(f\"post training (final): {list(model.named_parameters())} w. loss: {soln.final.f}\")\n",
    "        random_reinit(model)\n",
    "\n",
    "    model.load_state_dict(best_model_state_dict)\n",
    "    likelihood.load_state_dict(best_likelihood_state_dict)\n",
    "\n",
    "    loss = -mll(model(train_x), train_y)\n",
    "    log_p = metrics.log_normalized_prior(model)\n",
    "    loss -= log_p\n",
    "\n",
    "    print(f\"post training (best): {list(model.named_parameters())} w. loss: {soln.best.f}\")\n",
    "    print(f\"post training (final): {list(model.named_parameters())} w. loss: {soln.final.f}\")\n",
    "    print(torch.autograd.grad(loss, [p for p in model.parameters()], retain_graph=True, create_graph=True, allow_unused=True))\n",
    "    # Return the trained model\n",
    "    return loss, model, likelihood\n",
    "\n",
    "def get_std_points(mu, K):\n",
    "    x, y = np.mgrid[-3:3:.1, -3:3:.1]\n",
    "    rv = multivariate_normal(mu, K)\n",
    "    L = np.linalg.cholesky(K)\n",
    "\n",
    "    data = np.dstack((x, y))\n",
    "    z = rv.pdf(data)\n",
    "\n",
    "    # Drawing the unit circle\n",
    "    # x^2 + y^2 = 1\n",
    "    precision = 50\n",
    "    unit_x = torch.cat([torch.linspace(-1, 1, precision), torch.linspace(-1, 1, precision)])\n",
    "    unit_y = torch.cat([torch.sqrt(1 - torch.linspace(-1, 1, precision)**2), -torch.sqrt(1 - torch.linspace(-1, 1, precision)**2)])\n",
    "\n",
    "    new_unit_x = list()\n",
    "    new_unit_y = list()\n",
    "\n",
    "    for tx, ty in zip(unit_x, unit_y):\n",
    "        res = np.array([tx, ty]) @ L\n",
    "        new_unit_x.append(mu[0] + 2*res[0])\n",
    "        new_unit_y.append(mu[1] + 2*res[1])\n",
    "    return new_unit_x, new_unit_y\n",
    "\n",
    "\n",
    "# Find all points inside the confidence ellipse\n",
    "def percentage_inside_ellipse(mu, K, points, sigma_level=2):\n",
    "    L = np.linalg.cholesky(K)\n",
    "    threshold = sigma_level ** 2\n",
    "    count = 0\n",
    "    for point in points:\n",
    "        res = np.array(point - mu) @ np.linalg.inv(L)\n",
    "        if res @ res <= threshold:\n",
    "            count += 1\n",
    "    return count / len(points)"
   ]
  },
  {
   "cell_type": "code",
   "execution_count": 157,
   "metadata": {},
   "outputs": [],
   "source": [
    "# from metrics.py\n",
    "# Used to generate the parameter prior for the specific class of GP kernel and calculate the log propability of this specific parametrization\n",
    "#metrics.prior_distribution()\n",
    "#metrics.log_normalized_prior()"
   ]
  },
  {
   "cell_type": "markdown",
   "metadata": {},
   "source": [
    "# Definitions"
   ]
  },
  {
   "cell_type": "code",
   "execution_count": 158,
   "metadata": {},
   "outputs": [],
   "source": [
    "# Global name\n",
    "data_generation = \"linear\" # linear, linear_noise, 2_points\n",
    "COUNT = 2 if data_generation == \"2_points\" else 10\n",
    "evaluating_GP_model = \"RBF\" # RBF, Linear, RQ, MAT32, MAT52; Optionally also \"C*RBF\" etc.\n",
    "# timestamp in yyyy-mm-dd-hh-mm-ss\n",
    "timestamp = time.strftime(\"%Y-%m-%d-%H-%M-%S\")\n",
    "\n",
    "log_path = f\"logs/{timestamp}_{data_generation}{COUNT}-{evaluating_GP_model}\"\n",
    "# Create the log directory\n",
    "os.makedirs(log_path)"
   ]
  },
  {
   "cell_type": "code",
   "execution_count": 159,
   "metadata": {},
   "outputs": [
    {
     "data": {
      "text/plain": [
       "[<matplotlib.lines.Line2D at 0x7a5baa18dde0>]"
      ]
     },
     "execution_count": 159,
     "metadata": {},
     "output_type": "execute_result"
    },
    {
     "data": {
      "image/png": "[encoded data removed]",
      "text/plain": [
       "<Figure size 640x480 with 1 Axes>"
      ]
     },
     "metadata": {},
     "output_type": "display_data"
    }
   ],
   "source": [
    "# Data\n",
    "torch.manual_seed(42)\n",
    "END = 1\n",
    "\n",
    "train_x = torch.linspace(0, END, COUNT)\n",
    "\n",
    "if \"linear\" in data_generation:\n",
    "    train_y = torch.linspace(0, END, COUNT)\n",
    "elif data_generation == \"2_points\":\n",
    "    train_y = torch.tensor([0, 1])\n",
    "if \"noise\" in data_generation:\n",
    "    train_y += torch.randn(train_x.size()) * torch.sqrt(torch.tensor(0.1))\n",
    "plt.plot(train_x, train_y, \"o\")"
   ]
  },
  {
   "cell_type": "markdown",
   "metadata": {},
   "source": [
    "# Model definition"
   ]
  },
  {
   "cell_type": "code",
   "execution_count": 160,
   "metadata": {},
   "outputs": [],
   "source": [
    "# RBF, Linear, RQ, MAT32, MAT52\n",
    "if evaluating_GP_model == \"RBF\":\n",
    "    kernel = gpytorch.kernels.RBFKernel()\n",
    "elif evaluating_GP_model == \"Linear\":\n",
    "    kernel = gpytorch.kernels.LinearKernel()\n",
    "elif evaluating_GP_model == \"RQ\":\n",
    "    kernel = gpytorch.kernels.RQKernel()\n",
    "elif evaluating_GP_model == \"MAT32\":\n",
    "    kernel = gpytorch.kernels.MaternKernel(nu=3/2)\n",
    "elif evaluating_GP_model == \"MAT52\":\n",
    "    kernel = gpytorch.kernels.MaternKernel(nu=5/2)\n",
    "\n",
    "\n",
    "if \"C*\" in evaluating_GP_model:\n",
    "    kernel = gpytorch.kernels.ScaleKernel(kernel)\n"
   ]
  },
  {
   "cell_type": "code",
   "execution_count": 161,
   "metadata": {},
   "outputs": [],
   "source": [
    "# Simplest GP possible. SE with constant sigma_f \n",
    "class ExactGPModel(gpytorch.models.ExactGP):\n",
    "    def __init__(self, train_x, train_y, likelihood, kernel):\n",
    "        super(ExactGPModel, self).__init__(train_x, train_y, likelihood)\n",
    "        self.mean_module = gpytorch.means.ZeroMean()\n",
    "        self.covar_module = kernel \n",
    "\n",
    "    def forward(self, x):\n",
    "        mean_x = self.mean_module(x)\n",
    "        covar_x = self.covar_module(x)\n",
    "        return gpytorch.distributions.MultivariateNormal(mean_x, covar_x)\n",
    "\n",
    "# initialize likelihood and model\n",
    "likelihood = gpytorch.likelihoods.GaussianLikelihood()\n",
    "model = ExactGPModel(train_x, train_y, likelihood, kernel)"
   ]
  },
  {
   "cell_type": "markdown",
   "metadata": {},
   "source": [
    "# Training"
   ]
  },
  {
   "cell_type": "code",
   "execution_count": 162,
   "metadata": {},
   "outputs": [
    {
     "name": "stdout",
     "output_type": "stream",
     "text": [
      "post training (final): [('likelihood.noise_covar.raw_noise', Parameter containing:\n",
      "tensor([-10.7142], requires_grad=True)), ('covar_module.raw_lengthscale', Parameter containing:\n",
      "tensor([[1.6714]], requires_grad=True))] w. loss: -1.5920192077843662\n",
      "post training (final): [('likelihood.noise_covar.raw_noise', Parameter containing:\n",
      "tensor([-10.7142], requires_grad=True)), ('covar_module.raw_lengthscale', Parameter containing:\n",
      "tensor([[1.6714]], requires_grad=True))] w. loss: -1.5920192077843662\n",
      "post training (final): [('likelihood.noise_covar.raw_noise', Parameter containing:\n",
      "tensor([-10.7142], requires_grad=True)), ('covar_module.raw_lengthscale', Parameter containing:\n",
      "tensor([[1.6714]], requires_grad=True))] w. loss: -1.5920192077843662\n",
      "post training (final): [('likelihood.noise_covar.raw_noise', Parameter containing:\n",
      "tensor([-10.7142], requires_grad=True)), ('covar_module.raw_lengthscale', Parameter containing:\n",
      "tensor([[1.6714]], requires_grad=True))] w. loss: -1.5920192077843662\n",
      "post training (final): [('likelihood.noise_covar.raw_noise', Parameter containing:\n",
      "tensor([-10.7142], requires_grad=True)), ('covar_module.raw_lengthscale', Parameter containing:\n",
      "tensor([[1.6714]], requires_grad=True))] w. loss: -1.5920192077843662\n",
      "post training (best): [('likelihood.noise_covar.raw_noise', Parameter containing:\n",
      "tensor([-10.7142], requires_grad=True)), ('covar_module.raw_lengthscale', Parameter containing:\n",
      "tensor([[1.6714]], requires_grad=True))] w. loss: -1.5920192077843662\n",
      "post training (final): [('likelihood.noise_covar.raw_noise', Parameter containing:\n",
      "tensor([-10.7142], requires_grad=True)), ('covar_module.raw_lengthscale', Parameter containing:\n",
      "tensor([[1.6714]], requires_grad=True))] w. loss: -1.5920192077843662\n",
      "(tensor([-3.7503e-08], grad_fn=<AddBackward0>), tensor([[-3.2528e-09]], grad_fn=<AddBackward0>))\n"
     ]
    }
   ],
   "source": [
    "loss, model, likelihood = optimize_hyperparameters(model, likelihood)"
   ]
  },
  {
   "cell_type": "code",
   "execution_count": 163,
   "metadata": {},
   "outputs": [
    {
     "data": {
      "image/png": "[encoded data removed]",
      "text/plain": [
       "<Figure size 400x300 with 1 Axes>"
      ]
     },
     "metadata": {},
     "output_type": "display_data"
    }
   ],
   "source": [
    "# Get into evaluation (predictive posterior) mode\n",
    "model.eval()\n",
    "likelihood.eval()\n",
    "\n",
    "# Test points are regularly spaced along [0,1]\n",
    "# Make predictions by feeding model through likelihood\n",
    "with torch.no_grad(), gpytorch.settings.fast_pred_var():\n",
    "    test_x = torch.linspace(0, 1, 51)\n",
    "    a = model(test_x)\n",
    "    observed_pred = likelihood(a)\n",
    "    \n",
    "with torch.no_grad():\n",
    "    # Initialize plot\n",
    "    f, ax = plt.subplots(1, 1, figsize=(4, 3))\n",
    "\n",
    "    # Get upper and lower confidence bounds\n",
    "    lower, upper = observed_pred.confidence_region()\n",
    "    # Plot training data as black stars\n",
    "    ax.plot(train_x.numpy(), train_y.numpy(), 'k*')\n",
    "    # Plot predictive means as blue line\n",
    "    ax.plot(test_x.numpy(), observed_pred.mean.numpy(), 'b')\n",
    "    # Shade between the lower and upper confidence bounds\n",
    "    ax.fill_between(test_x.numpy(), lower.numpy(), upper.numpy(), alpha=0.5)\n",
    "    ax.set_ylim([-3, 3])\n",
    "    ax.legend(['Observed Data', 'Mean', 'Confidence'])\n",
    "\n",
    "    plt.savefig(f\"{log_path}/gp_fit.png\")"
   ]
  },
  {
   "cell_type": "markdown",
   "metadata": {},
   "source": [
    "# Laplace"
   ]
  },
  {
   "cell_type": "code",
   "execution_count": 164,
   "metadata": {},
   "outputs": [],
   "source": [
    "model.train()\n",
    "likelihood.train()\n",
    "\n",
    "lap, lap_log = metrics.calculate_laplace(model, -loss*COUNT, with_prior=True, param_punish_term=0.0) # Param_punish 0.0, -1.0, BIC\n",
    "lap_param_mu = lap_log[\"parameter values\"]\n",
    "lap_param_std = lap_log[\"corrected Hessian\"]"
   ]
  },
  {
   "cell_type": "code",
   "execution_count": 165,
   "metadata": {},
   "outputs": [
    {
     "name": "stdout",
     "output_type": "stream",
     "text": [
      "tensor(15.9201, grad_fn=<AddBackward0>)\n",
      "{'Approximation time': 0.00022339820861816406,\n",
      " 'Correction time': 0.00011301040649414062,\n",
      " 'Derivative time': 0.0012578964233398438,\n",
      " 'Jacobian': (tensor([-3.7503e-07], grad_fn=<AddBackward0>),\n",
      "              tensor([[-3.2528e-08]], grad_fn=<AddBackward0>)),\n",
      " 'Prior generation time': 8.440017700195312e-05,\n",
      " 'Total time': 0.0016551017761230469,\n",
      " 'corrected Hessian': tensor([[6.2832, 0.0000],\n",
      "        [0.0000, 6.2832]]),\n",
      " 'diag(constructed eigvals)': tensor([6.2832, 6.2832]),\n",
      " 'diag(prior var)': tensor([12.8388,  3.5704]),\n",
      " 'laplace without replacement': tensor(nan, grad_fn=<SubBackward0>),\n",
      " 'likelihood approximation': tensor(15.9201, grad_fn=<AddBackward0>),\n",
      " 'neg MLL': tensor(-15.9202, grad_fn=<NegBackward0>),\n",
      " 'num_replaced': tensor(2),\n",
      " 'original symmetrized Hessian': tensor([[ 0.5471,  0.0972],\n",
      "        [ 0.0972, -0.4599]]),\n",
      " 'parameter list': ['likelihood.noise_covar.raw_noise',\n",
      "                    'covar_module.raw_lengthscale'],\n",
      " 'parameter values': tensor([[-10.7142],\n",
      "        [  1.6714]]),\n",
      " 'prior mean': tensor([[-3.5164],\n",
      "        [-0.2122]]),\n",
      " 'punish term': tensor(-7.7066e-05)}\n"
     ]
    }
   ],
   "source": [
    "print(lap)\n",
    "pprint.pprint(lap_log)"
   ]
  },
  {
   "cell_type": "markdown",
   "metadata": {},
   "source": [
    "# AIC"
   ]
  },
  {
   "cell_type": "code",
   "execution_count": 166,
   "metadata": {},
   "outputs": [
    {
     "name": "stdout",
     "output_type": "stream",
     "text": [
      "tensor(27.8404, grad_fn=<AddBackward0>)\n",
      "{'punish term': 4, 'Total time': 2.2649765014648438e-05, 'loss term': tensor(31.8404, grad_fn=<MulBackward0>)}\n"
     ]
    }
   ],
   "source": [
    "model.train()\n",
    "likelihood.train()\n",
    "\n",
    "aic, aic_log = metrics.calculate_AIC(-loss*COUNT, len(list(model.parameters())))\n",
    "print(aic)\n",
    "print(aic_log)"
   ]
  },
  {
   "cell_type": "markdown",
   "metadata": {},
   "source": [
    "# BIC"
   ]
  },
  {
   "cell_type": "code",
   "execution_count": 167,
   "metadata": {},
   "outputs": [
    {
     "name": "stdout",
     "output_type": "stream",
     "text": [
      "tensor(27.2352, grad_fn=<AddBackward0>)\n",
      "{'punish term': tensor(-4.6052), 'Total time': 4.4345855712890625e-05, 'loss term': tensor(31.8404, grad_fn=<MulBackward0>)}\n"
     ]
    }
   ],
   "source": [
    "model.train()\n",
    "likelihood.train()\n",
    "\n",
    "bic, bic_log = metrics.calculate_BIC(-loss*COUNT, len(list(model.parameters())), torch.tensor(COUNT))\n",
    "print(bic)\n",
    "print(bic_log)"
   ]
  },
  {
   "cell_type": "markdown",
   "metadata": {},
   "source": [
    "# Nested Sampling (Model evidence)"
   ]
  },
  {
   "cell_type": "code",
   "execution_count": 168,
   "metadata": {},
   "outputs": [
    {
     "name": "stdout",
     "output_type": "stream",
     "text": [
      "Random seed: 245423\n"
     ]
    },
    {
     "name": "stderr",
     "output_type": "stream",
     "text": [
      "13145it [01:48, 120.99it/s, batch: 7 | bound: 4 | nc: 1 | ncall: 85209 | eff(%): 13.666 | loglstar: 17.495 < 22.874 < 22.220 | logz: 17.711 +/-  0.056 | stop:  0.976]          "
     ]
    },
    {
     "name": "stdout",
     "output_type": "stream",
     "text": [
      "17.707192293978856\n",
      "{'Sample time': 108.64391446113586, 'log Z': 17.707192293978856, 'log Z err': 0.05214723074749386, 'prior mean': tensor([[-3.5164],\n",
      "        [-0.2122]]), 'prior cov': tensor([[12.8388,  0.0000],\n",
      "        [ 0.0000,  3.5704]]), 'dynamic': True, 'num sampled': 13145, 'parameter statistics': {'mu': array([-10.72123396,   1.49245136]), 'std': array([2.84672513, 0.93046028])}, 'res file': 'logs/2024-09-26-14-30-05_linear10-RBF/Nested_results/res_1727353915.3004966.pkl'}\n"
     ]
    },
    {
     "name": "stderr",
     "output_type": "stream",
     "text": [
      "\n"
     ]
    }
   ],
   "source": [
    "model.train()\n",
    "likelihood.train()\n",
    "\n",
    "model_evidence, model_evidence_log = metrics.NestedSampling(model, \n",
    "                                                            print_progress=True,\n",
    "                                                            store_samples = True,\n",
    "                                                            store_likelihoods = True,\n",
    "                                                            store_full = True,\n",
    "                                                            pickle_directory = f\"{log_path}/\"\n",
    "                                                            )\n",
    "print(model_evidence)\n",
    "print(model_evidence_log)"
   ]
  },
  {
   "cell_type": "code",
   "execution_count": 169,
   "metadata": {},
   "outputs": [],
   "source": [
    "# unpickle the log file\n",
    "with open(f\"{model_evidence_log['res file']}\", \"rb\") as f:\n",
    "    res = pickle.load(f)"
   ]
  },
  {
   "cell_type": "code",
   "execution_count": 170,
   "metadata": {},
   "outputs": [
    {
     "data": {
      "text/plain": [
       "0.9155572461011792"
      ]
     },
     "execution_count": 170,
     "metadata": {},
     "output_type": "execute_result"
    }
   ],
   "source": [
    "# Calculate the amount of samples that are covered by the 1 sigma and 2 sigma interval based on the lap_mu and lap_cov values\n",
    "lap_2_sig_coverage = percentage_inside_ellipse(lap_param_mu.flatten().numpy(), lap_param_std.numpy(), res.samples)\n",
    "lap_2_sig_coverage"
   ]
  },
  {
   "cell_type": "code",
   "execution_count": 188,
   "metadata": {},
   "outputs": [
    {
     "data": {
      "image/png": "[encoded data removed]",
      "text/plain": [
       "<Figure size 640x480 with 2 Axes>"
      ]
     },
     "metadata": {},
     "output_type": "display_data"
    }
   ],
   "source": [
    "\n",
    "f, ax = plt.subplots()\n",
    "\n",
    "param_names = [l[0] for l in list(model.named_parameters())]\n",
    "xdim = 0\n",
    "ydim = 1\n",
    "\n",
    "# Find the best value and the corresponding hyperparameters\n",
    "best_idx = np.argmax(res.logz)\n",
    "best_hyperparameters = res.samples[best_idx]\n",
    "\n",
    "# Do an outlier cleanup on res.logz\n",
    "logz_mean = np.mean(res.logz) # model_evidence_log[\"parameter statistics\"][\"mu\"] #\n",
    "logz_std = np.std(res.logz)   # model_evidence_log[\"parameter statistics\"][\"std\"]#\n",
    "std_filter = -0.0\n",
    "mask = res.logz >= logz_mean+std_filter*logz_std\n",
    "\n",
    "\n",
    "\n",
    "likelihood_surface_scatter = ax.scatter(res.samples[:,xdim][mask], res.samples[:,ydim][mask], c=res.logz[mask], s=3)\n",
    "# Best found hyperparameters\n",
    "ax.scatter(best_hyperparameters[0], best_hyperparameters[1], c=\"r\", s=10)\n",
    "# Plot the std points\n",
    "lap_var_ellipse_x, lap_var_ellipse_y = get_std_points(lap_param_mu.numpy().reshape(-1), lap_param_std.numpy())\n",
    "#plt.scatter(lap_var_ellipse_x, lap_var_ellipse_y, c=\"b\", s=1)\n",
    "confidence_ellipse(lap_param_mu.numpy(), lap_param_std.numpy(), ax, n_std=1, edgecolor='b', lw=1)\n",
    "confidence_ellipse(lap_param_mu.numpy(), lap_param_std.numpy(), ax, n_std=2, edgecolor='b', lw=1)\n",
    "ax.scatter(lap_param_mu[0], lap_param_mu[1], c=\"b\", s=10)\n",
    "\n",
    "plt.title(f\"{((sum(mask)/res.logz.size)*100):.2f}% -{evaluating_GP_model} - {data_generation} - {COUNT} : {lap_2_sig_coverage:.2f}\")\n",
    "plt.ylabel(param_names[ydim])\n",
    "plt.xlabel(param_names[xdim])\n",
    "plt.colorbar(likelihood_surface_scatter)\n",
    "f.savefig(f\"{log_path}/likelihood_surface_>={logz_mean:.2f}{std_filter:.2f}.png\")"
   ]
  },
  {
   "cell_type": "code",
   "execution_count": 172,
   "metadata": {},
   "outputs": [],
   "source": [
    "all_logs = {\"MAP\": -loss*COUNT, \"Laplace\": lap, \"AIC\": aic, \"BIC\": bic, \"Model Evidence\": model_evidence,\n",
    "            \"Laplace Log\": lap_log, \"AIC Log\": aic_log, \"BIC Log\": bic_log, \"Model Evidence Log\": model_evidence_log} \n",
    "pickle.dump(all_logs, open(f\"{log_path}/all_logs.pkl\", \"wb\"))"
   ]
  },
  {
   "cell_type": "markdown",
   "metadata": {},
   "source": [
    "# Summarizing results"
   ]
  },
  {
   "cell_type": "code",
   "execution_count": 173,
   "metadata": {},
   "outputs": [
    {
     "name": "stdout",
     "output_type": "stream",
     "text": [
      "pos. MAP   | Laplace    | AIC        | BIC        | Model Evidence\n",
      "--|--|--|--|--\n",
      "15.92      | 15.92      | 27.84      | 27.24      | 17.71     \n"
     ]
    }
   ],
   "source": [
    "# Print a table containing the MLL, MAP, Laplace approximation, AIC, BIC and the model evidence\n",
    "print(f\"{'pos. MAP':<10} | {'Laplace':<10} | {'AIC':<10} | {'BIC':<10} | {'Model Evidence':<10}\")\n",
    "print(f\"--|--|--|--|--\")\n",
    "print(f\"{-loss*COUNT:<10.2f} | {lap:<10.2f} | {aic:<10.2f} | {bic:<10.2f} | {model_evidence:<10.2f}\")"
   ]
  },
  {
   "cell_type": "markdown",
   "metadata": {},
   "source": [
    "# In depth analysis"
   ]
  },
  {
   "cell_type": "markdown",
   "metadata": {},
   "source": [
    "\t- Eigenvalues Hessian\n",
    "\t- Condition number Hessian\n",
    "\t- Eigenvalues GP?\n",
    "\t- Condition number GP?\n",
    "\t- Correction terms\n",
    "\t- Laplace without correction\n",
    "\t- Correction terms of AIC and BIC\n",
    "\t- Neg MLL (Un-Scaled)\n",
    "\t- MSE of the GPs posterior mean\n",
    "\t- Percentage of training-points covered in the GP's $2\\sigma$ interval\n",
    "\t- With or without Z-scaling of the data? Compare several runs to see how they compare ⏫ \n"
   ]
  },
  {
   "cell_type": "code",
   "execution_count": 174,
   "metadata": {},
   "outputs": [
    {
     "name": "stdout",
     "output_type": "stream",
     "text": [
      "dict_keys(['neg MLL', 'punish term', 'laplace without replacement', 'num_replaced', 'parameter list', 'Jacobian', 'parameter values', 'corrected Hessian', 'diag(constructed eigvals)', 'original symmetrized Hessian', 'prior mean', 'diag(prior var)', 'likelihood approximation', 'Derivative time', 'Approximation time', 'Correction time', 'Prior generation time', 'Total time'])\n",
      "dict_keys(['punish term', 'Total time', 'loss term'])\n",
      "dict_keys(['punish term', 'Total time', 'loss term'])\n",
      "dict_keys(['Sample time', 'log Z', 'log Z err', 'prior mean', 'prior cov', 'dynamic', 'num sampled', 'parameter statistics', 'res file'])\n"
     ]
    }
   ],
   "source": [
    "# Log keys\n",
    "print(lap_log.keys())\n",
    "print(aic_log.keys())\n",
    "print(bic_log.keys())\n",
    "print(model_evidence_log.keys())\n"
   ]
  },
  {
   "cell_type": "markdown",
   "metadata": {},
   "source": [
    "## Eigenvalues Hessian"
   ]
  },
  {
   "cell_type": "code",
   "execution_count": 175,
   "metadata": {},
   "outputs": [
    {
     "name": "stdout",
     "output_type": "stream",
     "text": [
      "tensor([[6.2832, 0.0000],\n",
      "        [0.0000, 6.2832]])\n",
      "tensor([[ 0.5471,  0.0972],\n",
      "        [ 0.0972, -0.4599]])\n",
      "original symmetrized Hessian eigvals torch.return_types.linalg_eig(\n",
      "eigenvalues=tensor([ 0.5564+0.j, -0.4692+0.j]),\n",
      "eigenvectors=tensor([[ 0.9955+0.j, -0.0952+0.j],\n",
      "        [ 0.0952+0.j,  0.9955+0.j]]))\n",
      "tensor([[ 5.7361, -0.0972],\n",
      "        [-0.0972,  6.7430]])\n"
     ]
    }
   ],
   "source": [
    "print(lap_log[\"corrected Hessian\"])\n",
    "print(lap_log[\"original symmetrized Hessian\"])\n",
    "print(f\"original symmetrized Hessian eigvals {torch.linalg.eig(lap_log['original symmetrized Hessian'])}\")\n",
    "print(lap_log[\"corrected Hessian\"] - lap_log[\"original symmetrized Hessian\"])"
   ]
  }
 ],
 "metadata": {
  "kernelspec": {
   "display_name": "sage",
   "language": "python",
   "name": "python3"
  },
  "language_info": {
   "codemirror_mode": {
    "name": "ipython",
    "version": 3
   },
   "file_extension": ".py",
   "mimetype": "text/x-python",
   "name": "python",
   "nbconvert_exporter": "python",
   "pygments_lexer": "ipython3",
   "version": "3.10.2"
  }
 },
 "nbformat": 4,
 "nbformat_minor": 2
}
