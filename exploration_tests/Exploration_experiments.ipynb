{
 "cells": [
  {
   "cell_type": "markdown",
   "metadata": {},
   "source": [
    "**Goal**    \n",
    "Exploration of various metrics and behaviours for different model selection criteria"
   ]
  },
  {
   "cell_type": "code",
   "execution_count": 10,
   "metadata": {},
   "outputs": [],
   "source": [
    "import sys\n",
    "sys.path.insert(1, \"..\")\n",
    "import pprint\n",
    "import torch\n",
    "import numpy as np\n",
    "import metrics\n",
    "import copy\n",
    "import configparser\n",
    "from experiment_functions import Experiment\n",
    "from GaussianProcess import ExactGPModel\n",
    "from globalParams import options, hyperparameter_limits\n",
    "import gpytorch\n",
    "from helpFunctions import get_string_representation_of_kernel as gsr\n",
    "from helpFunctions import clean_kernel_expression\n",
    "from helpFunctions import get_kernels_in_kernel_expression, get_full_kernels_in_kernel_expression\n",
    "from helpFunctions import amount_of_base_kernels\n",
    "from itertools import product\n",
    "import json\n",
    "from kernelSearch import *\n",
    "from matplotlib import pyplot as plt\n",
    "from matplotlib.patches import Ellipse\n",
    "import matplotlib.transforms as transforms\n",
    "from metrics import *\n",
    "from multiprocessing import Pool\n",
    "import numpy as np\n",
    "import os\n",
    "import pdb\n",
    "import pickle\n",
    "import random\n",
    "import tikzplotlib\n",
    "import time\n",
    "import torch\n",
    "from tqdm import tqdm\n",
    "from scipy.stats import multivariate_normal, spearmanr\n",
    "import matplotlib.pyplot as plt\n",
    "import pprint\n",
    "from pygranso.pygranso import pygranso\n",
    "from pygranso.pygransoStruct import pygransoStruct\n",
    "from pygranso.private.getNvar import getNvarTorch"
   ]
  },
  {
   "cell_type": "code",
   "execution_count": 11,
   "metadata": {},
   "outputs": [],
   "source": [
    "# Stolen from https://matplotlib.org/stable/gallery/statistics/confidence_ellipse.html\n",
    "def confidence_ellipse(mu, K, ax, n_std=3.0, facecolor='none', **kwargs):\n",
    "    \"\"\"\n",
    "    Create a plot of the covariance confidence ellipse of *x* and *y*.\n",
    "\n",
    "    Parameters\n",
    "    ----------\n",
    "    x, y : array-like, shape (n, )\n",
    "        Input data.\n",
    "\n",
    "    ax : matplotlib.axes.Axes\n",
    "        The Axes object to draw the ellipse into.\n",
    "\n",
    "    n_std : float\n",
    "        The number of standard deviations to determine the ellipse's radiuses.\n",
    "\n",
    "    **kwargs\n",
    "        Forwarded to `~matplotlib.patches.Ellipse`\n",
    "\n",
    "    Returns\n",
    "    -------\n",
    "    matplotlib.patches.Ellipse\n",
    "    \"\"\"\n",
    "\n",
    "    cov = K\n",
    "    pearson = cov[0, 1]/np.sqrt(cov[0, 0] * cov[1, 1])\n",
    "    # Using a special case to obtain the eigenvalues of this\n",
    "    # two-dimensional dataset.\n",
    "    ell_radius_x = np.sqrt(1 + pearson)\n",
    "    ell_radius_y = np.sqrt(1 - pearson)\n",
    "    ellipse = Ellipse((0, 0), width=ell_radius_x * 2, height=ell_radius_y * 2,\n",
    "                      facecolor=facecolor, **kwargs)\n",
    "\n",
    "    # Calculating the standard deviation of x from\n",
    "    # the squareroot of the variance and multiplying\n",
    "    # with the given number of standard deviations.\n",
    "    scale_x = np.sqrt(cov[0, 0]) * n_std\n",
    "    mean_x = mu[0] \n",
    "\n",
    "    # calculating the standard deviation of y ...\n",
    "    scale_y = np.sqrt(cov[1, 1]) * n_std\n",
    "    mean_y = mu[1]\n",
    "\n",
    "    transf = transforms.Affine2D() \\\n",
    "        .rotate_deg(45) \\\n",
    "        .scale(scale_x, scale_y) \\\n",
    "        .translate(mean_x, mean_y)\n",
    "\n",
    "    ellipse.set_transform(transf + ax.transData)\n",
    "    return ax.add_patch(ellipse)"
   ]
  },
  {
   "cell_type": "code",
   "execution_count": 12,
   "metadata": {},
   "outputs": [],
   "source": [
    "def random_reinit(model):\n",
    "    for i, (param, limit) in enumerate(zip(model.parameters(), [{\"Noise\": hyperparameter_limits[\"Noise\"]},*[hyperparameter_limits[kernel] for kernel in get_full_kernels_in_kernel_expression(model.covar_module)]])):\n",
    "        covar_text = gsr(model.covar_module)\n",
    "        param_name = list(limit.keys())[0]\n",
    "        new_param_value = torch.randn_like(param) * (limit[param_name][1] - limit[param_name][0]) + limit[param_name][0]\n",
    "        param.data = new_param_value\n",
    "\n",
    "\n",
    "def optimize_hyperparameters(model, likelihood, **kwargs):\n",
    "    \"\"\"\n",
    "    find optimal hyperparameters either by BO or by starting from random initial values multiple times, using an optimizer every time\n",
    "    and then returning the best result\n",
    "    \"\"\"\n",
    "    random_restarts = kwargs.get(\"random_restarts\", options[\"training\"][\"restarts\"]+1)\n",
    "    # Use kwargs if not None, otherwise use the default values\n",
    "    train_x = kwargs.get(\"train_x\", model.train_inputs[0])\n",
    "    train_y = kwargs.get(\"train_y\", model.train_targets)\n",
    "\n",
    "    # Define the negative log likelihood\n",
    "    mll = gpytorch.mlls.ExactMarginalLogLikelihood(likelihood, model)\n",
    "\n",
    "    # Set up the PyGRANSO optimizer\n",
    "    opts = pygransoStruct()\n",
    "    opts.torch_device = torch.device('cpu')\n",
    "    nvar = getNvarTorch(model.parameters())\n",
    "    opts.x0 = torch.nn.utils.parameters_to_vector(model.parameters()).detach().reshape(nvar,1)\n",
    "    opts.opt_tol = 1e-10\n",
    "    opts.limited_mem_size = 100\n",
    "    opts.globalAD = True\n",
    "    opts.quadprog_info_msg = False\n",
    "    opts.print_level = 0\n",
    "    opts.halt_on_linesearch_bracket = False\n",
    "    opts.double_precision = False\n",
    "\n",
    "    # Define the objective function\n",
    "    def objective_function(model):\n",
    "        output = model(train_x)\n",
    "        loss = -mll(output, train_y)\n",
    "        log_p = metrics.log_normalized_prior(model)\n",
    "        loss -= log_p\n",
    "        return [loss, None, None]\n",
    "\n",
    "    best_model_state_dict = model.state_dict()\n",
    "    best_likelihood_state_dict = likelihood.state_dict()\n",
    "\n",
    "    random_restarts = 5\n",
    "    best_f = np.inf\n",
    "    for restart in range(random_restarts):\n",
    "        # Train the model using PyGRANSO\n",
    "        soln = pygranso(var_spec=model, combined_fn=objective_function, user_opts=opts)\n",
    "        if soln.final.f < best_f:\n",
    "            best_f = soln.final.f\n",
    "            best_model_state_dict = model.state_dict()\n",
    "            best_likelihood_state_dict = likelihood.state_dict()\n",
    "        print(f\"post training (final): {list(model.named_parameters())} w. loss: {soln.final.f}\")\n",
    "        random_reinit(model)\n",
    "\n",
    "    model.load_state_dict(best_model_state_dict)\n",
    "    likelihood.load_state_dict(best_likelihood_state_dict)\n",
    "\n",
    "    loss = -mll(model(train_x), train_y)\n",
    "    log_p = metrics.log_normalized_prior(model)\n",
    "    loss -= log_p\n",
    "\n",
    "    print(f\"post training (best): {list(model.named_parameters())} w. loss: {soln.best.f}\")\n",
    "    print(f\"post training (final): {list(model.named_parameters())} w. loss: {soln.final.f}\")\n",
    "    print(torch.autograd.grad(loss, [p for p in model.parameters()], retain_graph=True, create_graph=True, allow_unused=True))\n",
    "    # Return the trained model\n",
    "    return loss, model, likelihood\n",
    "\n",
    "def get_std_points(mu, K):\n",
    "    x, y = np.mgrid[-3:3:.1, -3:3:.1]\n",
    "    rv = multivariate_normal(mu, K)\n",
    "    L = np.linalg.cholesky(K)\n",
    "\n",
    "    data = np.dstack((x, y))\n",
    "    z = rv.pdf(data)\n",
    "\n",
    "    # Drawing the unit circle\n",
    "    # x^2 + y^2 = 1\n",
    "    precision = 50\n",
    "    unit_x = torch.cat([torch.linspace(-1, 1, precision), torch.linspace(-1, 1, precision)])\n",
    "    unit_y = torch.cat([torch.sqrt(1 - torch.linspace(-1, 1, precision)**2), -torch.sqrt(1 - torch.linspace(-1, 1, precision)**2)])\n",
    "\n",
    "    new_unit_x = list()\n",
    "    new_unit_y = list()\n",
    "\n",
    "    for tx, ty in zip(unit_x, unit_y):\n",
    "        res = np.array([tx, ty]) @ L\n",
    "        new_unit_x.append(mu[0] + 2*res[0])\n",
    "        new_unit_y.append(mu[1] + 2*res[1])\n",
    "    return new_unit_x, new_unit_y\n",
    "\n",
    "\n",
    "# Find all points inside the confidence ellipse\n",
    "def percentage_inside_ellipse(mu, K, points, sigma_level=2):\n",
    "    L = np.linalg.cholesky(K)\n",
    "    threshold = sigma_level ** 2\n",
    "    count = 0\n",
    "    for point in points:\n",
    "        res = np.array(point - mu) @ np.linalg.inv(L)\n",
    "        if res @ res <= threshold:\n",
    "            count += 1\n",
    "    return count / len(points)"
   ]
  },
  {
   "cell_type": "code",
   "execution_count": 13,
   "metadata": {},
   "outputs": [],
   "source": [
    "from gpytorch.kernels import Kernel\n",
    "from gpytorch.constraints import Interval, Positive\n",
    "from gpytorch.priors import Prior\n",
    "\n",
    "import warnings\n",
    "from typing import Optional, Union\n",
    "\n",
    "import torch\n",
    "from linear_operator.operators import LinearOperator, MatmulLinearOperator, RootLinearOperator\n",
    "from torch import Tensor\n",
    "\n",
    "class AffineKernel(Kernel):\n",
    "    r\"\"\"\n",
    "    Computes a covariance matrix based on the Linear kernel\n",
    "    between inputs :math:`\\mathbf{x_1}` and :math:`\\mathbf{x_2}`:\n",
    "\n",
    "    .. math::\n",
    "        \\begin{equation*}\n",
    "            k_\\text{Linear}(\\mathbf{x_1}, \\mathbf{x_2}) = v\\mathbf{x_1}^\\top\n",
    "            \\mathbf{x_2}.\n",
    "        \\end{equation*}\n",
    "\n",
    "    where\n",
    "\n",
    "    * :math:`v` is a variance parameter.\n",
    "\n",
    "\n",
    "    .. note::\n",
    "\n",
    "        To implement this efficiently, we use a\n",
    "        :obj:`~linear_operator.operators.RootLinearOperator` during training\n",
    "        and a :class:`~linear_operator.operators.MatmulLinearOperator` during\n",
    "        test. These lazy tensors represent matrices of the form :math:`\\mathbf\n",
    "        K = \\mathbf X \\mathbf X^{\\prime \\top}`. This makes inference efficient\n",
    "        because a matrix-vector product :math:`\\mathbf K \\mathbf v` can be\n",
    "        computed as :math:`\\mathbf K \\mathbf v = \\mathbf X( \\mathbf X^{\\prime\n",
    "        \\top} \\mathbf v)`, where the base multiply :math:`\\mathbf X \\mathbf v`\n",
    "        takes only :math:`\\mathcal O(ND)` time and space.\n",
    "\n",
    "    :param variance_prior: Prior over the variance parameter. (Default `None`.)\n",
    "    :param variance_constraint: Constraint to place on variance parameter. (Default: `Positive`.)\n",
    "    :param active_dims: List of data dimensions to operate on. `len(active_dims)` should equal `num_dimensions`.\n",
    "    \"\"\"\n",
    "\n",
    "    def __init__(\n",
    "        self,\n",
    "        num_dimensions: Optional[int] = None,\n",
    "        offset_prior: Optional[Prior] = None,\n",
    "        variance_prior: Optional[Prior] = None,\n",
    "        variance_constraint: Optional[Interval] = None,\n",
    "        **kwargs,\n",
    "    ):\n",
    "        super(AffineKernel, self).__init__(**kwargs)\n",
    "        if variance_constraint is None:\n",
    "            variance_constraint = Positive()\n",
    "\n",
    "        if num_dimensions is not None:\n",
    "            # Remove after 1.0\n",
    "            warnings.warn(\"The `num_dimensions` argument is deprecated and no longer used.\", DeprecationWarning)\n",
    "            self.register_parameter(name=\"offset\", parameter=torch.nn.Parameter(torch.zeros(1, 1, num_dimensions)))\n",
    "        if offset_prior is not None:\n",
    "            # Remove after 1.0\n",
    "            warnings.warn(\"The `offset_prior` argument is deprecated and no longer used.\", DeprecationWarning)\n",
    "        self.register_parameter(name=\"raw_variance\", parameter=torch.nn.Parameter(torch.zeros(*self.batch_shape, 1, 1)))\n",
    "        if variance_prior is not None:\n",
    "            if not isinstance(variance_prior, Prior):\n",
    "                raise TypeError(\"Expected gpytorch.priors.Prior but got \" + type(variance_prior).__name__)\n",
    "            self.register_prior(\"variance_prior\", variance_prior, lambda m: m.variance, lambda m, v: m._set_variance(v))\n",
    "\n",
    "        self.register_constraint(\"raw_variance\", variance_constraint)\n",
    "\n",
    "    @property\n",
    "    def variance(self) -> Tensor:\n",
    "        return self.raw_variance_constraint.transform(self.raw_variance)\n",
    "\n",
    "    @variance.setter\n",
    "    def variance(self, value: Union[float, Tensor]):\n",
    "        self._set_variance(value)\n",
    "\n",
    "    def _set_variance(self, value: Union[float, Tensor]):\n",
    "        if not torch.is_tensor(value):\n",
    "            value = torch.as_tensor(value).to(self.raw_variance)\n",
    "        self.initialize(raw_variance=self.raw_variance_constraint.inverse_transform(value))\n",
    "\n",
    "    def forward(\n",
    "        self, x1: Tensor, x2: Tensor, diag: Optional[bool] = False, last_dim_is_batch: Optional[bool] = False, **params\n",
    "    ) -> LinearOperator:\n",
    "        x1_ = x1 - torch.ones_like(x1)\n",
    "        x1_ = x1_ * self.variance.sqrt()\n",
    "        if last_dim_is_batch:\n",
    "            x1_ = x1_.transpose(-1, -2).unsqueeze(-1)\n",
    "\n",
    "        if x1.size() == x2.size() and torch.equal(x1, x2):\n",
    "            # Use RootLinearOperator when x1 == x2 for efficiency when composing\n",
    "            # with other kernels\n",
    "            prod = RootLinearOperator(x1_)\n",
    "\n",
    "        else:\n",
    "            x2_ = x2 - torch.ones_like(x2)\n",
    "            x2_ = x2_ * self.variance.sqrt()\n",
    "            if last_dim_is_batch:\n",
    "                x2_ = x2_.transpose(-1, -2).unsqueeze(-1)\n",
    "\n",
    "            prod = MatmulLinearOperator(x1_, x2_.transpose(-2, -1))\n",
    "\n",
    "        if diag:\n",
    "            return prod.diagonal(dim1=-1, dim2=-2)\n",
    "        else:\n",
    "            return prod\n"
   ]
  },
  {
   "cell_type": "code",
   "execution_count": 14,
   "metadata": {},
   "outputs": [],
   "source": [
    "# from metrics.py\n",
    "# Used to generate the parameter prior for the specific class of GP kernel and calculate the log propability of this specific parametrization\n",
    "#metrics.prior_distribution()\n",
    "#metrics.log_normalized_prior()"
   ]
  },
  {
   "cell_type": "markdown",
   "metadata": {},
   "source": [
    "# Definitions"
   ]
  },
  {
   "cell_type": "code",
   "execution_count": 15,
   "metadata": {},
   "outputs": [],
   "source": [
    "# Global name\n",
    "data_generation = \"parabola\" # linear, parabola; Optionally also \"linear_noise\" etc.\n",
    "COUNT = 50\n",
    "evaluating_GP_model = \"RBF\" # RBF, Linear, RQ, MAT32, MAT52; Optionally also \"C*RBF\" etc.\n",
    "# timestamp in yyyy-mm-dd-hh-mm-ss\n",
    "timestamp = time.strftime(\"%Y-%m-%d-%H-%M-%S\")\n",
    "\n",
    "START = -1 \n",
    "END = 1\n",
    "log_path = f\"logs/{timestamp}_{data_generation}{COUNT}_{START}:{END}-{evaluating_GP_model}\"\n",
    "# Create the log directory\n",
    "os.makedirs(log_path)"
   ]
  },
  {
   "cell_type": "code",
   "execution_count": 16,
   "metadata": {},
   "outputs": [
    {
     "data": {
      "text/plain": [
       "[<matplotlib.lines.Line2D at 0x764ceab2ee10>]"
      ]
     },
     "execution_count": 16,
     "metadata": {},
     "output_type": "execute_result"
    },
    {
     "data": {
      "image/png": "[encoded data removed]",
      "text/plain": [
       "<Figure size 640x480 with 1 Axes>"
      ]
     },
     "metadata": {},
     "output_type": "display_data"
    }
   ],
   "source": [
    "# Data\n",
    "torch.manual_seed(42)\n",
    "\n",
    "train_x = torch.linspace(START, END, COUNT)\n",
    "\n",
    "if \"linear\" in data_generation:\n",
    "    train_y = torch.linspace(START, END, COUNT)\n",
    "elif data_generation == \"parabola\":\n",
    "    train_y = train_x**2\n",
    "elif data_generation == \"cubic\":\n",
    "    train_y = train_x**3\n",
    "elif data_generation == \"2_points\":\n",
    "    train_y = torch.tensor([0, 1])\n",
    "if \"noise\" in data_generation:\n",
    "    train_y += torch.randn(train_x.size()) * torch.sqrt(torch.tensor(0.1))\n",
    "plt.plot(train_x, train_y, \"o\")"
   ]
  },
  {
   "cell_type": "markdown",
   "metadata": {},
   "source": [
    "# Model definition"
   ]
  },
  {
   "cell_type": "code",
   "execution_count": 17,
   "metadata": {},
   "outputs": [],
   "source": [
    "# RBF, Linear, RQ, MAT32, MAT52\n",
    "if evaluating_GP_model == \"RBF\":\n",
    "    kernel = gpytorch.kernels.RBFKernel()\n",
    "elif evaluating_GP_model == \"LIN*LIN*LIN*LIN\":\n",
    "    kernel = gpytorch.kernels.LinearKernel() * gpytorch.kernels.LinearKernel() * gpytorch.kernels.LinearKernel() * gpytorch.kernels.LinearKernel()\n",
    "elif evaluating_GP_model == \"LIN*LIN*LIN\":\n",
    "    kernel = gpytorch.kernels.LinearKernel() * gpytorch.kernels.LinearKernel() * gpytorch.kernels.LinearKernel()\n",
    "elif evaluating_GP_model == \"LIN*LIN\":\n",
    "    kernel = gpytorch.kernels.LinearKernel() * gpytorch.kernels.LinearKernel()\n",
    "elif evaluating_GP_model == \"LIN\":\n",
    "    kernel = gpytorch.kernels.LinearKernel()\n",
    "elif evaluating_GP_model == \"AFF*AFF*AFF*AFF\":\n",
    "    kernel = AffineKernel() * AffineKernel() * AffineKernel() * AffineKernel()\n",
    "elif evaluating_GP_model == \"AFF*AFF*AFF\":\n",
    "    kernel = AffineKernel() * AffineKernel() * AffineKernel()\n",
    "elif evaluating_GP_model == \"AFF*AFF\":\n",
    "    kernel = AffineKernel() * AffineKernel()\n",
    "elif evaluating_GP_model == \"AFF\":\n",
    "    kernel = AffineKernel()\n",
    "elif evaluating_GP_model == \"RQ\":\n",
    "    kernel = gpytorch.kernels.RQKernel()\n",
    "elif evaluating_GP_model == \"MAT32\":\n",
    "    kernel = gpytorch.kernels.MaternKernel(nu=3/2)\n",
    "elif evaluating_GP_model == \"MAT52\":\n",
    "    kernel = gpytorch.kernels.MaternKernel(nu=5/2)\n",
    "\n",
    "\n",
    "if \"C*\" in evaluating_GP_model:\n",
    "    kernel = gpytorch.kernels.ScaleKernel(kernel)\n"
   ]
  },
  {
   "cell_type": "code",
   "execution_count": 18,
   "metadata": {},
   "outputs": [],
   "source": [
    "# Simplest GP possible. SE with constant sigma_f \n",
    "class ExactGPModel(gpytorch.models.ExactGP):\n",
    "    def __init__(self, train_x, train_y, likelihood, kernel):\n",
    "        super(ExactGPModel, self).__init__(train_x, train_y, likelihood)\n",
    "        self.mean_module = gpytorch.means.ZeroMean()\n",
    "        self.covar_module = kernel \n",
    "\n",
    "    def forward(self, x):\n",
    "        mean_x = self.mean_module(x)\n",
    "        covar_x = self.covar_module(x)\n",
    "        return gpytorch.distributions.MultivariateNormal(mean_x, covar_x)\n",
    "\n",
    "# initialize likelihood and model\n",
    "likelihood = gpytorch.likelihoods.GaussianLikelihood()\n",
    "model = ExactGPModel(train_x, train_y, likelihood, kernel)"
   ]
  },
  {
   "cell_type": "markdown",
   "metadata": {},
   "source": [
    "# Training"
   ]
  },
  {
   "cell_type": "code",
   "execution_count": 19,
   "metadata": {},
   "outputs": [
    {
     "name": "stderr",
     "output_type": "stream",
     "text": [
      "/home/besginow/anaconda3/envs/sageNewGPyTorch/lib/python3.11/site-packages/pygranso/private/bfgsHessianInverseLimitedMem.py:237: UserWarning: The use of `x.T` on tensors of dimension other than 2 to reverse their shape is deprecated and it will throw an error in a future release. Consider `x.mT` to transpose batches of matrices or `x.permute(*torch.arange(x.ndim - 1, -1, -1))` to reverse the dimensions of a tensor. (Triggered internally at /home/conda/feedstock_root/build_artifacts/libtorch_1718618105212/work/aten/src/ATen/native/TensorShape.cpp:3675.)\n",
      "  alpha[j,:]  = self.rho[0,j] * (self.S[:,j].T  @ q)\n"
     ]
    },
    {
     "name": "stdout",
     "output_type": "stream",
     "text": [
      "post training (final): [('likelihood.noise_covar.raw_noise', Parameter containing:\n",
      "tensor([-12.5657], requires_grad=True)), ('covar_module.raw_lengthscale', Parameter containing:\n",
      "tensor([[0.5185]], requires_grad=True))] w. loss: -2.9066085815429688\n",
      "post training (final): [('likelihood.noise_covar.raw_noise', Parameter containing:\n",
      "tensor([-12.5657], requires_grad=True)), ('covar_module.raw_lengthscale', Parameter containing:\n",
      "tensor([[0.5185]], requires_grad=True))] w. loss: -2.9066085815429688\n",
      "post training (final): [('likelihood.noise_covar.raw_noise', Parameter containing:\n",
      "tensor([-12.5657], requires_grad=True)), ('covar_module.raw_lengthscale', Parameter containing:\n",
      "tensor([[0.5185]], requires_grad=True))] w. loss: -2.9066085815429688\n",
      "post training (final): [('likelihood.noise_covar.raw_noise', Parameter containing:\n",
      "tensor([-12.5657], requires_grad=True)), ('covar_module.raw_lengthscale', Parameter containing:\n",
      "tensor([[0.5185]], requires_grad=True))] w. loss: -2.9066085815429688\n",
      "post training (final): [('likelihood.noise_covar.raw_noise', Parameter containing:\n",
      "tensor([-12.5657], requires_grad=True)), ('covar_module.raw_lengthscale', Parameter containing:\n",
      "tensor([[0.5185]], requires_grad=True))] w. loss: -2.9066085815429688\n",
      "post training (best): [('likelihood.noise_covar.raw_noise', Parameter containing:\n",
      "tensor([-12.5657], requires_grad=True)), ('covar_module.raw_lengthscale', Parameter containing:\n",
      "tensor([[0.5185]], requires_grad=True))] w. loss: -2.9066104888916016\n",
      "post training (final): [('likelihood.noise_covar.raw_noise', Parameter containing:\n",
      "tensor([-12.5657], requires_grad=True)), ('covar_module.raw_lengthscale', Parameter containing:\n",
      "tensor([[0.5185]], requires_grad=True))] w. loss: -2.9066085815429688\n",
      "(tensor([4.4339e-05], grad_fn=<AddBackward0>), tensor([[0.0003]], grad_fn=<AddBackward0>))\n"
     ]
    }
   ],
   "source": [
    "loss, model, likelihood = optimize_hyperparameters(model, likelihood)\n",
    "MAP = -loss*COUNT"
   ]
  },
  {
   "cell_type": "code",
   "execution_count": 20,
   "metadata": {},
   "outputs": [
    {
     "data": {
      "image/png": "[encoded data removed]",
      "text/plain": [
       "<Figure size 400x300 with 1 Axes>"
      ]
     },
     "metadata": {},
     "output_type": "display_data"
    }
   ],
   "source": [
    "# Get into evaluation (predictive posterior) mode\n",
    "model.eval()\n",
    "likelihood.eval()\n",
    "\n",
    "\n",
    "# Test points are regularly spaced along [0,1]\n",
    "# Make predictions by feeding model through likelihood\n",
    "with torch.no_grad(), gpytorch.settings.fast_pred_var():\n",
    "    test_x = torch.linspace(START, END, 51)\n",
    "    a = model(test_x)\n",
    "    observed_pred = likelihood(a)\n",
    "    \n",
    "with torch.no_grad():\n",
    "    # Initialize plot\n",
    "    f, ax = plt.subplots(1, 1, figsize=(4, 3))\n",
    "\n",
    "    # Get upper and lower confidence bounds\n",
    "    lower, upper = observed_pred.confidence_region()\n",
    "    # Plot training data as black stars\n",
    "    ax.plot(train_x.numpy(), train_y.numpy(), 'k*')\n",
    "    # Plot predictive means as blue line\n",
    "    ax.plot(test_x.numpy(), observed_pred.mean.numpy(), 'b')\n",
    "    # Shade between the lower and upper confidence bounds\n",
    "    ax.fill_between(test_x.numpy(), lower.numpy(), upper.numpy(), alpha=0.5)\n",
    "    ax.set_ylim([-3, 3])\n",
    "    ax.legend(['Observed Data', 'Mean', 'Confidence'])\n",
    "\n",
    "    plt.savefig(f\"{log_path}/gp_fit.png\")"
   ]
  },
  {
   "cell_type": "markdown",
   "metadata": {},
   "source": [
    "# MAP"
   ]
  },
  {
   "cell_type": "code",
   "execution_count": 21,
   "metadata": {},
   "outputs": [
    {
     "data": {
      "text/plain": [
       "tensor(145.3291, grad_fn=<MulBackward0>)"
      ]
     },
     "execution_count": 21,
     "metadata": {},
     "output_type": "execute_result"
    }
   ],
   "source": [
    "MAP"
   ]
  },
  {
   "cell_type": "markdown",
   "metadata": {},
   "source": [
    "# Laplace"
   ]
  },
  {
   "cell_type": "code",
   "execution_count": 22,
   "metadata": {},
   "outputs": [
    {
     "name": "stderr",
     "output_type": "stream",
     "text": [
      "/home/besginow/anaconda3/envs/sageNewGPyTorch/lib/python3.11/site-packages/torch/__init__.py:749: UserWarning: torch.set_default_tensor_type() is deprecated as of PyTorch 2.1, please use torch.set_default_dtype() and torch.set_default_device() as alternatives. (Triggered internally at /home/conda/feedstock_root/build_artifacts/libtorch_1718618105212/work/torch/csrc/tensor/python_tensor.cpp:431.)\n",
      "  _C._set_default_tensor_type(t)\n",
      "/home/besginow/code/LaplaceKernelSearch/exploration_tests/../metrics.py:145: UserWarning: To copy construct from a tensor, it is recommended to use sourceTensor.clone().detach() or sourceTensor.clone().detach().requires_grad_(True), rather than torch.tensor(sourceTensor).\n",
      "  [max(val, (torch.exp(torch.tensor(-2*param_punish_term))*(2*torch.pi))) for i, val in enumerate(vals)]))\n"
     ]
    }
   ],
   "source": [
    "model.train()\n",
    "likelihood.train()\n",
    "\n",
    "lap, lap_log = metrics.calculate_laplace(model, MAP, with_prior=True, param_punish_term=\"BIC\") # Param_punish 0.0, -1.0, BIC\n",
    "lap_param_mu = lap_log[\"parameter values\"]\n",
    "lap_param_std = lap_log[\"corrected Hessian\"]"
   ]
  },
  {
   "cell_type": "code",
   "execution_count": 23,
   "metadata": {},
   "outputs": [
    {
     "name": "stdout",
     "output_type": "stream",
     "text": [
      "tensor(141.4170, grad_fn=<AddBackward0>)\n",
      "{'Approximation time': 0.0006248950958251953,\n",
      " 'Correction time': 0.0004210472106933594,\n",
      " 'Derivative time': 0.1883089542388916,\n",
      " 'Jacobian': (tensor([0.0022], dtype=torch.float32, grad_fn=<AddBackward0>),\n",
      "              tensor([[0.0146]], dtype=torch.float32, grad_fn=<AddBackward0>)),\n",
      " 'Prior generation time': 0.00014972686767578125,\n",
      " 'Total time': 0.18990373611450195,\n",
      " 'corrected Hessian': tensor([[ 3.1416e+02, -1.3564e-16],\n",
      "        [ 2.0931e-16,  3.1416e+02]]),\n",
      " 'diag(constructed eigvals)': tensor([314.1593, 314.1593]),\n",
      " 'diag(prior var)': tensor([12.8388,  3.5704]),\n",
      " 'laplace without replacement': tensor(145.7395, grad_fn=<SubBackward0>),\n",
      " 'likelihood approximation': tensor(141.4170, grad_fn=<AddBackward0>),\n",
      " 'neg MLL': tensor(-145.3291, dtype=torch.float32, grad_fn=<NegBackward0>),\n",
      " 'num_replaced': tensor(2),\n",
      " 'original symmetrized Hessian': tensor([[ 0.7620,  0.0991],\n",
      "        [ 0.0991, 22.8140]]),\n",
      " 'parameter list': ['likelihood.noise_covar.raw_noise',\n",
      "                    'covar_module.raw_lengthscale'],\n",
      " 'parameter values': tensor([[-12.5657],\n",
      "        [  0.5185]], dtype=torch.float32),\n",
      " 'prior mean': tensor([[-3.5164],\n",
      "        [-0.2122]]),\n",
      " 'punish term': tensor(-3.9121)}\n"
     ]
    }
   ],
   "source": [
    "print(lap)\n",
    "pprint.pprint(lap_log)"
   ]
  },
  {
   "cell_type": "markdown",
   "metadata": {},
   "source": [
    "# AIC"
   ]
  },
  {
   "cell_type": "code",
   "execution_count": 24,
   "metadata": {},
   "outputs": [
    {
     "name": "stdout",
     "output_type": "stream",
     "text": [
      "tensor(-286.6583, dtype=torch.float32, grad_fn=<RsubBackward1>)\n",
      "{'punish term': 4, 'Total time': 0.00054168701171875, 'loss term': tensor(290.6583, dtype=torch.float32, grad_fn=<MulBackward0>)}\n"
     ]
    }
   ],
   "source": [
    "model.train()\n",
    "likelihood.train()\n",
    "\n",
    "aic, aic_log = metrics.calculate_AIC(MAP, len(list(model.parameters())))\n",
    "print(aic)\n",
    "print(aic_log)"
   ]
  },
  {
   "cell_type": "markdown",
   "metadata": {},
   "source": [
    "# BIC"
   ]
  },
  {
   "cell_type": "code",
   "execution_count": 25,
   "metadata": {},
   "outputs": [
    {
     "name": "stdout",
     "output_type": "stream",
     "text": [
      "tensor(-282.8342, grad_fn=<SubBackward0>)\n",
      "{'punish term': tensor(7.8240), 'Total time': 0.00043964385986328125, 'loss term': tensor(290.6583, dtype=torch.float32, grad_fn=<MulBackward0>)}\n"
     ]
    }
   ],
   "source": [
    "model.train()\n",
    "likelihood.train()\n",
    "\n",
    "bic, bic_log = metrics.calculate_BIC(MAP, len(list(model.parameters())), torch.tensor(COUNT))\n",
    "print(bic)\n",
    "print(bic_log)"
   ]
  },
  {
   "cell_type": "markdown",
   "metadata": {},
   "source": [
    "# Nested Sampling (Model evidence)"
   ]
  },
  {
   "cell_type": "code",
   "execution_count": 26,
   "metadata": {},
   "outputs": [
    {
     "name": "stdout",
     "output_type": "stream",
     "text": [
      "Random seed: 243282\n"
     ]
    },
    {
     "name": "stderr",
     "output_type": "stream",
     "text": [
      "0it [00:00, ?it/s]/home/besginow/anaconda3/envs/sageNewGPyTorch/lib/python3.11/site-packages/dynesty/dynamicsampler.py:447: RuntimeWarning: overflow encountered in cast\n",
      "  cur_live_logl[not_finite] = _LOWL_VAL\n",
      "1636it [00:23, 16.11it/s, batch: 0 | bound: 0 | nc: 237 | ncall: 14528 | eff(%): 10.886 | loglstar:   -inf < 130.594 <    inf | logz: 124.669 +/-  0.100 | dlogz: 24.911 >  0.010]"
     ]
    }
   ],
   "source": [
    "model.train()\n",
    "likelihood.train()\n",
    "\n",
    "model_evidence, model_evidence_log = metrics.NestedSampling(model, \n",
    "                                                            print_progress=True,\n",
    "                                                            store_samples = True,\n",
    "                                                            store_likelihoods = True,\n",
    "                                                            store_full = True,\n",
    "                                                            pickle_directory = f\"{log_path}/\"\n",
    "                                                            )\n",
    "print(model_evidence)\n",
    "print(model_evidence_log)"
   ]
  },
  {
   "cell_type": "code",
   "execution_count": 17,
   "metadata": {},
   "outputs": [],
   "source": [
    "# unpickle the log file\n",
    "with open(f\"{model_evidence_log['res file']}\", \"rb\") as f:\n",
    "    res = pickle.load(f)"
   ]
  },
  {
   "cell_type": "code",
   "execution_count": 18,
   "metadata": {},
   "outputs": [
    {
     "data": {
      "text/plain": [
       "1.0"
      ]
     },
     "execution_count": 18,
     "metadata": {},
     "output_type": "execute_result"
    }
   ],
   "source": [
    "# Calculate the amount of samples that are covered by the 1 sigma and 2 sigma interval based on the lap_mu and lap_cov values\n",
    "lap_2_sig_coverage = percentage_inside_ellipse(lap_param_mu.flatten().numpy(), lap_param_std.numpy(), res.samples)\n",
    "lap_2_sig_coverage"
   ]
  },
  {
   "cell_type": "code",
   "execution_count": 19,
   "metadata": {},
   "outputs": [
    {
     "data": {
      "image/png": "[encoded data removed]",
      "text/plain": [
       "<Figure size 640x480 with 2 Axes>"
      ]
     },
     "metadata": {},
     "output_type": "display_data"
    }
   ],
   "source": [
    "\n",
    "f, ax = plt.subplots()\n",
    "\n",
    "param_names = [l[0] for l in list(model.named_parameters())]\n",
    "xdim = 0\n",
    "ydim = 1\n",
    "\n",
    "# Find the best value and the corresponding hyperparameters\n",
    "best_idx = np.argmax(res.logz)\n",
    "best_hyperparameters = res.samples[best_idx]\n",
    "\n",
    "# Do an outlier cleanup on res.logz\n",
    "logz_mean = np.mean(res.logz) # model_evidence_log[\"parameter statistics\"][\"mu\"] #\n",
    "logz_std = np.std(res.logz)   # model_evidence_log[\"parameter statistics\"][\"std\"]#\n",
    "std_filter = -0.0\n",
    "mask = res.logz >= logz_mean+std_filter*logz_std\n",
    "\n",
    "\n",
    "\n",
    "likelihood_surface_scatter = ax.scatter(res.samples[:,xdim][mask], res.samples[:,ydim][mask], c=res.logz[mask], s=3)\n",
    "# Best found hyperparameters\n",
    "ax.scatter(best_hyperparameters[xdim], best_hyperparameters[ydim], c=\"r\", s=10)\n",
    "# Plot the std points\n",
    "lap_mu_filtered = lap_param_mu.numpy()[[xdim, ydim]] \n",
    "lap_cov_filtered = lap_param_std.numpy()[[xdim, ydim]][:,[xdim, ydim]]\n",
    "lap_var_ellipse_x, lap_var_ellipse_y = get_std_points(lap_mu_filtered.flatten(), lap_cov_filtered)\n",
    "#plt.scatter(lap_var_ellipse_x, lap_var_ellipse_y, c=\"b\", s=1)\n",
    "confidence_ellipse(lap_mu_filtered, lap_cov_filtered, ax, n_std=1, edgecolor='b', lw=1)\n",
    "confidence_ellipse(lap_mu_filtered, lap_cov_filtered, ax, n_std=2, edgecolor='b', lw=1)\n",
    "ax.scatter(lap_param_mu[xdim], lap_param_mu[ydim], c=\"b\", s=10)\n",
    "\n",
    "plt.title(f\"{((sum(mask)/res.logz.size)*100):.2f}% -{evaluating_GP_model} - {data_generation} - {COUNT} : {lap_2_sig_coverage*100:.2f}% Lap coverage\")\n",
    "plt.ylabel(param_names[ydim])\n",
    "plt.xlabel(param_names[xdim])\n",
    "plt.colorbar(likelihood_surface_scatter)\n",
    "f.savefig(f\"{log_path}/likelihood_surface_>={logz_mean:.2f}{std_filter:.2f}_x{xdim}y{ydim}.png\")"
   ]
  },
  {
   "cell_type": "code",
   "execution_count": 20,
   "metadata": {},
   "outputs": [],
   "source": [
    "all_logs = {\"MAP\": MAP, \"Laplace\": lap, \"AIC\": aic, \"BIC\": bic, \"Model Evidence\": model_evidence,\n",
    "            \"Laplace Log\": lap_log, \"AIC Log\": aic_log, \"BIC Log\": bic_log, \"Model Evidence Log\": model_evidence_log} \n",
    "pickle.dump(all_logs, open(f\"{log_path}/all_logs.pkl\", \"wb\"))"
   ]
  },
  {
   "cell_type": "markdown",
   "metadata": {},
   "source": [
    "# Summarizing results"
   ]
  },
  {
   "cell_type": "code",
   "execution_count": 21,
   "metadata": {},
   "outputs": [
    {
     "name": "stdout",
     "output_type": "stream",
     "text": [
      "\n",
      "MAP        | Laplace    | AIC        | AIC Scaled | BIC        | BIC Scaled | Model Evidence\n",
      "--|--|--|--|--|--|--\n",
      "145.32     | 141.41     | -286.64    | 143.32     | -282.82    | 141.41     | 145.85    \n",
      "\n"
     ]
    }
   ],
   "source": [
    "# Print a table containing the MLL, MAP, Laplace approximation, AIC, BIC and the model evidence\n",
    "print(f\"\\n{'MAP':<10} | {'Laplace':<10} | {'AIC':<10} | {'AIC Scaled':<10} | {'BIC':<10} | {'BIC Scaled':<10} | {'Model Evidence':<10}\")\n",
    "print(f\"--|--|--|--|--|--|--\")\n",
    "print(f\"{MAP:<10.2f} | {lap:<10.2f} | {aic:<10.2f} | {aic*(-0.5):<10.2f} | {bic:<10.2f} | {bic*(-0.5):<10.2f} | {model_evidence:<10.2f}\\n\")"
   ]
  },
  {
   "cell_type": "code",
   "execution_count": 22,
   "metadata": {},
   "outputs": [],
   "source": [
    "res_table = f\"\\n{'MAP':<10} | {'Laplace':<10} | {'AIC':<10} | {'AIC Scaled':<10} | {'BIC':<10} | {'BIC Scaled':<10} | {'Model Evidence':<10}\\n\" + \\\n",
    "            f\"{MAP:<10.2f} | {lap:<10.2f} | {aic:<10.2f} | {aic*(-0.5):<10.2f} | {bic:<10.2f} | {bic*(-0.5):<10.2f} | {model_evidence:<10.2f}\\n\"\n",
    "with open(f\"{log_path}/res_table.md\", \"w\") as f:\n",
    "    f.write(res_table)"
   ]
  },
  {
   "cell_type": "markdown",
   "metadata": {},
   "source": [
    "# In depth analysis"
   ]
  },
  {
   "cell_type": "markdown",
   "metadata": {},
   "source": [
    "\t- Eigenvalues Hessian\n",
    "\t- Condition number Hessian\n",
    "\t- Eigenvalues GP?\n",
    "\t- Condition number GP?\n",
    "\t- Correction terms\n",
    "\t- Laplace without correction\n",
    "\t- Correction terms of AIC and BIC\n",
    "\t- Neg MLL (Un-Scaled)\n",
    "\t- MSE of the GPs posterior mean\n",
    "\t- Percentage of training-points covered in the GP's $2\\sigma$ interval\n",
    "\t- With or without Z-scaling of the data? Compare several runs to see how they compare ⏫ \n"
   ]
  },
  {
   "cell_type": "code",
   "execution_count": 23,
   "metadata": {},
   "outputs": [
    {
     "name": "stdout",
     "output_type": "stream",
     "text": [
      "dict_keys(['neg MLL', 'punish term', 'laplace without replacement', 'num_replaced', 'parameter list', 'Jacobian', 'parameter values', 'corrected Hessian', 'diag(constructed eigvals)', 'original symmetrized Hessian', 'prior mean', 'diag(prior var)', 'likelihood approximation', 'Derivative time', 'Approximation time', 'Correction time', 'Prior generation time', 'Total time'])\n",
      "dict_keys(['punish term', 'Total time', 'loss term'])\n",
      "dict_keys(['punish term', 'Total time', 'loss term'])\n",
      "dict_keys(['Sample time', 'log Z', 'log Z err', 'prior mean', 'prior cov', 'dynamic', 'num sampled', 'parameter statistics', 'res file'])\n"
     ]
    }
   ],
   "source": [
    "# Log keys\n",
    "print(lap_log.keys())\n",
    "print(aic_log.keys())\n",
    "print(bic_log.keys())\n",
    "print(model_evidence_log.keys())\n"
   ]
  },
  {
   "cell_type": "markdown",
   "metadata": {},
   "source": [
    "## Eigenvalues Hessian"
   ]
  },
  {
   "cell_type": "code",
   "execution_count": 24,
   "metadata": {},
   "outputs": [
    {
     "name": "stdout",
     "output_type": "stream",
     "text": [
      "tensor([[ 3.1416e+02,  2.2204e-16],\n",
      "        [-2.2204e-16,  3.1416e+02]])\n",
      "tensor([[ 0.7163,  0.0933],\n",
      "        [ 0.0933, 25.1992]])\n",
      "original symmetrized Hessian eigvals torch.return_types.linalg_eig(\n",
      "eigenvalues=tensor([ 0.7160+0.j, 25.1995+0.j]),\n",
      "eigenvectors=tensor([[-1.0000+0.j, -0.0038+0.j],\n",
      "        [ 0.0038+0.j, -1.0000+0.j]]))\n",
      "tensor([[ 3.1344e+02, -9.3283e-02],\n",
      "        [-9.3283e-02,  2.8896e+02]])\n"
     ]
    }
   ],
   "source": [
    "print(lap_log[\"corrected Hessian\"])\n",
    "print(lap_log[\"original symmetrized Hessian\"])\n",
    "print(f\"original symmetrized Hessian eigvals {torch.linalg.eig(lap_log['original symmetrized Hessian'])}\")\n",
    "print(lap_log[\"corrected Hessian\"] - lap_log[\"original symmetrized Hessian\"])"
   ]
  },
  {
   "cell_type": "markdown",
   "metadata": {},
   "source": [
    "---"
   ]
  },
  {
   "cell_type": "markdown",
   "metadata": {},
   "source": [
    "# Notes and MWEs"
   ]
  }
 ],
 "metadata": {
  "kernelspec": {
   "display_name": "sageNewGPyTorch",
   "language": "python",
   "name": "python3"
  },
  "language_info": {
   "codemirror_mode": {
    "name": "ipython",
    "version": 3
   },
   "file_extension": ".py",
   "mimetype": "text/x-python",
   "name": "python",
   "nbconvert_exporter": "python",
   "pygments_lexer": "ipython3",
   "version": "3.11.4"
  }
 },
 "nbformat": 4,
 "nbformat_minor": 2
}
