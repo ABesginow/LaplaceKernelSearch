{
 "cells": [
  {
   "cell_type": "code",
   "execution_count": 1,
   "metadata": {},
   "outputs": [],
   "source": [
    "import sys\n",
    "sys.path.insert(1, \"..\")\n",
    "import pprint\n",
    "import gpytorch\n",
    "import torch\n",
    "import numpy as np\n",
    "import metrics\n",
    "import copy\n",
    "import configparser\n",
    "from experiment_functions import Experiment\n",
    "from GaussianProcess import ExactGPModel\n",
    "from globalParams import options, hyperparameter_limits\n",
    "import gpytorch\n",
    "from helpFunctions import get_string_representation_of_kernel as gsr\n",
    "from helpFunctions import clean_kernel_expression\n",
    "from helpFunctions import get_kernels_in_kernel_expression\n",
    "from helpFunctions import amount_of_base_kernels\n",
    "from itertools import product\n",
    "import json\n",
    "from kernelSearch import *\n",
    "from matplotlib import pyplot as plt\n",
    "from metrics import *\n",
    "from multiprocessing import Pool\n",
    "import numpy as np\n",
    "import os\n",
    "import pdb\n",
    "import pickle\n",
    "import random\n",
    "import tikzplotlib\n",
    "import time\n",
    "import torch\n",
    "from tqdm import tqdm\n",
    "from scipy.stats import multivariate_normal\n",
    "import matplotlib as mpl\n",
    "\n",
    "# To run STAN in a Jupyter notebook\n",
    "import nest_asyncio\n",
    "nest_asyncio.apply()\n",
    "\n"
   ]
  },
  {
   "cell_type": "markdown",
   "metadata": {},
   "source": [
    "# Helper functions"
   ]
  },
  {
   "cell_type": "code",
   "execution_count": 2,
   "metadata": {},
   "outputs": [],
   "source": [
    "\n",
    "def log_prior(model, theta_mu=None, sigma=None):\n",
    "    # params -\n",
    "    # TODO de-spaghettize this once the priors are coded properly\n",
    "    prior_dict = {'SE': {'raw_lengthscale' : {\"mean\": -0.21221139138922668 , \"std\":1.8895426067756804}},\n",
    "                  'MAT52': {'raw_lengthscale' :{\"mean\": 0.7993038925994188, \"std\":2.145122566357853 } },\n",
    "                  'MAT32': {'raw_lengthscale' :{\"mean\": 1.5711054238673443, \"std\":2.4453761235991216 } },\n",
    "                  'RQ': {'raw_lengthscale' :{\"mean\": -0.049841950913676276, \"std\":1.9426354614713097 },\n",
    "                          'raw_alpha' :{\"mean\": 1.882148553921053, \"std\":3.096431944989054 } },\n",
    "                  'PER':{'raw_lengthscale':{\"mean\": 0.7778461197268618, \"std\":2.288946656544974 },\n",
    "                          'raw_period_length':{\"mean\": 0.6485334993738499, \"std\":0.9930632050553377 } },\n",
    "                  'LIN':{'raw_variance' :{\"mean\": -0.8017903983055685, \"std\":0.9966569921354465 } },\n",
    "                  'c':{'raw_outputscale':{\"mean\": -1.6253091096349706, \"std\":2.2570021716661923 } },\n",
    "                  'noise': {'raw_noise':{\"mean\": -3.51640656386717, \"std\":3.5831320474767407 }}}\n",
    "    #prior_dict = {\"SE\": {\"raw_lengthscale\": {\"mean\": 0.891, \"std\": 2.195}},\n",
    "    #              \"MAT\": {\"raw_lengthscale\": {\"mean\": 1.631, \"std\": 2.554}},\n",
    "    #              \"PER\": {\"raw_lengthscale\": {\"mean\": 0.338, \"std\": 2.636},\n",
    "    #                      \"raw_period_length\": {\"mean\": 0.284, \"std\": 0.902}},\n",
    "    #              \"LIN\": {\"raw_variance\": {\"mean\": -1.463, \"std\": 1.633}},\n",
    "    #              \"c\": {\"raw_outputscale\": {\"mean\": -2.163, \"std\": 2.448}},\n",
    "    #              \"noise\": {\"raw_noise\": {\"mean\": -1.792, \"std\": 3.266}}}\n",
    "\n",
    "    variances_list = list()\n",
    "    debug_param_name_list = list()\n",
    "    theta_mu = list()\n",
    "    params = list()\n",
    "    covar_string = gsr(model.covar_module)\n",
    "    covar_string = covar_string.replace(\"(\", \"\")\n",
    "    covar_string = covar_string.replace(\")\", \"\")\n",
    "    covar_string = covar_string.replace(\" \", \"\")\n",
    "    covar_string = covar_string.replace(\"PER\", \"PER+PER\")\n",
    "    covar_string_list = [s.split(\"*\") for s in covar_string.split(\"+\")]\n",
    "    covar_string_list.insert(0, [\"LIKELIHOOD\"])\n",
    "    covar_string_list = list(chain.from_iterable(covar_string_list))\n",
    "    both_PER_params = False\n",
    "    for (param_name, param), cov_str in zip(model.named_parameters(), covar_string_list):\n",
    "        params.append(param.item())\n",
    "        debug_param_name_list.append(param_name)\n",
    "        # First param is (always?) noise and is always with the likelihood\n",
    "        if \"likelihood\" in param_name:\n",
    "            theta_mu.append(prior_dict[\"noise\"][\"raw_noise\"][\"mean\"])\n",
    "            variances_list.append(prior_dict[\"noise\"][\"raw_noise\"][\"std\"])\n",
    "            continue\n",
    "        else:\n",
    "            if (cov_str == \"PER\" or cov_str == \"RQ\") and not both_PER_params:\n",
    "                theta_mu.append(prior_dict[cov_str][param_name.split(\".\")[-1]][\"mean\"])\n",
    "                variances_list.append(prior_dict[cov_str][param_name.split(\".\")[-1]][\"std\"])\n",
    "                both_PER_params = True\n",
    "            elif (cov_str == \"PER\" or cov_str == \"RQ\") and both_PER_params:\n",
    "                theta_mu.append(prior_dict[cov_str][param_name.split(\".\")[-1]][\"mean\"])\n",
    "                variances_list.append(prior_dict[cov_str][param_name.split(\".\")[-1]][\"std\"])\n",
    "                both_PER_params = False\n",
    "            else:\n",
    "                try:\n",
    "                    theta_mu.append(prior_dict[cov_str][param_name.split(\".\")[-1]][\"mean\"])\n",
    "                    variances_list.append(prior_dict[cov_str][param_name.split(\".\")[-1]][\"std\"])\n",
    "                except Exception as E:\n",
    "                    import pdb\n",
    "                    pdb.set_trace()\n",
    "                    prev_cov = cov_str\n",
    "    theta_mu = torch.tensor(theta_mu)\n",
    "    theta_mu = theta_mu.unsqueeze(0).t()\n",
    "    sigma = torch.diag(torch.Tensor(variances_list))\n",
    "    sigma = sigma@sigma\n",
    "    prior = torch.distributions.MultivariateNormal(theta_mu.t(), sigma)\n",
    "\n",
    "    # for convention reasons I'm diving by the number of datapoints\n",
    "    return prior.log_prob(torch.Tensor(params)).item() / len(*model.train_inputs)\n",
    "\n",
    "def optimize_hyperparameters(model, likelihood, train_iterations, X, Y, with_BFGS=False, MAP=False, prior=None, **kwargs):\n",
    "    \"\"\"\n",
    "    find optimal hyperparameters either by BO or by starting from random initial values multiple times, using an optimizer every time\n",
    "    and then returning the best result\n",
    "    \"\"\"\n",
    "    ## Setup\n",
    "    # Log the parameters found during training\n",
    "    log_param_path = kwargs.get(\"log_param_path\", False)\n",
    "    log_likelihood = kwargs.get(\"log_likelihood\", False)\n",
    "    random_restarts = kwargs.get(\"random_restarts\", options[\"training\"][\"restarts\"]+1)\n",
    "    best_loss = 1e400\n",
    "    optimal_parameters = dict()\n",
    "    limits = hyperparameter_limits\n",
    "    if log_param_path:\n",
    "        param_log_list = list()\n",
    "    if log_likelihood:\n",
    "        likelihood_logs = list()\n",
    "    # start runs\n",
    "    for iteration in range(random_restarts):\n",
    "    #for iteration in range(2):\n",
    "        if log_likelihood:\n",
    "            likelihood_log = list()\n",
    "        if log_param_path:\n",
    "            param_log_dict = {param_name[0] : list() for param_name in model.named_parameters()}\n",
    "        # optimize and determine loss\n",
    "        # Perform a training for AIC and Laplace\n",
    "        model.train()\n",
    "        likelihood.train()\n",
    "\n",
    "        optimizer = torch.optim.Adam(model.parameters(), lr=0.1)\n",
    "\n",
    "        mll = gpytorch.mlls.ExactMarginalLogLikelihood(likelihood, model)\n",
    "\n",
    "        for i in range(train_iterations):\n",
    "            # Zero gradients from previous iteration\n",
    "            optimizer.zero_grad()\n",
    "            # Output from model\n",
    "            output = model(X)\n",
    "            # Calc loss and backprop gradients\n",
    "            loss = -mll(output, Y)\n",
    "            if MAP:\n",
    "                log_p = log_prior(model)\n",
    "                loss -= log_p\n",
    "            loss.backward()\n",
    "            optimizer.step()\n",
    "            if log_param_path:\n",
    "                for param_name in model.named_parameters():\n",
    "                    param_log_dict[param_name[0]].append(param_name[1].item())\n",
    "            if log_likelihood:\n",
    "                likelihood_log.append(loss.item())\n",
    "\n",
    "        if with_BFGS:\n",
    "            # Additional BFGS optimization to better ensure optimal parameters\n",
    "            # LBFGS_optimizer = torch.optim.LBFGS(model.parameters(), max_iter=50, line_search_fn='strong_wolfe')\n",
    "            LBFGS_optimizer = torch.optim.LBFGS(\n",
    "                model.parameters(), max_iter=500, max_eval=10000, tolerance_grad=1e-1, tolerance_change=1e-1,\n",
    "                line_search_fn='strong_wolfe')\n",
    "            # define closure\n",
    "            training_iterations=50\n",
    "            def closure():\n",
    "                LBFGS_optimizer.zero_grad()\n",
    "                output = model(X)\n",
    "                loss = -mll(output, Y)\n",
    "                if MAP:\n",
    "                    log_p = log_prior(model)\n",
    "                    loss -= log_p\n",
    "                loss.backward()\n",
    "                if log_param_path:\n",
    "                    for param_name in model.named_parameters():\n",
    "                        param_log_dict[param_name[0]].append(param_name[1].item())\n",
    "                if log_likelihood:\n",
    "                    likelihood_log.append(loss.item())\n",
    "                return loss\n",
    "            LBFGS_optimizer.step(closure)\n",
    "\n",
    "        # Zero gradients from previous iteration\n",
    "        optimizer.zero_grad()\n",
    "        # Output from model\n",
    "        output = model(X)\n",
    "        # Calc loss and backprop gradients\n",
    "        loss = -mll(output, Y)\n",
    "        if MAP:\n",
    "            log_p = log_prior(model)\n",
    "            loss -= log_p\n",
    "\n",
    "#        model.train_model(with_BFGS=with_BFGS)\n",
    "        current_loss = loss\n",
    "        # check if the current run is better than previous runs\n",
    "        if current_loss < best_loss:\n",
    "            # if it is the best, save all used parameters\n",
    "            best_loss = current_loss\n",
    "            for param_name, param in model.named_parameters():\n",
    "                optimal_parameters[param_name] = copy.deepcopy(param)\n",
    "\n",
    "        # set new random inital values\n",
    "        model.likelihood.noise_covar.noise = torch.rand(1) * (limits[\"Noise\"][1] - limits[\"Noise\"][0]) + limits[\"Noise\"][0]\n",
    "        #self.mean_module.constant = torch.rand(1) * (limits[\"Mean\"][1] - limits[\"Mean\"][0]) + limits[\"Mean\"][0]\n",
    "        for kernel in get_kernels_in_kernel_expression(model.covar_module):\n",
    "            hypers = limits[kernel._get_name()]\n",
    "            for hyperparameter in hypers:\n",
    "                new_value = torch.rand(1) * (hypers[hyperparameter][1] - hypers[hyperparameter][0]) + hypers[hyperparameter][0]\n",
    "                setattr(kernel, hyperparameter, new_value)\n",
    "\n",
    "        # print output if enabled\n",
    "        if options[\"training\"][\"print_optimizing_output\"]:\n",
    "            print(f\"HYPERPARAMETER OPTIMIZATION: Random Restart {iteration}: loss: {current_loss}, optimal loss: {best_loss}\")\n",
    "        if log_likelihood:\n",
    "            likelihood_logs.append(likelihood_log)\n",
    "        if log_param_path:\n",
    "            param_log_list.append(param_log_dict)\n",
    "\n",
    "    # finally, set the hyperparameters those in the optimal run\n",
    "    model.initialize(**optimal_parameters)\n",
    "    output = model(X)\n",
    "    mll = gpytorch.mlls.ExactMarginalLogLikelihood(likelihood, model)\n",
    "    loss = -mll(output, Y)\n",
    "    if MAP:\n",
    "        log_p = log_prior(model)\n",
    "        loss -= log_p\n",
    "    if not loss == best_loss:\n",
    "        import pdb\n",
    "        pdb.set_trace()\n",
    "        print(loss)\n",
    "        print(best_loss)\n",
    "    logables = dict()\n",
    "    if log_param_path:\n",
    "        logables[\"training_log\"] = param_log_dict\n",
    "    if log_likelihood:\n",
    "        logables[\"likelihood_log\"] = likelihood_log\n",
    "    if len(logables.keys()) > 0:\n",
    "        return loss, logables\n",
    "    return loss"
   ]
  },
  {
   "cell_type": "code",
   "execution_count": 3,
   "metadata": {},
   "outputs": [],
   "source": [
    "def get_std_points(mu, K):\n",
    "    x, y = np.mgrid[-3:3:.1, -3:3:.1]\n",
    "    rv = multivariate_normal(mu, K)\n",
    "    L = np.linalg.cholesky(K)\n",
    "\n",
    "    data = np.dstack((x, y))\n",
    "    z = rv.pdf(data)\n",
    "\n",
    "    # Drawing the unit circle\n",
    "    # x^2 + y^2 = 1\n",
    "    precision = 50\n",
    "    unit_x = torch.cat([torch.linspace(-1, 1, precision), torch.linspace(-1, 1, precision)])\n",
    "    unit_y = torch.cat([torch.sqrt(1 - torch.linspace(-1, 1, precision)**2), -torch.sqrt(1 - torch.linspace(-1, 1, precision)**2)])\n",
    "\n",
    "    new_unit_x = list()\n",
    "    new_unit_y = list()\n",
    "\n",
    "    for tx, ty in zip(unit_x, unit_y):\n",
    "        res = np.array([tx, ty]) @ L\n",
    "        new_unit_x.append(mu[0] + 2*res[0])\n",
    "        new_unit_y.append(mu[1] + 2*res[1])\n",
    "    return new_unit_x, new_unit_y"
   ]
  },
  {
   "cell_type": "markdown",
   "metadata": {},
   "source": [
    "# Pre-diddling"
   ]
  },
  {
   "cell_type": "code",
   "execution_count": 4,
   "metadata": {},
   "outputs": [],
   "source": [
    "# Globals\n",
    "figure_path = \"linear_figures\""
   ]
  },
  {
   "cell_type": "code",
   "execution_count": 5,
   "metadata": {},
   "outputs": [
    {
     "data": {
      "text/plain": [
       "[<matplotlib.lines.Line2D at 0x7f420cd18370>]"
      ]
     },
     "execution_count": 5,
     "metadata": {},
     "output_type": "execute_result"
    },
    {
     "data": {
      "image/png": "[encoded data removed]",
      "text/plain": [
       "<Figure size 640x480 with 1 Axes>"
      ]
     },
     "metadata": {},
     "output_type": "display_data"
    }
   ],
   "source": [
    "torch.manual_seed(42)\n",
    "END = 1\n",
    "COUNT = 10\n",
    "train_x = torch.linspace(0, END, COUNT)\n",
    "train_y = torch.linspace(0, END, COUNT)\n",
    "#train_y += torch.randn(train_x.size()) * torch.sqrt(torch.tensor(0.1))\n",
    "plt.plot(train_x, train_y, \"o\")"
   ]
  },
  {
   "cell_type": "code",
   "execution_count": null,
   "metadata": {},
   "outputs": [],
   "source": []
  },
  {
   "cell_type": "markdown",
   "metadata": {},
   "source": [
    "# Model definition"
   ]
  },
  {
   "cell_type": "code",
   "execution_count": 6,
   "metadata": {},
   "outputs": [],
   "source": [
    "# Simplest GP possible. SE with constant sigma_f \n",
    "class ExactGPModel(gpytorch.models.ExactGP):\n",
    "    def __init__(self, train_x, train_y, likelihood):\n",
    "        super(ExactGPModel, self).__init__(train_x, train_y, likelihood)\n",
    "        self.mean_module = gpytorch.means.ZeroMean()\n",
    "        self.covar_module = gpytorch.kernels.RBFKernel()\n",
    "        #self.covar_module = gpytorch.kernels.ScaleKernel(gpytorch.kernels.MaternKernel())\n",
    "        #self.covar_module = gpytorch.kernels.ScaleKernel(gpytorch.kernels.PeriodicKernel())\n",
    "\n",
    "    def forward(self, x):\n",
    "        mean_x = self.mean_module(x)\n",
    "        covar_x = self.covar_module(x)\n",
    "        return gpytorch.distributions.MultivariateNormal(mean_x, covar_x)\n",
    "\n",
    "# initialize likelihood and model\n",
    "#likelihood = gpytorch.likelihoods.GaussianLikelihood(noise_constraint=gpytorch.constraints.GreaterThan(1e-30))\n",
    "likelihood = gpytorch.likelihoods.GaussianLikelihood()\n",
    "model = ExactGPModel(train_x, train_y, likelihood)"
   ]
  },
  {
   "cell_type": "code",
   "execution_count": 7,
   "metadata": {},
   "outputs": [
    {
     "name": "stdout",
     "output_type": "stream",
     "text": [
      "tensor([ 8.3621e+00,  1.5041e+00,  1.2708e-01,  6.5276e-03,  2.2986e-04,\n",
      "         5.6375e-06,  2.2122e-07,  3.9967e-08, -2.4226e-08, -8.4223e-08],\n",
      "       grad_fn=<FlipBackward0>)\n",
      "tensor([[1.0000, 0.9872, 0.9499, 0.8908, 0.8142, 0.7253, 0.6297, 0.5328, 0.4394,\n",
      "         0.3532],\n",
      "        [0.9872, 1.0000, 0.9872, 0.9499, 0.8908, 0.8142, 0.7253, 0.6297, 0.5328,\n",
      "         0.4394],\n",
      "        [0.9499, 0.9872, 1.0000, 0.9872, 0.9499, 0.8908, 0.8142, 0.7253, 0.6297,\n",
      "         0.5328],\n",
      "        [0.8908, 0.9499, 0.9872, 1.0000, 0.9872, 0.9499, 0.8908, 0.8142, 0.7253,\n",
      "         0.6297],\n",
      "        [0.8142, 0.8908, 0.9499, 0.9872, 1.0000, 0.9872, 0.9499, 0.8908, 0.8142,\n",
      "         0.7253],\n",
      "        [0.7253, 0.8142, 0.8908, 0.9499, 0.9872, 1.0000, 0.9872, 0.9499, 0.8908,\n",
      "         0.8142],\n",
      "        [0.6297, 0.7253, 0.8142, 0.8908, 0.9499, 0.9872, 1.0000, 0.9872, 0.9499,\n",
      "         0.8908],\n",
      "        [0.5328, 0.6297, 0.7253, 0.8142, 0.8908, 0.9499, 0.9872, 1.0000, 0.9872,\n",
      "         0.9499],\n",
      "        [0.4394, 0.5328, 0.6297, 0.7253, 0.8142, 0.8908, 0.9499, 0.9872, 1.0000,\n",
      "         0.9872],\n",
      "        [0.3532, 0.4394, 0.5328, 0.6297, 0.7253, 0.8142, 0.8908, 0.9499, 0.9872,\n",
      "         1.0000]], grad_fn=<RBFCovarianceBackward>)\n"
     ]
    }
   ],
   "source": [
    "print(torch.linalg.eigh(model(train_x).covariance_matrix)[0].flip(0))\n",
    "print(model(train_x).covariance_matrix)"
   ]
  },
  {
   "cell_type": "markdown",
   "metadata": {},
   "source": [
    "# Training"
   ]
  },
  {
   "cell_type": "code",
   "execution_count": 8,
   "metadata": {},
   "outputs": [],
   "source": [
    "num_train_iter = 0\n",
    "use_MAP = True \n",
    "use_LBFGS = True\n",
    "# Train the MAP for 100 Iterations of ADAM and then 50 more of L-BFGS\n",
    "loss, training_log = optimize_hyperparameters(model, likelihood, num_train_iter, train_x, train_y, use_LBFGS, MAP=use_MAP, log_param_path=True, random_restarts=1, log_likelihood=True)"
   ]
  },
  {
   "cell_type": "code",
   "execution_count": 9,
   "metadata": {},
   "outputs": [
    {
     "name": "stdout",
     "output_type": "stream",
     "text": [
      "tensor([ 8.3621e+00,  1.5041e+00,  1.2708e-01,  6.5276e-03,  2.2986e-04,\n",
      "         5.6375e-06,  2.2122e-07,  3.9967e-08, -2.4226e-08, -8.4223e-08],\n",
      "       grad_fn=<FlipBackward0>)\n",
      "tensor([[1.0000, 0.9872, 0.9499, 0.8908, 0.8142, 0.7253, 0.6297, 0.5328, 0.4394,\n",
      "         0.3532],\n",
      "        [0.9872, 1.0000, 0.9872, 0.9499, 0.8908, 0.8142, 0.7253, 0.6297, 0.5328,\n",
      "         0.4394],\n",
      "        [0.9499, 0.9872, 1.0000, 0.9872, 0.9499, 0.8908, 0.8142, 0.7253, 0.6297,\n",
      "         0.5328],\n",
      "        [0.8908, 0.9499, 0.9872, 1.0000, 0.9872, 0.9499, 0.8908, 0.8142, 0.7253,\n",
      "         0.6297],\n",
      "        [0.8142, 0.8908, 0.9499, 0.9872, 1.0000, 0.9872, 0.9499, 0.8908, 0.8142,\n",
      "         0.7253],\n",
      "        [0.7253, 0.8142, 0.8908, 0.9499, 0.9872, 1.0000, 0.9872, 0.9499, 0.8908,\n",
      "         0.8142],\n",
      "        [0.6297, 0.7253, 0.8142, 0.8908, 0.9499, 0.9872, 1.0000, 0.9872, 0.9499,\n",
      "         0.8908],\n",
      "        [0.5328, 0.6297, 0.7253, 0.8142, 0.8908, 0.9499, 0.9872, 1.0000, 0.9872,\n",
      "         0.9499],\n",
      "        [0.4394, 0.5328, 0.6297, 0.7253, 0.8142, 0.8908, 0.9499, 0.9872, 1.0000,\n",
      "         0.9872],\n",
      "        [0.3532, 0.4394, 0.5328, 0.6297, 0.7253, 0.8142, 0.8908, 0.9499, 0.9872,\n",
      "         1.0000]], grad_fn=<RBFCovarianceBackward>)\n"
     ]
    }
   ],
   "source": [
    "print(torch.linalg.eigh(model(train_x).covariance_matrix)[0].flip(0))\n",
    "print(model(train_x).covariance_matrix)"
   ]
  },
  {
   "cell_type": "code",
   "execution_count": 10,
   "metadata": {},
   "outputs": [
    {
     "name": "stdout",
     "output_type": "stream",
     "text": [
      "MAP:1.3926527500152588\n",
      "[('likelihood.noise_covar.raw_noise', Parameter containing:\n",
      "tensor([0.], requires_grad=True)), ('covar_module.raw_lengthscale', Parameter containing:\n",
      "tensor([[0.]], requires_grad=True))]\n"
     ]
    }
   ],
   "source": [
    "print(f\"{'MAP' if use_MAP else 'likelihood'}:{loss}\")\n",
    "print(list(model.named_parameters()))"
   ]
  },
  {
   "cell_type": "code",
   "execution_count": 11,
   "metadata": {},
   "outputs": [
    {
     "data": {
      "text/plain": [
       "tensor([0.6932], grad_fn=<AddBackward0>)"
      ]
     },
     "execution_count": 11,
     "metadata": {},
     "output_type": "execute_result"
    }
   ],
   "source": [
    "model.likelihood.noise"
   ]
  },
  {
   "cell_type": "code",
   "execution_count": 12,
   "metadata": {},
   "outputs": [
    {
     "data": {
      "image/png": "[encoded data removed]",
      "text/plain": [
       "<Figure size 400x300 with 1 Axes>"
      ]
     },
     "metadata": {},
     "output_type": "display_data"
    }
   ],
   "source": [
    "# Get into evaluation (predictive posterior) mode\n",
    "model.eval()\n",
    "likelihood.eval()\n",
    "\n",
    "# Test points are regularly spaced along [0,1]\n",
    "# Make predictions by feeding model through likelihood\n",
    "with torch.no_grad(), gpytorch.settings.fast_pred_var():\n",
    "    test_x = torch.linspace(0, 1, 51)\n",
    "    a = model(test_x)\n",
    "    observed_pred = likelihood(a)\n",
    "    \n",
    "with torch.no_grad():\n",
    "    # Initialize plot\n",
    "    f, ax = plt.subplots(1, 1, figsize=(4, 3))\n",
    "\n",
    "    # Get upper and lower confidence bounds\n",
    "    lower, upper = observed_pred.confidence_region()\n",
    "    # Plot training data as black stars\n",
    "    ax.plot(train_x.numpy(), train_y.numpy(), 'k*')\n",
    "    # Plot predictive means as blue line\n",
    "    ax.plot(test_x.numpy(), observed_pred.mean.numpy(), 'b')\n",
    "    # Shade between the lower and upper confidence bounds\n",
    "    ax.fill_between(test_x.numpy(), lower.numpy(), upper.numpy(), alpha=0.5)\n",
    "    ax.set_ylim([-3, 3])\n",
    "    ax.legend(['Observed Data', 'Mean', 'Confidence'])"
   ]
  },
  {
   "cell_type": "code",
   "execution_count": 13,
   "metadata": {},
   "outputs": [
    {
     "data": {
      "text/plain": [
       "(tensor([-1.7765, -1.7535, -1.7306, -1.7080, -1.6855, -1.6633, -1.6414, -1.6197,\n",
       "         -1.5982, -1.5771, -1.5561, -1.5354, -1.5150, -1.4949, -1.4750, -1.4554,\n",
       "         -1.4360, -1.4170, -1.3982, -1.3797, -1.3616, -1.3438, -1.3263, -1.3092,\n",
       "         -1.2926, -1.2763, -1.2606, -1.2453, -1.2306, -1.2164, -1.2029, -1.1901,\n",
       "         -1.1780, -1.1667, -1.1562, -1.1465, -1.1379, -1.1301, -1.1235, -1.1179,\n",
       "         -1.1134, -1.1101, -1.1080, -1.1071, -1.1076, -1.1093, -1.1124, -1.1168,\n",
       "         -1.1226, -1.1298, -1.1383]),\n",
       " tensor([1.9643, 1.9674, 1.9715, 1.9767, 1.9828, 1.9899, 1.9980, 2.0069, 2.0167,\n",
       "         2.0273, 2.0387, 2.0507, 2.0634, 2.0767, 2.0906, 2.1049, 2.1197, 2.1348,\n",
       "         2.1502, 2.1658, 2.1816, 2.1976, 2.2137, 2.2298, 2.2459, 2.2619, 2.2779,\n",
       "         2.2937, 2.3094, 2.3250, 2.3403, 2.3555, 2.3704, 2.3851, 2.3995, 2.4137,\n",
       "         2.4277, 2.4415, 2.4550, 2.4683, 2.4814, 2.4943, 2.5070, 2.5195, 2.5318,\n",
       "         2.5439, 2.5559, 2.5678, 2.5795, 2.5911, 2.6025]))"
      ]
     },
     "execution_count": 13,
     "metadata": {},
     "output_type": "execute_result"
    }
   ],
   "source": [
    "observed_pred.confidence_region()"
   ]
  },
  {
   "cell_type": "code",
   "execution_count": 14,
   "metadata": {},
   "outputs": [
    {
     "data": {
      "text/plain": [
       "[<matplotlib.lines.Line2D at 0x7f41f7af0a60>]"
      ]
     },
     "execution_count": 14,
     "metadata": {},
     "output_type": "execute_result"
    },
    {
     "data": {
      "image/png": "[encoded data removed]",
      "text/plain": [
       "<Figure size 640x480 with 2 Axes>"
      ]
     },
     "metadata": {},
     "output_type": "display_data"
    }
   ],
   "source": [
    "#plt.plot(training_log[\"training_log\"]['likelihood.noise_covar.raw_noise'])\n",
    "#plt.plot(training_log[\"likelihood_log\"])\n",
    "param_keys = list(training_log[\"training_log\"].keys())\n",
    "filtered = False \n",
    "filtered_noise = list()\n",
    "filtered_length = list()\n",
    "filtered_loglike = list()\n",
    "\n",
    "# loop to filter draws below X \n",
    "for n, l, llik in zip(training_log[\"training_log\"][param_keys[0]], training_log[\"training_log\"][param_keys[1]], training_log[\"likelihood_log\"]):\n",
    "    if llik > -5000:\n",
    "        filtered_noise.append(n)\n",
    "        filtered_length.append(l)\n",
    "        filtered_loglike.append(llik)\n",
    "\n",
    "if filtered:\n",
    "    for i in range(len(filtered_noise)-1):\n",
    "        n, l = filtered_noise[i], filtered_length[i]\n",
    "        n2, l2 = filtered_noise[i+1], filtered_length[i+1]\n",
    "        plt.arrow(n, l, n2-n, l2-l, color=mpl.colormaps[\"Greens\"](i/len(filtered_noise)), head_length = 0.07, head_width = 0.025, length_includes_head = True)\n",
    "    plt.scatter(filtered_noise, filtered_length, c=filtered_loglike, s=3)\n",
    "else:\n",
    "    for i in range(len(training_log[\"training_log\"][param_keys[0]])-1):\n",
    "        n, l = training_log[\"training_log\"][param_keys[0]][i], training_log[\"training_log\"][param_keys[1]][i]\n",
    "        n2, l2 = training_log[\"training_log\"][param_keys[0]][i+1], training_log[\"training_log\"][param_keys[1]][i+1]\n",
    "        #plt.arrow(n, l, n2-n, l2-l, color=mpl.colormaps[\"Greens\"](i/len(training_log[\"training_log\"][param_keys[0]])), head_length = 0.07, head_width = 0.025, length_includes_head = True)\n",
    "    plt.scatter(training_log[\"training_log\"][param_keys[0]], training_log[\"training_log\"][param_keys[1]], c=-torch.Tensor(training_log[\"likelihood_log\"]), s=3)\n",
    "plt.title(\"Log MAP (larger = better)\" if use_MAP else \"Log Likelihood (larger = better)\")\n",
    "plt.colorbar()\n",
    "\n",
    "plt.plot(training_log[\"training_log\"][param_keys[0]][-1], training_log[\"training_log\"][param_keys[1]][-1], \"ro\") \n"
   ]
  },
  {
   "cell_type": "raw",
   "metadata": {},
   "source": [
    "\"\"\" Write me a loop that iterates over several raw noise values from -30 to 1 and plot the corresponding likelihood values, i.e. the MAP values\n",
    "\"\"\"\n",
    "def myMLL(model):\n",
    "    with torch.no_grad():\n",
    "        observed_pred_prior = likelihood(model(model.train_inputs[0]))\n",
    "\n",
    "    like_cov_chol = torch.linalg.cholesky(observed_pred_prior.covariance_matrix)\n",
    "    like_dist = torch.distributions.multivariate_normal.MultivariateNormal(observed_pred_prior.mean, scale_tril=like_cov_chol)\n",
    "    return like_dist.log_prob(model.train_targets)\n",
    "\n",
    "# noise and lengthscale ranges\n",
    "noise_range = torch.linspace(-25, -9, 10)\n",
    "length_range = torch.linspace(2, 2, 1)\n",
    "\n",
    "# make meshgrid\n",
    "noise_grid, length_grid = torch.meshgrid(noise_range, length_range)\n",
    "loss_list = list()\n",
    "\n",
    "for n_val, l_val in product(noise_range, length_range):\n",
    "    model.likelihood.raw_noise.data = torch.full_like(model.likelihood.raw_noise.data, n_val)\n",
    "    model.covar_module.raw_lengthscale.data = torch.full_like(model.covar_module.raw_lengthscale.data, l_val)\n",
    "    #model.likelihood.noise_covar.noise = n_val\n",
    "    #model.covar_module.raw_lengthscale = l_val\n",
    "    mll = gpytorch.mlls.ExactMarginalLogLikelihood(likelihood, model)\n",
    "    loss = mll(model(train_x), train_y)\n",
    "    myloss = myMLL(model)\n",
    "    print(f\"noise: {n_val}, loss:{loss}, myloss:{myloss/len(train_x)}\")\n",
    "    loss_list.append(loss)\n",
    "\n",
    "\n",
    "mll = gpytorch.mlls.ExactMarginalLogLikelihood(likelihood, model)\n",
    "\n",
    "model.covar_module.raw_lengthscale.data = torch.full_like(model.covar_module.raw_lengthscale.data, torch.tensor(2))\n",
    "# Running model with a noise of -25 and a lengthscale of 2\n",
    "model.likelihood.raw_noise.data = torch.full_like(model.likelihood.raw_noise.data, torch.tensor(-25))\n",
    "loss = mll(model(train_x), train_y)\n",
    "myloss = myMLL(model)\n",
    "print(likelihood(model(train_x)).covariance_matrix)\n",
    "print(f\"-25 ({torch.nn.functional.softplus(torch.tensor(-25.))}) loss:{loss}, myloss:{myloss/len(train_x)}\")\n",
    "\n",
    "\n",
    "\n",
    "\n",
    "# Running model with a noise of -9 and a lengthscale of 2\n",
    "model.likelihood.raw_noise.data = torch.full_like(model.likelihood.raw_noise.data, torch.tensor(-9))\n",
    "loss = mll(model(train_x), train_y)\n",
    "myloss = myMLL(model)\n",
    "print(likelihood(model(train_x)).covariance_matrix)\n",
    "print(f\"-9 ({torch.nn.functional.softplus(torch.tensor(-9.))}) loss:{loss}, myloss:{myloss/len(train_x)}\")\n",
    "\n",
    "\n",
    "\n",
    "\n",
    "\n",
    "\n",
    "\n",
    "\n",
    "loss_max = max(loss_list)\n",
    "loss_min = min(loss_list)\n",
    "for (n_val, l_val), loss in zip(product(noise_range, length_range), loss_list):\n",
    "    plt.scatter(torch.nn.functional.softplus(n_val), torch.nn.functional.softplus(l_val), c=loss.detach().numpy(), vmin=loss_min, vmax=loss_max, s=3)\n",
    "plt.xlabel(\"raw noise\")\n",
    "plt.xscale(\"log\")\n",
    "plt.ylabel(\"raw lengthscale\")\n",
    "plt.yscale(\"log\")\n",
    "plt.colorbar()\n"
   ]
  },
  {
   "cell_type": "code",
   "execution_count": null,
   "metadata": {},
   "outputs": [],
   "source": []
  },
  {
   "cell_type": "code",
   "execution_count": 15,
   "metadata": {},
   "outputs": [
    {
     "name": "stdout",
     "output_type": "stream",
     "text": [
      "tensor(-8.0806)\n",
      "-13.926527500152588\n",
      "tensor(-13.9265, grad_fn=<MulBackward0>)\n"
     ]
    },
    {
     "name": "stderr",
     "output_type": "stream",
     "text": [
      "/home/besginow/anaconda3/envs/sage/lib/python3.10/site-packages/gpytorch/models/exact_gp.py:274: GPInputWarning: The input matches the stored training data. Did you forget to call model.train()?\n",
      "  warnings.warn(\n"
     ]
    }
   ],
   "source": [
    "with torch.no_grad():\n",
    "    observed_pred_prior = likelihood(model(model.train_inputs[0]))\n",
    "\n",
    "like_cov_chol = torch.linalg.cholesky(observed_pred_prior.covariance_matrix)\n",
    "like_dist = torch.distributions.multivariate_normal.MultivariateNormal(observed_pred_prior.mean, scale_tril=like_cov_chol)\n",
    "print(like_dist.log_prob(model.train_targets))\n",
    "print(-training_log[\"likelihood_log\"][-1]*COUNT)\n",
    "print(-loss*COUNT)"
   ]
  },
  {
   "cell_type": "code",
   "execution_count": 16,
   "metadata": {},
   "outputs": [
    {
     "data": {
      "text/plain": [
       "torch.return_types.linalg_eigh(\n",
       "eigenvalues=tensor([0.6932, 0.6932, 0.6932, 0.6932, 0.6933, 0.6935, 0.6997, 0.8006, 1.1678,\n",
       "        1.3334]),\n",
       "eigenvectors=tensor([[ 0.0000,  0.0000, -0.1513, -0.0000,  0.2405, -0.3646, -0.4733,  0.5210,\n",
       "          0.4626, -0.2771],\n",
       "        [-0.0771,  0.0580,  0.5446,  0.0552, -0.4962,  0.3743,  0.0930,  0.2234,\n",
       "          0.3940, -0.3015],\n",
       "        [ 0.3454, -0.2607, -0.5871, -0.1638, -0.0057,  0.3422,  0.3583, -0.0412,\n",
       "          0.3013, -0.3211],\n",
       "        [-0.5895,  0.4246, -0.0492,  0.0115,  0.3795, -0.0261,  0.3460, -0.2395,\n",
       "          0.1892, -0.3349],\n",
       "        [ 0.4456, -0.1753,  0.3374,  0.4915,  0.2156, -0.3301,  0.1387, -0.3457,\n",
       "          0.0645, -0.3421],\n",
       "        [-0.1734, -0.3665,  0.1412, -0.6357, -0.2060, -0.3304, -0.1387, -0.3457,\n",
       "         -0.0645, -0.3421],\n",
       "        [ 0.2417,  0.6196, -0.2701,  0.0631, -0.3936, -0.0262, -0.3460, -0.2395,\n",
       "         -0.1892, -0.3349],\n",
       "        [-0.3997, -0.4227, -0.1654,  0.4394,  0.0083,  0.3422, -0.3583, -0.0412,\n",
       "         -0.3013, -0.3211],\n",
       "        [ 0.2754,  0.1425,  0.2991, -0.3464,  0.4995,  0.3745, -0.0930,  0.2234,\n",
       "         -0.3940, -0.3015],\n",
       "        [-0.0685, -0.0195, -0.0992,  0.0852, -0.2418, -0.3647,  0.4733,  0.5210,\n",
       "         -0.4626, -0.2771]]))"
      ]
     },
     "execution_count": 16,
     "metadata": {},
     "output_type": "execute_result"
    }
   ],
   "source": [
    "torch.linalg.eigh(observed_pred_prior.covariance_matrix)"
   ]
  },
  {
   "cell_type": "markdown",
   "metadata": {},
   "source": [
    "# Laplace"
   ]
  },
  {
   "cell_type": "code",
   "execution_count": 17,
   "metadata": {},
   "outputs": [
    {
     "data": {
      "text/plain": [
       "1"
      ]
     },
     "execution_count": 17,
     "metadata": {},
     "output_type": "execute_result"
    }
   ],
   "source": [
    "#training_log[\"training_log\"][:-50]\n",
    "len(training_log[\"likelihood_log\"])"
   ]
  },
  {
   "cell_type": "code",
   "execution_count": 18,
   "metadata": {},
   "outputs": [
    {
     "name": "stdout",
     "output_type": "stream",
     "text": [
      "L-BFGS iterations: 1\n",
      "tensor(-3.3927, dtype=torch.float64, grad_fn=<AddBackward0>)\n",
      "{'neg MLL': tensor(1.3927, grad_fn=<NegBackward0>), 'punish term': tensor(-2.0001, dtype=torch.float64), 'laplace without replacement': tensor(3.6612, dtype=torch.float64, grad_fn=<SubBackward0>), 'num_replaced': tensor(2), 'parameter list': ['likelihood.noise_covar.raw_noise', 'covar_module.raw_lengthscale'], 'Jacobian': (tensor([0.2899], grad_fn=<SoftplusBackwardBackward0>), tensor([[-0.0338]], grad_fn=<SoftplusBackwardBackward0>)), 'parameter values': tensor([[0.],\n",
      "        [0.]]), 'corrected Hessian': tensor([[46.4268,  0.0000],\n",
      "        [ 0.0000, 46.4268]], dtype=torch.float64), 'diag(constructed eigvals)': tensor([46.4268, 46.4268], dtype=torch.float64), 'original symmetrized Hessian': tensor([[-0.0545,  0.0146],\n",
      "        [ 0.0146, -0.0334]], dtype=torch.float64), 'prior mean': tensor([[-3.5164],\n",
      "        [-0.2122]], dtype=torch.float64), 'diag(prior var)': tensor([12.8388,  3.5704], dtype=torch.float64), 'likelihood approximation': tensor(-3.3927, dtype=torch.float64, grad_fn=<AddBackward0>), 'Derivative time': 0.0021648406982421875, 'Approximation time': 0.00038123130798339844, 'Correction time': 0.0002002716064453125, 'Prior generation time': 0.00010395050048828125, 'Total time': 0.0028069019317626953}\n"
     ]
    },
    {
     "ename": "ValueError",
     "evalue": "The input matrix must be symmetric positive semidefinite.",
     "output_type": "error",
     "traceback": [
      "\u001b[0;31m---------------------------------------------------------------------------\u001b[0m",
      "\u001b[0;31mValueError\u001b[0m                                Traceback (most recent call last)",
      "\u001b[0;32m/tmp/ipykernel_4127537/3169175058.py\u001b[0m in \u001b[0;36m<cell line: 19>\u001b[0;34m()\u001b[0m\n\u001b[1;32m     17\u001b[0m \u001b[0mplt\u001b[0m\u001b[0;34m.\u001b[0m\u001b[0mscatter\u001b[0m\u001b[0;34m(\u001b[0m\u001b[0mnew_unit_x\u001b[0m\u001b[0;34m,\u001b[0m \u001b[0mnew_unit_y\u001b[0m\u001b[0;34m,\u001b[0m \u001b[0mcolor\u001b[0m\u001b[0;34m=\u001b[0m\u001b[0;34m\"grey\"\u001b[0m\u001b[0;34m,\u001b[0m \u001b[0ms\u001b[0m\u001b[0;34m=\u001b[0m\u001b[0;36m3\u001b[0m\u001b[0;34m)\u001b[0m\u001b[0;34m\u001b[0m\u001b[0;34m\u001b[0m\u001b[0m\n\u001b[1;32m     18\u001b[0m \u001b[0mK\u001b[0m \u001b[0;34m=\u001b[0m \u001b[0mlap_log\u001b[0m\u001b[0;34m[\u001b[0m\u001b[0;34m\"original symmetrized Hessian\"\u001b[0m\u001b[0;34m]\u001b[0m\u001b[0;34m\u001b[0m\u001b[0;34m\u001b[0m\u001b[0m\n\u001b[0;32m---> 19\u001b[0;31m \u001b[0mnew_unit_x\u001b[0m\u001b[0;34m,\u001b[0m \u001b[0mnew_unit_y\u001b[0m \u001b[0;34m=\u001b[0m \u001b[0mget_std_points\u001b[0m\u001b[0;34m(\u001b[0m\u001b[0mmu\u001b[0m\u001b[0;34m,\u001b[0m \u001b[0mK\u001b[0m\u001b[0;34m.\u001b[0m\u001b[0minverse\u001b[0m\u001b[0;34m(\u001b[0m\u001b[0;34m)\u001b[0m\u001b[0;34m[\u001b[0m\u001b[0;34m:\u001b[0m\u001b[0;36m2\u001b[0m\u001b[0;34m,\u001b[0m \u001b[0;34m:\u001b[0m\u001b[0;36m2\u001b[0m\u001b[0;34m]\u001b[0m\u001b[0;34m)\u001b[0m\u001b[0;34m\u001b[0m\u001b[0;34m\u001b[0m\u001b[0m\n\u001b[0m\u001b[1;32m     20\u001b[0m \u001b[0mplt\u001b[0m\u001b[0;34m.\u001b[0m\u001b[0mscatter\u001b[0m\u001b[0;34m(\u001b[0m\u001b[0mnew_unit_x\u001b[0m\u001b[0;34m,\u001b[0m \u001b[0mnew_unit_y\u001b[0m\u001b[0;34m,\u001b[0m \u001b[0mcolor\u001b[0m\u001b[0;34m=\u001b[0m\u001b[0;34m\"black\"\u001b[0m\u001b[0;34m,\u001b[0m \u001b[0ms\u001b[0m\u001b[0;34m=\u001b[0m\u001b[0;36m3\u001b[0m\u001b[0;34m)\u001b[0m\u001b[0;34m\u001b[0m\u001b[0;34m\u001b[0m\u001b[0m\n\u001b[1;32m     21\u001b[0m \u001b[0;34m\u001b[0m\u001b[0m\n",
      "\u001b[0;32m/tmp/ipykernel_4127537/732110637.py\u001b[0m in \u001b[0;36mget_std_points\u001b[0;34m(mu, K)\u001b[0m\n\u001b[1;32m      1\u001b[0m \u001b[0;32mdef\u001b[0m \u001b[0mget_std_points\u001b[0m\u001b[0;34m(\u001b[0m\u001b[0mmu\u001b[0m\u001b[0;34m,\u001b[0m \u001b[0mK\u001b[0m\u001b[0;34m)\u001b[0m\u001b[0;34m:\u001b[0m\u001b[0;34m\u001b[0m\u001b[0;34m\u001b[0m\u001b[0m\n\u001b[1;32m      2\u001b[0m     \u001b[0mx\u001b[0m\u001b[0;34m,\u001b[0m \u001b[0my\u001b[0m \u001b[0;34m=\u001b[0m \u001b[0mnp\u001b[0m\u001b[0;34m.\u001b[0m\u001b[0mmgrid\u001b[0m\u001b[0;34m[\u001b[0m\u001b[0;34m-\u001b[0m\u001b[0;36m3\u001b[0m\u001b[0;34m:\u001b[0m\u001b[0;36m3\u001b[0m\u001b[0;34m:\u001b[0m\u001b[0;36m.1\u001b[0m\u001b[0;34m,\u001b[0m \u001b[0;34m-\u001b[0m\u001b[0;36m3\u001b[0m\u001b[0;34m:\u001b[0m\u001b[0;36m3\u001b[0m\u001b[0;34m:\u001b[0m\u001b[0;36m.1\u001b[0m\u001b[0;34m]\u001b[0m\u001b[0;34m\u001b[0m\u001b[0;34m\u001b[0m\u001b[0m\n\u001b[0;32m----> 3\u001b[0;31m     \u001b[0mrv\u001b[0m \u001b[0;34m=\u001b[0m \u001b[0mmultivariate_normal\u001b[0m\u001b[0;34m(\u001b[0m\u001b[0mmu\u001b[0m\u001b[0;34m,\u001b[0m \u001b[0mK\u001b[0m\u001b[0;34m)\u001b[0m\u001b[0;34m\u001b[0m\u001b[0;34m\u001b[0m\u001b[0m\n\u001b[0m\u001b[1;32m      4\u001b[0m     \u001b[0mL\u001b[0m \u001b[0;34m=\u001b[0m \u001b[0mnp\u001b[0m\u001b[0;34m.\u001b[0m\u001b[0mlinalg\u001b[0m\u001b[0;34m.\u001b[0m\u001b[0mcholesky\u001b[0m\u001b[0;34m(\u001b[0m\u001b[0mK\u001b[0m\u001b[0;34m)\u001b[0m\u001b[0;34m\u001b[0m\u001b[0;34m\u001b[0m\u001b[0m\n\u001b[1;32m      5\u001b[0m \u001b[0;34m\u001b[0m\u001b[0m\n",
      "\u001b[0;32m~/anaconda3/envs/sage/lib/python3.10/site-packages/scipy/stats/_multivariate.py\u001b[0m in \u001b[0;36m__call__\u001b[0;34m(self, mean, cov, allow_singular, seed)\u001b[0m\n\u001b[1;32m    391\u001b[0m         \u001b[0mSee\u001b[0m\u001b[0;31m \u001b[0m\u001b[0;31m`\u001b[0m\u001b[0mmultivariate_normal_frozen\u001b[0m\u001b[0;31m`\u001b[0m \u001b[0;32mfor\u001b[0m \u001b[0mmore\u001b[0m \u001b[0minformation\u001b[0m\u001b[0;34m.\u001b[0m\u001b[0;34m\u001b[0m\u001b[0;34m\u001b[0m\u001b[0m\n\u001b[1;32m    392\u001b[0m         \"\"\"\n\u001b[0;32m--> 393\u001b[0;31m         return multivariate_normal_frozen(mean, cov,\n\u001b[0m\u001b[1;32m    394\u001b[0m                                           \u001b[0mallow_singular\u001b[0m\u001b[0;34m=\u001b[0m\u001b[0mallow_singular\u001b[0m\u001b[0;34m,\u001b[0m\u001b[0;34m\u001b[0m\u001b[0;34m\u001b[0m\u001b[0m\n\u001b[1;32m    395\u001b[0m                                           seed=seed)\n",
      "\u001b[0;32m~/anaconda3/envs/sage/lib/python3.10/site-packages/scipy/stats/_multivariate.py\u001b[0m in \u001b[0;36m__init__\u001b[0;34m(self, mean, cov, allow_singular, seed, maxpts, abseps, releps)\u001b[0m\n\u001b[1;32m    832\u001b[0m         \u001b[0mself\u001b[0m\u001b[0;34m.\u001b[0m\u001b[0m_dist\u001b[0m \u001b[0;34m=\u001b[0m \u001b[0mmultivariate_normal_gen\u001b[0m\u001b[0;34m(\u001b[0m\u001b[0mseed\u001b[0m\u001b[0;34m)\u001b[0m\u001b[0;34m\u001b[0m\u001b[0;34m\u001b[0m\u001b[0m\n\u001b[1;32m    833\u001b[0m         self.dim, self.mean, self.cov_object = (\n\u001b[0;32m--> 834\u001b[0;31m             self._dist._process_parameters(mean, cov, allow_singular))\n\u001b[0m\u001b[1;32m    835\u001b[0m         \u001b[0mself\u001b[0m\u001b[0;34m.\u001b[0m\u001b[0mallow_singular\u001b[0m \u001b[0;34m=\u001b[0m \u001b[0mallow_singular\u001b[0m \u001b[0;32mor\u001b[0m \u001b[0mself\u001b[0m\u001b[0;34m.\u001b[0m\u001b[0mcov_object\u001b[0m\u001b[0;34m.\u001b[0m\u001b[0m_allow_singular\u001b[0m\u001b[0;34m\u001b[0m\u001b[0;34m\u001b[0m\u001b[0m\n\u001b[1;32m    836\u001b[0m         \u001b[0;32mif\u001b[0m \u001b[0;32mnot\u001b[0m \u001b[0mmaxpts\u001b[0m\u001b[0;34m:\u001b[0m\u001b[0;34m\u001b[0m\u001b[0;34m\u001b[0m\u001b[0m\n",
      "\u001b[0;32m~/anaconda3/envs/sage/lib/python3.10/site-packages/scipy/stats/_multivariate.py\u001b[0m in \u001b[0;36m_process_parameters\u001b[0;34m(self, mean, cov, allow_singular)\u001b[0m\n\u001b[1;32m    415\u001b[0m             \u001b[0;31m# array with `_PSD`, and then use wrapper that satisfies the\u001b[0m\u001b[0;34m\u001b[0m\u001b[0;34m\u001b[0m\u001b[0m\n\u001b[1;32m    416\u001b[0m             \u001b[0;31m# `Covariance` interface, `CovViaPSD`.\u001b[0m\u001b[0;34m\u001b[0m\u001b[0;34m\u001b[0m\u001b[0m\n\u001b[0;32m--> 417\u001b[0;31m             \u001b[0mpsd\u001b[0m \u001b[0;34m=\u001b[0m \u001b[0m_PSD\u001b[0m\u001b[0;34m(\u001b[0m\u001b[0mcov\u001b[0m\u001b[0;34m,\u001b[0m \u001b[0mallow_singular\u001b[0m\u001b[0;34m=\u001b[0m\u001b[0mallow_singular\u001b[0m\u001b[0;34m)\u001b[0m\u001b[0;34m\u001b[0m\u001b[0;34m\u001b[0m\u001b[0m\n\u001b[0m\u001b[1;32m    418\u001b[0m             \u001b[0mcov_object\u001b[0m \u001b[0;34m=\u001b[0m \u001b[0m_covariance\u001b[0m\u001b[0;34m.\u001b[0m\u001b[0mCovViaPSD\u001b[0m\u001b[0;34m(\u001b[0m\u001b[0mpsd\u001b[0m\u001b[0;34m)\u001b[0m\u001b[0;34m\u001b[0m\u001b[0;34m\u001b[0m\u001b[0m\n\u001b[1;32m    419\u001b[0m             \u001b[0;32mreturn\u001b[0m \u001b[0mdim\u001b[0m\u001b[0;34m,\u001b[0m \u001b[0mmean\u001b[0m\u001b[0;34m,\u001b[0m \u001b[0mcov_object\u001b[0m\u001b[0;34m\u001b[0m\u001b[0;34m\u001b[0m\u001b[0m\n",
      "\u001b[0;32m~/anaconda3/envs/sage/lib/python3.10/site-packages/scipy/stats/_multivariate.py\u001b[0m in \u001b[0;36m__init__\u001b[0;34m(self, M, cond, rcond, lower, check_finite, allow_singular)\u001b[0m\n\u001b[1;32m    165\u001b[0m         \u001b[0;32mif\u001b[0m \u001b[0mnp\u001b[0m\u001b[0;34m.\u001b[0m\u001b[0mmin\u001b[0m\u001b[0;34m(\u001b[0m\u001b[0ms\u001b[0m\u001b[0;34m)\u001b[0m \u001b[0;34m<\u001b[0m \u001b[0;34m-\u001b[0m\u001b[0meps\u001b[0m\u001b[0;34m:\u001b[0m\u001b[0;34m\u001b[0m\u001b[0;34m\u001b[0m\u001b[0m\n\u001b[1;32m    166\u001b[0m             \u001b[0mmsg\u001b[0m \u001b[0;34m=\u001b[0m \u001b[0;34m\"The input matrix must be symmetric positive semidefinite.\"\u001b[0m\u001b[0;34m\u001b[0m\u001b[0;34m\u001b[0m\u001b[0m\n\u001b[0;32m--> 167\u001b[0;31m             \u001b[0;32mraise\u001b[0m \u001b[0mValueError\u001b[0m\u001b[0;34m(\u001b[0m\u001b[0mmsg\u001b[0m\u001b[0;34m)\u001b[0m\u001b[0;34m\u001b[0m\u001b[0;34m\u001b[0m\u001b[0m\n\u001b[0m\u001b[1;32m    168\u001b[0m         \u001b[0md\u001b[0m \u001b[0;34m=\u001b[0m \u001b[0ms\u001b[0m\u001b[0;34m[\u001b[0m\u001b[0ms\u001b[0m \u001b[0;34m>\u001b[0m \u001b[0meps\u001b[0m\u001b[0;34m]\u001b[0m\u001b[0;34m\u001b[0m\u001b[0;34m\u001b[0m\u001b[0m\n\u001b[1;32m    169\u001b[0m         \u001b[0;32mif\u001b[0m \u001b[0mlen\u001b[0m\u001b[0;34m(\u001b[0m\u001b[0md\u001b[0m\u001b[0;34m)\u001b[0m \u001b[0;34m<\u001b[0m \u001b[0mlen\u001b[0m\u001b[0;34m(\u001b[0m\u001b[0ms\u001b[0m\u001b[0;34m)\u001b[0m \u001b[0;32mand\u001b[0m \u001b[0;32mnot\u001b[0m \u001b[0mallow_singular\u001b[0m\u001b[0;34m:\u001b[0m\u001b[0;34m\u001b[0m\u001b[0;34m\u001b[0m\u001b[0m\n",
      "\u001b[0;31mValueError\u001b[0m: The input matrix must be symmetric positive semidefinite."
     ]
    },
    {
     "data": {
      "image/png": "[encoded data removed]",
      "text/plain": [
       "<Figure size 640x480 with 1 Axes>"
      ]
     },
     "metadata": {},
     "output_type": "display_data"
    }
   ],
   "source": [
    "print(f\"L-BFGS iterations: {len(training_log['likelihood_log']) - num_train_iter}\")\n",
    "model.train()\n",
    "likelihood.train()\n",
    "\n",
    "lap, lap_log = metrics.calculate_laplace(model, -loss, with_prior=True, param_punish_term=-1.0)\n",
    "print(lap)\n",
    "print(lap_log)\n",
    "\n",
    "# Draw the distribution defined by the mean (found parametrization) and covariance matrix (Hessian)\n",
    "# (4.133) in Bishop, 2006: f(z) ~ f(z_0)exp(-0.5 (z-z_0)^T H (z-z_0)) with z the parameters, and H the Hessian\n",
    "# We just leave out the f(z_0)\n",
    "\n",
    "scaling_factor = lap_log[\"neg MLL\"]\n",
    "mu = [training_log[\"training_log\"][param_keys[0]][-1], training_log[\"training_log\"][param_keys[1]][-1]]\n",
    "K = lap_log[\"corrected Hessian\"]\n",
    "new_unit_x, new_unit_y = get_std_points(mu, K.inverse()[:2, :2])\n",
    "plt.scatter(new_unit_x, new_unit_y, color=\"grey\", s=3)\n",
    "K = lap_log[\"original symmetrized Hessian\"]\n",
    "new_unit_x, new_unit_y = get_std_points(mu, K.inverse()[:2, :2])\n",
    "plt.scatter(new_unit_x, new_unit_y, color=\"black\", s=3)\n",
    "\n"
   ]
  },
  {
   "cell_type": "code",
   "execution_count": null,
   "metadata": {},
   "outputs": [
    {
     "data": {
      "text/plain": [
       "torch.return_types.linalg_eigh(\n",
       "eigenvalues=tensor([0.0180, 0.0478]),\n",
       "eigenvectors=tensor([[ 0.2907, -0.9568],\n",
       "        [-0.9568, -0.2907]]))"
      ]
     },
     "execution_count": 19,
     "metadata": {},
     "output_type": "execute_result"
    }
   ],
   "source": [
    "torch.linalg.eigh(torch.tensor([[0.0453, 0.0083],\n",
    "        [0.0083, 0.0205]]))"
   ]
  },
  {
   "cell_type": "markdown",
   "metadata": {},
   "source": [
    "# MCMC"
   ]
  },
  {
   "cell_type": "code",
   "execution_count": null,
   "metadata": {},
   "outputs": [
    {
     "name": "stdout",
     "output_type": "stream",
     "text": [
      "Building...\n"
     ]
    },
    {
     "name": "stderr",
     "output_type": "stream",
     "text": [
      "\n",
      "Building: found in cache, done.Messages from stanc:\n",
      "Warning: The parameter theta has no priors. This means either no prior is\n",
      "    provided, or the prior(s) depend on data variables. In the later case,\n",
      "    this may be a false positive.\n",
      "Sampling:   0%"
     ]
    },
    {
     "name": "stderr",
     "output_type": "stream",
     "text": [
      "\n",
      "Sampling: 100% (2000/2000)\n",
      "Sampling: 100% (2000/2000), done.\n",
      "Messages received during sampling:\n",
      "  Gradient evaluation took 2.9e-05 seconds\n",
      "  1000 transitions using 10 leapfrog steps per transition would take 0.29 seconds.\n",
      "  Adjust your expectations accordingly!\n"
     ]
    },
    {
     "name": "stdout",
     "output_type": "stream",
     "text": [
      "tensor(22.6137)\n"
     ]
    }
   ],
   "source": [
    "from metrics import calculate_mc_STAN\n",
    "# Perform MCMC\n",
    "MCMC_approx, MC_log = calculate_mc_STAN(\n",
    "    model, likelihood, 1000, log_param_path=True, log_full_likelihood=True)\n",
    "print(MCMC_approx)"
   ]
  },
  {
   "cell_type": "code",
   "execution_count": null,
   "metadata": {},
   "outputs": [],
   "source": [
    "# w. 0 ADAM (MAP)\n",
    "#[('likelihood.noise_covar.raw_noise', Parameter containing:\n",
    "#tensor([-11.8925], requires_grad=True)), ('covar_module.raw_lengthscale', Parameter containing:\n",
    "#tensor([[1.7432]], requires_grad=True))]\n",
    "# w. 50 ADAM\n",
    "# [('likelihood.noise_covar.raw_noise', Parameter containing:\n",
    "# tensor([-11.6812], requires_grad=True)), ('covar_module.raw_lengthscale', Parameter containing:\n",
    "# tensor([[1.5973]], requires_grad=True))]\n",
    "# w. 100 ADAM\n",
    "# [('likelihood.noise_covar.raw_noise', Parameter containing:\n",
    "# tensor([-10.8088], requires_grad=True)), ('covar_module.raw_lengthscale', Parameter containing:\n",
    "# tensor([[1.8571]], requires_grad=True))]\n",
    "\n",
    "#max_index = MC_log['manual lp list'].index(max(MC_log['manual lp list']))\n",
    "#for i, param in enumerate(MC_log['param draws dict']):\n",
    "#    print(f\"{lap_log['parameter list'][i]}:{MC_log['param draws dict'][param][max_index]}\")"
   ]
  },
  {
   "cell_type": "code",
   "execution_count": null,
   "metadata": {},
   "outputs": [
    {
     "name": "stdout",
     "output_type": "stream",
     "text": [
      "{'mu': tensor([[-3.5164],\n",
      "        [-0.2122]]), 'var': tensor([[12.8388,  0.0000],\n",
      "        [ 0.0000,  3.5704]])}\n"
     ]
    },
    {
     "data": {
      "image/png": "[encoded data removed]",
      "text/plain": [
       "<Figure size 640x480 with 1 Axes>"
      ]
     },
     "metadata": {},
     "output_type": "display_data"
    }
   ],
   "source": [
    "\n",
    "\n",
    "for param_name in MC_log['param draws dict']:\n",
    "    plt.hist(MC_log['param draws dict'][param_name])\n",
    "print(MC_log[\"Parameter prior\"])\n",
    "plt.savefig(f\"{figure_path}/MCMC_param_distribution_{COUNT}_datapoints.png\")"
   ]
  },
  {
   "cell_type": "code",
   "execution_count": null,
   "metadata": {},
   "outputs": [
    {
     "data": {
      "text/plain": [
       "Text(0.5, 1.0, 'Log Likelihood')"
      ]
     },
     "execution_count": 23,
     "metadata": {},
     "output_type": "execute_result"
    },
    {
     "data": {
      "image/png": "[encoded data removed]",
      "text/plain": [
       "<Figure size 640x480 with 1 Axes>"
      ]
     },
     "metadata": {},
     "output_type": "display_data"
    }
   ],
   "source": [
    "plt.plot(MC_log['manual lp list'])\n",
    "plt.title(\"Log Likelihood\")"
   ]
  },
  {
   "cell_type": "code",
   "execution_count": null,
   "metadata": {},
   "outputs": [
    {
     "name": "stdout",
     "output_type": "stream",
     "text": [
      "{'theta.1': {'mu': 3.653147441501307e-10, 'var': 1.1961669145313168e-18}, 'theta.2': {'mu': 2.31807561472039, 'var': 0.14422423681793617}}\n",
      "[0.0, 0.0]\n",
      "tensor([0.0215, 0.0215], dtype=torch.float64)\n"
     ]
    }
   ],
   "source": [
    "print(MC_log[\"Parameter statistics\"])\n",
    "\n",
    "mu = [training_log[\"training_log\"][param_keys[0]][-1], training_log[\"training_log\"][param_keys[1]][-1]]\n",
    "K = lap_log[\"corrected Hessian\"]\n",
    "print(f\"{[training_log['training_log'][param_key][-1] for param_key in param_keys]}\")\n",
    "print(f\"{K.inverse().diag()}\")"
   ]
  },
  {
   "cell_type": "code",
   "execution_count": null,
   "metadata": {},
   "outputs": [
    {
     "name": "stdout",
     "output_type": "stream",
     "text": [
      "22.88154411315918 : 8.799776560352828e-11 2.073073863289637\n"
     ]
    }
   ],
   "source": [
    "\n",
    "    max_index = MC_log['manual lp list'].index(max(MC_log['manual lp list']))\n",
    "    print(f\"{max(MC_log['manual lp list'])} : {MC_log['param draws dict']['theta.1'][max_index]} {MC_log['param draws dict']['theta.2'][max_index]}\")"
   ]
  },
  {
   "cell_type": "code",
   "execution_count": null,
   "metadata": {},
   "outputs": [
    {
     "ename": "ValueError",
     "evalue": "The input matrix must be symmetric positive semidefinite.",
     "output_type": "error",
     "traceback": [
      "\u001b[0;31m---------------------------------------------------------------------------\u001b[0m",
      "\u001b[0;31mValueError\u001b[0m                                Traceback (most recent call last)",
      "\u001b[0;32m/tmp/ipykernel_4117957/2978431347.py\u001b[0m in \u001b[0;36m<cell line: 50>\u001b[0;34m()\u001b[0m\n\u001b[1;32m     48\u001b[0m \u001b[0;34m\u001b[0m\u001b[0m\n\u001b[1;32m     49\u001b[0m \u001b[0mK\u001b[0m \u001b[0;34m=\u001b[0m \u001b[0mlap_log\u001b[0m\u001b[0;34m[\u001b[0m\u001b[0;34m\"original symmetrized Hessian\"\u001b[0m\u001b[0;34m]\u001b[0m\u001b[0;34m\u001b[0m\u001b[0;34m\u001b[0m\u001b[0m\n\u001b[0;32m---> 50\u001b[0;31m \u001b[0mnew_unit_x\u001b[0m\u001b[0;34m,\u001b[0m \u001b[0mnew_unit_y\u001b[0m \u001b[0;34m=\u001b[0m \u001b[0mget_std_points\u001b[0m\u001b[0;34m(\u001b[0m\u001b[0mmu\u001b[0m\u001b[0;34m,\u001b[0m \u001b[0mK\u001b[0m\u001b[0;34m.\u001b[0m\u001b[0minverse\u001b[0m\u001b[0;34m(\u001b[0m\u001b[0;34m)\u001b[0m\u001b[0;34m[\u001b[0m\u001b[0;34m:\u001b[0m\u001b[0;36m2\u001b[0m\u001b[0;34m,\u001b[0m \u001b[0;34m:\u001b[0m\u001b[0;36m2\u001b[0m\u001b[0;34m]\u001b[0m\u001b[0;34m)\u001b[0m\u001b[0;34m\u001b[0m\u001b[0;34m\u001b[0m\u001b[0m\n\u001b[0m\u001b[1;32m     51\u001b[0m \u001b[0;31m#plt.scatter(new_unit_x, new_unit_y, color=\"turquoise\", s=3)\u001b[0m\u001b[0;34m\u001b[0m\u001b[0;34m\u001b[0m\u001b[0m\n\u001b[1;32m     52\u001b[0m \u001b[0mplt\u001b[0m\u001b[0;34m.\u001b[0m\u001b[0mtitle\u001b[0m\u001b[0;34m(\u001b[0m\u001b[0;34m\"Log Likelihood\"\u001b[0m\u001b[0;34m)\u001b[0m\u001b[0;34m\u001b[0m\u001b[0;34m\u001b[0m\u001b[0m\n",
      "\u001b[0;32m/tmp/ipykernel_4117957/732110637.py\u001b[0m in \u001b[0;36mget_std_points\u001b[0;34m(mu, K)\u001b[0m\n\u001b[1;32m      1\u001b[0m \u001b[0;32mdef\u001b[0m \u001b[0mget_std_points\u001b[0m\u001b[0;34m(\u001b[0m\u001b[0mmu\u001b[0m\u001b[0;34m,\u001b[0m \u001b[0mK\u001b[0m\u001b[0;34m)\u001b[0m\u001b[0;34m:\u001b[0m\u001b[0;34m\u001b[0m\u001b[0;34m\u001b[0m\u001b[0m\n\u001b[1;32m      2\u001b[0m     \u001b[0mx\u001b[0m\u001b[0;34m,\u001b[0m \u001b[0my\u001b[0m \u001b[0;34m=\u001b[0m \u001b[0mnp\u001b[0m\u001b[0;34m.\u001b[0m\u001b[0mmgrid\u001b[0m\u001b[0;34m[\u001b[0m\u001b[0;34m-\u001b[0m\u001b[0;36m3\u001b[0m\u001b[0;34m:\u001b[0m\u001b[0;36m3\u001b[0m\u001b[0;34m:\u001b[0m\u001b[0;36m.1\u001b[0m\u001b[0;34m,\u001b[0m \u001b[0;34m-\u001b[0m\u001b[0;36m3\u001b[0m\u001b[0;34m:\u001b[0m\u001b[0;36m3\u001b[0m\u001b[0;34m:\u001b[0m\u001b[0;36m.1\u001b[0m\u001b[0;34m]\u001b[0m\u001b[0;34m\u001b[0m\u001b[0;34m\u001b[0m\u001b[0m\n\u001b[0;32m----> 3\u001b[0;31m     \u001b[0mrv\u001b[0m \u001b[0;34m=\u001b[0m \u001b[0mmultivariate_normal\u001b[0m\u001b[0;34m(\u001b[0m\u001b[0mmu\u001b[0m\u001b[0;34m,\u001b[0m \u001b[0mK\u001b[0m\u001b[0;34m)\u001b[0m\u001b[0;34m\u001b[0m\u001b[0;34m\u001b[0m\u001b[0m\n\u001b[0m\u001b[1;32m      4\u001b[0m     \u001b[0mL\u001b[0m \u001b[0;34m=\u001b[0m \u001b[0mnp\u001b[0m\u001b[0;34m.\u001b[0m\u001b[0mlinalg\u001b[0m\u001b[0;34m.\u001b[0m\u001b[0mcholesky\u001b[0m\u001b[0;34m(\u001b[0m\u001b[0mK\u001b[0m\u001b[0;34m)\u001b[0m\u001b[0;34m\u001b[0m\u001b[0;34m\u001b[0m\u001b[0m\n\u001b[1;32m      5\u001b[0m \u001b[0;34m\u001b[0m\u001b[0m\n",
      "\u001b[0;32m~/anaconda3/envs/sage/lib/python3.10/site-packages/scipy/stats/_multivariate.py\u001b[0m in \u001b[0;36m__call__\u001b[0;34m(self, mean, cov, allow_singular, seed)\u001b[0m\n\u001b[1;32m    391\u001b[0m         \u001b[0mSee\u001b[0m\u001b[0;31m \u001b[0m\u001b[0;31m`\u001b[0m\u001b[0mmultivariate_normal_frozen\u001b[0m\u001b[0;31m`\u001b[0m \u001b[0;32mfor\u001b[0m \u001b[0mmore\u001b[0m \u001b[0minformation\u001b[0m\u001b[0;34m.\u001b[0m\u001b[0;34m\u001b[0m\u001b[0;34m\u001b[0m\u001b[0m\n\u001b[1;32m    392\u001b[0m         \"\"\"\n\u001b[0;32m--> 393\u001b[0;31m         return multivariate_normal_frozen(mean, cov,\n\u001b[0m\u001b[1;32m    394\u001b[0m                                           \u001b[0mallow_singular\u001b[0m\u001b[0;34m=\u001b[0m\u001b[0mallow_singular\u001b[0m\u001b[0;34m,\u001b[0m\u001b[0;34m\u001b[0m\u001b[0;34m\u001b[0m\u001b[0m\n\u001b[1;32m    395\u001b[0m                                           seed=seed)\n",
      "\u001b[0;32m~/anaconda3/envs/sage/lib/python3.10/site-packages/scipy/stats/_multivariate.py\u001b[0m in \u001b[0;36m__init__\u001b[0;34m(self, mean, cov, allow_singular, seed, maxpts, abseps, releps)\u001b[0m\n\u001b[1;32m    832\u001b[0m         \u001b[0mself\u001b[0m\u001b[0;34m.\u001b[0m\u001b[0m_dist\u001b[0m \u001b[0;34m=\u001b[0m \u001b[0mmultivariate_normal_gen\u001b[0m\u001b[0;34m(\u001b[0m\u001b[0mseed\u001b[0m\u001b[0;34m)\u001b[0m\u001b[0;34m\u001b[0m\u001b[0;34m\u001b[0m\u001b[0m\n\u001b[1;32m    833\u001b[0m         self.dim, self.mean, self.cov_object = (\n\u001b[0;32m--> 834\u001b[0;31m             self._dist._process_parameters(mean, cov, allow_singular))\n\u001b[0m\u001b[1;32m    835\u001b[0m         \u001b[0mself\u001b[0m\u001b[0;34m.\u001b[0m\u001b[0mallow_singular\u001b[0m \u001b[0;34m=\u001b[0m \u001b[0mallow_singular\u001b[0m \u001b[0;32mor\u001b[0m \u001b[0mself\u001b[0m\u001b[0;34m.\u001b[0m\u001b[0mcov_object\u001b[0m\u001b[0;34m.\u001b[0m\u001b[0m_allow_singular\u001b[0m\u001b[0;34m\u001b[0m\u001b[0;34m\u001b[0m\u001b[0m\n\u001b[1;32m    836\u001b[0m         \u001b[0;32mif\u001b[0m \u001b[0;32mnot\u001b[0m \u001b[0mmaxpts\u001b[0m\u001b[0;34m:\u001b[0m\u001b[0;34m\u001b[0m\u001b[0;34m\u001b[0m\u001b[0m\n",
      "\u001b[0;32m~/anaconda3/envs/sage/lib/python3.10/site-packages/scipy/stats/_multivariate.py\u001b[0m in \u001b[0;36m_process_parameters\u001b[0;34m(self, mean, cov, allow_singular)\u001b[0m\n\u001b[1;32m    415\u001b[0m             \u001b[0;31m# array with `_PSD`, and then use wrapper that satisfies the\u001b[0m\u001b[0;34m\u001b[0m\u001b[0;34m\u001b[0m\u001b[0m\n\u001b[1;32m    416\u001b[0m             \u001b[0;31m# `Covariance` interface, `CovViaPSD`.\u001b[0m\u001b[0;34m\u001b[0m\u001b[0;34m\u001b[0m\u001b[0m\n\u001b[0;32m--> 417\u001b[0;31m             \u001b[0mpsd\u001b[0m \u001b[0;34m=\u001b[0m \u001b[0m_PSD\u001b[0m\u001b[0;34m(\u001b[0m\u001b[0mcov\u001b[0m\u001b[0;34m,\u001b[0m \u001b[0mallow_singular\u001b[0m\u001b[0;34m=\u001b[0m\u001b[0mallow_singular\u001b[0m\u001b[0;34m)\u001b[0m\u001b[0;34m\u001b[0m\u001b[0;34m\u001b[0m\u001b[0m\n\u001b[0m\u001b[1;32m    418\u001b[0m             \u001b[0mcov_object\u001b[0m \u001b[0;34m=\u001b[0m \u001b[0m_covariance\u001b[0m\u001b[0;34m.\u001b[0m\u001b[0mCovViaPSD\u001b[0m\u001b[0;34m(\u001b[0m\u001b[0mpsd\u001b[0m\u001b[0;34m)\u001b[0m\u001b[0;34m\u001b[0m\u001b[0;34m\u001b[0m\u001b[0m\n\u001b[1;32m    419\u001b[0m             \u001b[0;32mreturn\u001b[0m \u001b[0mdim\u001b[0m\u001b[0;34m,\u001b[0m \u001b[0mmean\u001b[0m\u001b[0;34m,\u001b[0m \u001b[0mcov_object\u001b[0m\u001b[0;34m\u001b[0m\u001b[0;34m\u001b[0m\u001b[0m\n",
      "\u001b[0;32m~/anaconda3/envs/sage/lib/python3.10/site-packages/scipy/stats/_multivariate.py\u001b[0m in \u001b[0;36m__init__\u001b[0;34m(self, M, cond, rcond, lower, check_finite, allow_singular)\u001b[0m\n\u001b[1;32m    165\u001b[0m         \u001b[0;32mif\u001b[0m \u001b[0mnp\u001b[0m\u001b[0;34m.\u001b[0m\u001b[0mmin\u001b[0m\u001b[0;34m(\u001b[0m\u001b[0ms\u001b[0m\u001b[0;34m)\u001b[0m \u001b[0;34m<\u001b[0m \u001b[0;34m-\u001b[0m\u001b[0meps\u001b[0m\u001b[0;34m:\u001b[0m\u001b[0;34m\u001b[0m\u001b[0;34m\u001b[0m\u001b[0m\n\u001b[1;32m    166\u001b[0m             \u001b[0mmsg\u001b[0m \u001b[0;34m=\u001b[0m \u001b[0;34m\"The input matrix must be symmetric positive semidefinite.\"\u001b[0m\u001b[0;34m\u001b[0m\u001b[0;34m\u001b[0m\u001b[0m\n\u001b[0;32m--> 167\u001b[0;31m             \u001b[0;32mraise\u001b[0m \u001b[0mValueError\u001b[0m\u001b[0;34m(\u001b[0m\u001b[0mmsg\u001b[0m\u001b[0;34m)\u001b[0m\u001b[0;34m\u001b[0m\u001b[0;34m\u001b[0m\u001b[0m\n\u001b[0m\u001b[1;32m    168\u001b[0m         \u001b[0md\u001b[0m \u001b[0;34m=\u001b[0m \u001b[0ms\u001b[0m\u001b[0;34m[\u001b[0m\u001b[0ms\u001b[0m \u001b[0;34m>\u001b[0m \u001b[0meps\u001b[0m\u001b[0;34m]\u001b[0m\u001b[0;34m\u001b[0m\u001b[0;34m\u001b[0m\u001b[0m\n\u001b[1;32m    169\u001b[0m         \u001b[0;32mif\u001b[0m \u001b[0mlen\u001b[0m\u001b[0;34m(\u001b[0m\u001b[0md\u001b[0m\u001b[0;34m)\u001b[0m \u001b[0;34m<\u001b[0m \u001b[0mlen\u001b[0m\u001b[0;34m(\u001b[0m\u001b[0ms\u001b[0m\u001b[0;34m)\u001b[0m \u001b[0;32mand\u001b[0m \u001b[0;32mnot\u001b[0m \u001b[0mallow_singular\u001b[0m\u001b[0;34m:\u001b[0m\u001b[0;34m\u001b[0m\u001b[0;34m\u001b[0m\u001b[0m\n",
      "\u001b[0;31mValueError\u001b[0m: The input matrix must be symmetric positive semidefinite."
     ]
    },
    {
     "data": {
      "image/png": "[encoded data removed]",
      "text/plain": [
       "<Figure size 640x480 with 2 Axes>"
      ]
     },
     "metadata": {},
     "output_type": "display_data"
    }
   ],
   "source": [
    "#\n",
    "#scaling_factor = lap_log[\"neg MLL\"]\n",
    "#mu = [training_log[\"training_log\"][param_keys[0]][-1], training_log[\"training_log\"][param_keys[1]][-1]]\n",
    "#K = lap_log[\"corrected Hessian\"]\n",
    "#new_unit_x, new_unit_y = get_std_points(mu, K)\n",
    "##plt.scatter(new_unit_x, new_unit_y, color=\"grey\", s=3)\n",
    "#K = lap_log[\"original symmetrized Hessian\"]\n",
    "#new_unit_x, new_unit_y = get_std_points(mu, K)\n",
    "#plt.scatter(new_unit_x, new_unit_y, color=\"black\", s=3)\n",
    "#\n",
    "\n",
    "filtered = False \n",
    "filtered_noise = list()\n",
    "filtered_length = list()\n",
    "filtered_loglike = list()\n",
    "\n",
    "# loop to filter draws below X \n",
    "for n, l, llik in zip(MC_log['param draws dict'][\"theta.1\"], MC_log['param draws dict'][\"theta.2\"], MC_log['manual lp list']):\n",
    "    if llik > -100:\n",
    "        filtered_noise.append(n)\n",
    "        filtered_length.append(l)\n",
    "        filtered_loglike.append(llik)\n",
    "\n",
    "if filtered:\n",
    "    for i in range(len(filtered_noise)-1):\n",
    "        n, l = filtered_noise[i], filtered_length[i]\n",
    "        n2, l2 = filtered_noise[i+1], filtered_length[i+1]\n",
    "        #plt.arrow(n, l, n2-n, l2-l, color=mpl.colormaps[\"Greens\"](i/len(filtered_noise)), head_length = 0.07, head_width = 0.025, length_includes_head = True)\n",
    "    plt.scatter(filtered_noise, filtered_length, c=filtered_loglike, s=3)\n",
    "    max_index = MC_log['manual lp list'].index(max(MC_log['manual lp list']))\n",
    "    print(f\"{max(MC_log['manual lp list'])} : {MC_log['param draws dict']['theta.1'][max_index]} {MC_log['param draws dict']['theta.2'][max_index]}\")\n",
    "    plt.plot(MC_log['param draws dict'][\"theta.1\"][max_index], MC_log['param draws dict'][\"theta.2\"][max_index], \"ro\")\n",
    "else:\n",
    "    for i in range(len(MC_log['param draws dict'][\"theta.1\"])-1):\n",
    "        n, l = MC_log['param draws dict'][\"theta.1\"][i], MC_log['param draws dict'][\"theta.2\"][i]\n",
    "        n2, l2 = MC_log['param draws dict'][\"theta.1\"][i+1], MC_log['param draws dict'][\"theta.2\"][i+1]\n",
    "        #plt.arrow(n, l, n2-n, l2-l, color=mpl.colormaps[\"Greens\"](i/len(MC_log['param draws dict'][\"theta.1\"])), head_length = 0.07, head_width = 0.025, length_includes_head = True)\n",
    "    plt.scatter(MC_log['param draws dict'][\"theta.1\"], MC_log['param draws dict'][\"theta.2\"], c=torch.Tensor(MC_log['manual lp list']), s=3)\n",
    "    max_index = MC_log['manual lp list'].index(max(MC_log['manual lp list']))\n",
    "    plt.plot(MC_log['param draws dict'][\"theta.1\"][max_index], MC_log['param draws dict'][\"theta.2\"][max_index], \"ro\")\n",
    "\n",
    "plt.colorbar() \n",
    "\n",
    "mu = [training_log[\"training_log\"][param_keys[0]][-1], training_log[\"training_log\"][param_keys[1]][-1]]\n",
    "K = lap_log[\"corrected Hessian\"]\n",
    "new_unit_x, new_unit_y = get_std_points(mu, K.inverse()[:2, :2])\n",
    "#plt.scatter(new_unit_x, new_unit_y, color=\"black\", s=3)\n",
    "\n",
    "K = lap_log[\"original symmetrized Hessian\"]\n",
    "new_unit_x, new_unit_y = get_std_points(mu, K.inverse()[:2, :2])\n",
    "#plt.scatter(new_unit_x, new_unit_y, color=\"turquoise\", s=3)\n",
    "plt.title(\"Log Likelihood\")\n"
   ]
  },
  {
   "cell_type": "code",
   "execution_count": null,
   "metadata": {},
   "outputs": [
    {
     "data": {
      "text/plain": [
       "Text(0.5, 1.0, 'Log Likelihood')"
      ]
     },
     "execution_count": 27,
     "metadata": {},
     "output_type": "execute_result"
    },
    {
     "data": {
      "image/png": "[encoded data removed]",
      "text/plain": [
       "<Figure size 640x480 with 2 Axes>"
      ]
     },
     "metadata": {},
     "output_type": "display_data"
    }
   ],
   "source": [
    "# Contour plot of the likelihood surface according to the explored samples\n",
    "# loop to filter draws below -5000\n",
    "filtered_noise = list()\n",
    "filtered_length = list()\n",
    "filtered_loglike = list()\n",
    "for n, l, llik in zip(MC_log['param draws dict'][\"theta.1\"], MC_log['param draws dict'][\"theta.2\"], MC_log['manual lp list']):\n",
    "    if llik > -5000:\n",
    "        filtered_noise.append(n)\n",
    "        filtered_length.append(l)\n",
    "        filtered_loglike.append(llik)\n",
    "plt.scatter(MC_log['param draws dict'][\"theta.1\"], MC_log['param draws dict'][\"theta.2\"], c=range(len(MC_log['param draws dict'][\"theta.2\"])), cmap=\"Greens\", s=2)\n",
    "plt.colorbar() \n",
    "## Drawing the parameter Prior\n",
    "new_unit_x, new_unit_y = get_std_points(MC_log[\"Parameter prior\"][\"mu\"].numpy().T[0][:2], MC_log[\"Parameter prior\"][\"var\"].inverse()[:2, :2])\n",
    "# Draw one standard deviation around the center of the distribution\n",
    "plt.scatter(new_unit_x, new_unit_y, color=\"pink\", s=3)\n",
    "#plt.scatter(filtered_noise, filtered_length, c=filtered_loglike)\n",
    "\n",
    "\n",
    "\n",
    "plt.title(\"Log Likelihood\")"
   ]
  },
  {
   "cell_type": "code",
   "execution_count": null,
   "metadata": {},
   "outputs": [],
   "source": []
  },
  {
   "cell_type": "code",
   "execution_count": null,
   "metadata": {},
   "outputs": [],
   "source": []
  },
  {
   "cell_type": "code",
   "execution_count": null,
   "metadata": {},
   "outputs": [],
   "source": []
  },
  {
   "cell_type": "code",
   "execution_count": null,
   "metadata": {},
   "outputs": [],
   "source": []
  },
  {
   "cell_type": "code",
   "execution_count": null,
   "metadata": {},
   "outputs": [
    {
     "data": {
      "text/plain": [
       "tensor(0.0001)"
      ]
     },
     "execution_count": 28,
     "metadata": {},
     "output_type": "execute_result"
    }
   ],
   "source": [
    "def f4(x):\n",
    "    return x + torch.log(-torch.expm1(-x))\n",
    "f4(torch.tensor(1e-4))\n",
    "torch.nn.functional.softplus(torch.tensor(-9.2102))"
   ]
  },
  {
   "cell_type": "code",
   "execution_count": null,
   "metadata": {},
   "outputs": [],
   "source": []
  }
 ],
 "metadata": {
  "kernelspec": {
   "display_name": "sage",
   "language": "python",
   "name": "python3"
  },
  "language_info": {
   "codemirror_mode": {
    "name": "ipython",
    "version": 3
   },
   "file_extension": ".py",
   "mimetype": "text/x-python",
   "name": "python",
   "nbconvert_exporter": "python",
   "pygments_lexer": "ipython3",
   "version": "3.10.2"
  },
  "orig_nbformat": 4
 },
 "nbformat": 4,
 "nbformat_minor": 2
}
