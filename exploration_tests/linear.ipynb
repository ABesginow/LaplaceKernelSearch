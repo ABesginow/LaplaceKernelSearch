{
 "cells": [
  {
   "cell_type": "code",
   "execution_count": 45,
   "metadata": {},
   "outputs": [],
   "source": [
    "import sys\n",
    "sys.path.insert(1, \"..\")\n",
    "import pprint\n",
    "import gpytorch\n",
    "import torch\n",
    "import numpy as np\n",
    "import metrics\n",
    "import copy\n",
    "import configparser\n",
    "from experiment_functions import Experiment\n",
    "from GaussianProcess import ExactGPModel\n",
    "from globalParams import options, hyperparameter_limits\n",
    "import gpytorch\n",
    "from helpFunctions import get_string_representation_of_kernel as gsr\n",
    "from helpFunctions import clean_kernel_expression\n",
    "from helpFunctions import get_kernels_in_kernel_expression\n",
    "from helpFunctions import amount_of_base_kernels\n",
    "from itertools import product\n",
    "import json\n",
    "from kernelSearch import *\n",
    "from matplotlib import pyplot as plt\n",
    "from metrics import *\n",
    "from multiprocessing import Pool\n",
    "import numpy as np\n",
    "import os\n",
    "import pdb\n",
    "import pickle\n",
    "import random\n",
    "import tikzplotlib\n",
    "import time\n",
    "import torch\n",
    "from tqdm import tqdm\n",
    "from scipy.stats import multivariate_normal\n",
    "import matplotlib as mpl\n",
    "\n",
    "# To run STAN in a Jupyter notebook\n",
    "import nest_asyncio\n",
    "nest_asyncio.apply()"
   ]
  },
  {
   "cell_type": "markdown",
   "metadata": {},
   "source": [
    "# Helper functions"
   ]
  },
  {
   "cell_type": "code",
   "execution_count": 46,
   "metadata": {},
   "outputs": [],
   "source": [
    "\n",
    "def log_prior(model, theta_mu=None, sigma=None):\n",
    "    # params -\n",
    "    # TODO de-spaghettize this once the priors are coded properly\n",
    "    prior_dict = {'SE': {'raw_lengthscale' : {\"mean\": -0.21221139138922668 , \"std\":1.8895426067756804}},\n",
    "                  'MAT52': {'raw_lengthscale' :{\"mean\": 0.7993038925994188, \"std\":2.145122566357853 } },\n",
    "                  'MAT32': {'raw_lengthscale' :{\"mean\": 1.5711054238673443, \"std\":2.4453761235991216 } },\n",
    "                  'RQ': {'raw_lengthscale' :{\"mean\": -0.049841950913676276, \"std\":1.9426354614713097 },\n",
    "                          'raw_alpha' :{\"mean\": 1.882148553921053, \"std\":3.096431944989054 } },\n",
    "                  'PER':{'raw_lengthscale':{\"mean\": 0.7778461197268618, \"std\":2.288946656544974 },\n",
    "                          'raw_period_length':{\"mean\": 0.6485334993738499, \"std\":0.9930632050553377 } },\n",
    "                  'LIN':{'raw_variance' :{\"mean\": -0.8017903983055685, \"std\":0.9966569921354465 } },\n",
    "                  'c':{'raw_outputscale':{\"mean\": -1.6253091096349706, \"std\":2.2570021716661923 } },\n",
    "                  'noise': {'raw_noise':{\"mean\": -3.51640656386717, \"std\":3.5831320474767407 }}}\n",
    "    #prior_dict = {\"SE\": {\"raw_lengthscale\": {\"mean\": 0.891, \"std\": 2.195}},\n",
    "    #              \"MAT\": {\"raw_lengthscale\": {\"mean\": 1.631, \"std\": 2.554}},\n",
    "    #              \"PER\": {\"raw_lengthscale\": {\"mean\": 0.338, \"std\": 2.636},\n",
    "    #                      \"raw_period_length\": {\"mean\": 0.284, \"std\": 0.902}},\n",
    "    #              \"LIN\": {\"raw_variance\": {\"mean\": -1.463, \"std\": 1.633}},\n",
    "    #              \"c\": {\"raw_outputscale\": {\"mean\": -2.163, \"std\": 2.448}},\n",
    "    #              \"noise\": {\"raw_noise\": {\"mean\": -1.792, \"std\": 3.266}}}\n",
    "\n",
    "    variances_list = list()\n",
    "    debug_param_name_list = list()\n",
    "    theta_mu = list()\n",
    "    params = list()\n",
    "    covar_string = gsr(model.covar_module)\n",
    "    covar_string = covar_string.replace(\"(\", \"\")\n",
    "    covar_string = covar_string.replace(\")\", \"\")\n",
    "    covar_string = covar_string.replace(\" \", \"\")\n",
    "    covar_string = covar_string.replace(\"PER\", \"PER+PER\")\n",
    "    covar_string_list = [s.split(\"*\") for s in covar_string.split(\"+\")]\n",
    "    covar_string_list.insert(0, [\"LIKELIHOOD\"])\n",
    "    covar_string_list = list(chain.from_iterable(covar_string_list))\n",
    "    both_PER_params = False\n",
    "    for (param_name, param), cov_str in zip(model.named_parameters(), covar_string_list):\n",
    "        params.append(param.item())\n",
    "        debug_param_name_list.append(param_name)\n",
    "        # First param is (always?) noise and is always with the likelihood\n",
    "        if \"likelihood\" in param_name:\n",
    "            theta_mu.append(prior_dict[\"noise\"][\"raw_noise\"][\"mean\"])\n",
    "            variances_list.append(prior_dict[\"noise\"][\"raw_noise\"][\"std\"])\n",
    "            continue\n",
    "        else:\n",
    "            if (cov_str == \"PER\" or cov_str == \"RQ\") and not both_PER_params:\n",
    "                theta_mu.append(prior_dict[cov_str][param_name.split(\".\")[-1]][\"mean\"])\n",
    "                variances_list.append(prior_dict[cov_str][param_name.split(\".\")[-1]][\"std\"])\n",
    "                both_PER_params = True\n",
    "            elif (cov_str == \"PER\" or cov_str == \"RQ\") and both_PER_params:\n",
    "                theta_mu.append(prior_dict[cov_str][param_name.split(\".\")[-1]][\"mean\"])\n",
    "                variances_list.append(prior_dict[cov_str][param_name.split(\".\")[-1]][\"std\"])\n",
    "                both_PER_params = False\n",
    "            else:\n",
    "                try:\n",
    "                    theta_mu.append(prior_dict[cov_str][param_name.split(\".\")[-1]][\"mean\"])\n",
    "                    variances_list.append(prior_dict[cov_str][param_name.split(\".\")[-1]][\"std\"])\n",
    "                except Exception as E:\n",
    "                    import pdb\n",
    "                    pdb.set_trace()\n",
    "                    prev_cov = cov_str\n",
    "    theta_mu = torch.tensor(theta_mu)\n",
    "    theta_mu = theta_mu.unsqueeze(0).t()\n",
    "    sigma = torch.diag(torch.Tensor(variances_list))\n",
    "    sigma = sigma@sigma\n",
    "    prior = torch.distributions.MultivariateNormal(theta_mu.t(), sigma)\n",
    "\n",
    "    # for convention reasons I'm diving by the number of datapoints\n",
    "    return prior.log_prob(torch.Tensor(params)).item() / len(*model.train_inputs)\n",
    "\n",
    "def optimize_hyperparameters(model, likelihood, train_iterations, X, Y, with_BFGS=False, MAP=False, prior=None, **kwargs):\n",
    "    \"\"\"\n",
    "    find optimal hyperparameters either by BO or by starting from random initial values multiple times, using an optimizer every time\n",
    "    and then returning the best result\n",
    "    \"\"\"\n",
    "    ## Setup\n",
    "    # Log the parameters found during training\n",
    "    log_param_path = kwargs.get(\"log_param_path\", False)\n",
    "    log_likelihood = kwargs.get(\"log_likelihood\", False)\n",
    "    random_restarts = kwargs.get(\"random_restarts\", options[\"training\"][\"restarts\"]+1)\n",
    "    best_loss = 1e400\n",
    "    optimal_parameters = dict()\n",
    "    limits = hyperparameter_limits\n",
    "    if log_param_path:\n",
    "        param_log_list = list()\n",
    "    if log_likelihood:\n",
    "        likelihood_logs = list()\n",
    "    # start runs\n",
    "    for iteration in range(random_restarts):\n",
    "    #for iteration in range(2):\n",
    "        if log_likelihood:\n",
    "            likelihood_log = list()\n",
    "        if log_param_path:\n",
    "            param_log_dict = {param_name[0] : list() for param_name in model.named_parameters()}\n",
    "        # optimize and determine loss\n",
    "        # Perform a training for AIC and Laplace\n",
    "        model.train()\n",
    "        likelihood.train()\n",
    "\n",
    "        optimizer = torch.optim.Adam(model.parameters(), lr=0.1)\n",
    "\n",
    "        mll = gpytorch.mlls.ExactMarginalLogLikelihood(likelihood, model)\n",
    "\n",
    "        for i in range(train_iterations):\n",
    "            # Zero gradients from previous iteration\n",
    "            optimizer.zero_grad()\n",
    "            # Output from model\n",
    "            output = model(X)\n",
    "            # Calc loss and backprop gradients\n",
    "            loss = -mll(output, Y)\n",
    "            if MAP:\n",
    "                log_p = log_prior(model)\n",
    "                loss -= log_p\n",
    "            loss.backward()\n",
    "            optimizer.step()\n",
    "            if log_param_path:\n",
    "                for param_name in model.named_parameters():\n",
    "                    param_log_dict[param_name[0]].append(param_name[1].item())\n",
    "            if log_likelihood:\n",
    "                likelihood_log.append(loss.item())\n",
    "\n",
    "        if with_BFGS:\n",
    "            # Additional BFGS optimization to better ensure optimal parameters\n",
    "            # LBFGS_optimizer = torch.optim.LBFGS(model.parameters(), max_iter=50, line_search_fn='strong_wolfe')\n",
    "            LBFGS_optimizer = torch.optim.LBFGS(\n",
    "                model.parameters(), max_iter=50,\n",
    "                line_search_fn='strong_wolfe')\n",
    "            # define closure\n",
    "\n",
    "            def closure():\n",
    "                LBFGS_optimizer.zero_grad()\n",
    "                output = model(X)\n",
    "                loss = -mll(output, Y)\n",
    "                if MAP:\n",
    "                    log_p = log_prior(model)\n",
    "                    loss -= log_p\n",
    "                LBFGS_optimizer.zero_grad()\n",
    "                loss.backward()\n",
    "                if log_param_path:\n",
    "                    for param_name in model.named_parameters():\n",
    "                        param_log_dict[param_name[0]].append(param_name[1].item())\n",
    "                if log_likelihood:\n",
    "                    likelihood_log.append(loss.item())\n",
    "                return loss\n",
    "            LBFGS_optimizer.step(closure)\n",
    "\n",
    "        # Zero gradients from previous iteration\n",
    "        optimizer.zero_grad()\n",
    "        # Output from model\n",
    "        output = model(X)\n",
    "        # Calc loss and backprop gradients\n",
    "        loss = -mll(output, Y)\n",
    "        if MAP:\n",
    "            log_p = log_prior(model)\n",
    "            loss -= log_p\n",
    "\n",
    "#        model.train_model(with_BFGS=with_BFGS)\n",
    "        current_loss = loss\n",
    "        # check if the current run is better than previous runs\n",
    "        if current_loss < best_loss:\n",
    "            # if it is the best, save all used parameters\n",
    "            best_loss = current_loss\n",
    "            for param_name, param in model.named_parameters():\n",
    "                optimal_parameters[param_name] = copy.deepcopy(param)\n",
    "\n",
    "        # set new random inital values\n",
    "        model.likelihood.noise_covar.noise = torch.rand(1) * (limits[\"Noise\"][1] - limits[\"Noise\"][0]) + limits[\"Noise\"][0]\n",
    "        #self.mean_module.constant = torch.rand(1) * (limits[\"Mean\"][1] - limits[\"Mean\"][0]) + limits[\"Mean\"][0]\n",
    "        for kernel in get_kernels_in_kernel_expression(model.covar_module):\n",
    "            hypers = limits[kernel._get_name()]\n",
    "            for hyperparameter in hypers:\n",
    "                new_value = torch.rand(1) * (hypers[hyperparameter][1] - hypers[hyperparameter][0]) + hypers[hyperparameter][0]\n",
    "                setattr(kernel, hyperparameter, new_value)\n",
    "\n",
    "        # print output if enabled\n",
    "        if options[\"training\"][\"print_optimizing_output\"]:\n",
    "            print(f\"HYPERPARAMETER OPTIMIZATION: Random Restart {iteration}: loss: {current_loss}, optimal loss: {best_loss}\")\n",
    "        if log_likelihood:\n",
    "            likelihood_logs.append(likelihood_log)\n",
    "        if log_param_path:\n",
    "            param_log_list.append(param_log_dict)\n",
    "\n",
    "    # finally, set the hyperparameters those in the optimal run\n",
    "    model.initialize(**optimal_parameters)\n",
    "    output = model(X)\n",
    "    mll = gpytorch.mlls.ExactMarginalLogLikelihood(likelihood, model)\n",
    "    loss = -mll(output, Y)\n",
    "    if MAP:\n",
    "        log_p = log_prior(model)\n",
    "        loss -= log_p\n",
    "    if not loss == best_loss:\n",
    "        import pdb\n",
    "        pdb.set_trace()\n",
    "        print(loss)\n",
    "        print(best_loss)\n",
    "    logables = dict()\n",
    "    if log_param_path:\n",
    "        logables[\"training_log\"] = param_log_dict\n",
    "    if log_likelihood:\n",
    "        logables[\"likelihood_log\"] = likelihood_log\n",
    "    if len(logables.keys()) > 0:\n",
    "        return loss, logables\n",
    "    return loss"
   ]
  },
  {
   "cell_type": "code",
   "execution_count": 47,
   "metadata": {},
   "outputs": [],
   "source": [
    "def get_std_points(mu, K):\n",
    "    x, y = np.mgrid[-3:3:.1, -3:3:.1]\n",
    "    rv = multivariate_normal(mu, K)\n",
    "    L = np.linalg.cholesky(K)\n",
    "\n",
    "    data = np.dstack((x, y))\n",
    "    z = rv.pdf(data)\n",
    "\n",
    "    # Drawing the unit circle\n",
    "    # x^2 + y^2 = 1\n",
    "    precision = 50\n",
    "    unit_x = torch.cat([torch.linspace(-1, 1, precision), torch.linspace(-1, 1, precision)])\n",
    "    unit_y = torch.cat([torch.sqrt(1 - torch.linspace(-1, 1, precision)**2), -torch.sqrt(1 - torch.linspace(-1, 1, precision)**2)])\n",
    "\n",
    "    new_unit_x = list()\n",
    "    new_unit_y = list()\n",
    "\n",
    "    for tx, ty in zip(unit_x, unit_y):\n",
    "        res = np.array([tx, ty]) @ L\n",
    "        new_unit_x.append(mu[0] + 2*res[0])\n",
    "        new_unit_y.append(mu[1] + 2*res[1])\n",
    "    return new_unit_x, new_unit_y"
   ]
  },
  {
   "cell_type": "markdown",
   "metadata": {},
   "source": [
    "# Pre-diddling"
   ]
  },
  {
   "cell_type": "code",
   "execution_count": 48,
   "metadata": {},
   "outputs": [],
   "source": [
    "# Globals\n",
    "figure_path = \"linear_figures\""
   ]
  },
  {
   "cell_type": "code",
   "execution_count": 49,
   "metadata": {},
   "outputs": [
    {
     "data": {
      "text/plain": [
       "[<matplotlib.lines.Line2D at 0x7fe86bb49fc0>]"
      ]
     },
     "execution_count": 49,
     "metadata": {},
     "output_type": "execute_result"
    },
    {
     "data": {
      "image/png": "[encoded data removed]",
      "text/plain": [
       "<Figure size 640x480 with 1 Axes>"
      ]
     },
     "metadata": {},
     "output_type": "display_data"
    }
   ],
   "source": [
    "torch.manual_seed(42)\n",
    "END = 1\n",
    "COUNT = 10\n",
    "train_x = torch.linspace(0, END, COUNT)\n",
    "train_y = torch.linspace(0, END, COUNT)\n",
    "#train_y += torch.randn(train_x.size()) * torch.sqrt(torch.tensor(0.1))\n",
    "plt.plot(train_x, train_y, \"o\")"
   ]
  },
  {
   "cell_type": "code",
   "execution_count": null,
   "metadata": {},
   "outputs": [],
   "source": []
  },
  {
   "cell_type": "markdown",
   "metadata": {},
   "source": [
    "# Model definition"
   ]
  },
  {
   "cell_type": "code",
   "execution_count": 50,
   "metadata": {},
   "outputs": [],
   "source": [
    "# Simplest GP possible. SE with constant sigma_f \n",
    "class ExactGPModel(gpytorch.models.ExactGP):\n",
    "    def __init__(self, train_x, train_y, likelihood):\n",
    "        super(ExactGPModel, self).__init__(train_x, train_y, likelihood)\n",
    "        self.mean_module = gpytorch.means.ZeroMean()\n",
    "        self.covar_module = gpytorch.kernels.RBFKernel()\n",
    "        #self.covar_module = gpytorch.kernels.ScaleKernel(gpytorch.kernels.MaternKernel())\n",
    "        #self.covar_module = gpytorch.kernels.ScaleKernel(gpytorch.kernels.PeriodicKernel())\n",
    "\n",
    "    def forward(self, x):\n",
    "        mean_x = self.mean_module(x)\n",
    "        covar_x = self.covar_module(x)\n",
    "        return gpytorch.distributions.MultivariateNormal(mean_x, covar_x)\n",
    "\n",
    "# initialize likelihood and model\n",
    "likelihood = gpytorch.likelihoods.GaussianLikelihood(noise_constraint=gpytorch.constraints.GreaterThan(1e-10))\n",
    "model = ExactGPModel(train_x, train_y, likelihood)"
   ]
  },
  {
   "cell_type": "code",
   "execution_count": 51,
   "metadata": {},
   "outputs": [
    {
     "name": "stdout",
     "output_type": "stream",
     "text": [
      "tensor([ 8.3621e+00,  1.5041e+00,  1.2708e-01,  6.5276e-03,  2.2986e-04,\n",
      "         5.6375e-06,  2.2122e-07,  3.9967e-08, -2.4226e-08, -8.4223e-08],\n",
      "       grad_fn=<FlipBackward0>)\n",
      "tensor([[1.0000, 0.9872, 0.9499, 0.8908, 0.8142, 0.7253, 0.6297, 0.5328, 0.4394,\n",
      "         0.3532],\n",
      "        [0.9872, 1.0000, 0.9872, 0.9499, 0.8908, 0.8142, 0.7253, 0.6297, 0.5328,\n",
      "         0.4394],\n",
      "        [0.9499, 0.9872, 1.0000, 0.9872, 0.9499, 0.8908, 0.8142, 0.7253, 0.6297,\n",
      "         0.5328],\n",
      "        [0.8908, 0.9499, 0.9872, 1.0000, 0.9872, 0.9499, 0.8908, 0.8142, 0.7253,\n",
      "         0.6297],\n",
      "        [0.8142, 0.8908, 0.9499, 0.9872, 1.0000, 0.9872, 0.9499, 0.8908, 0.8142,\n",
      "         0.7253],\n",
      "        [0.7253, 0.8142, 0.8908, 0.9499, 0.9872, 1.0000, 0.9872, 0.9499, 0.8908,\n",
      "         0.8142],\n",
      "        [0.6297, 0.7253, 0.8142, 0.8908, 0.9499, 0.9872, 1.0000, 0.9872, 0.9499,\n",
      "         0.8908],\n",
      "        [0.5328, 0.6297, 0.7253, 0.8142, 0.8908, 0.9499, 0.9872, 1.0000, 0.9872,\n",
      "         0.9499],\n",
      "        [0.4394, 0.5328, 0.6297, 0.7253, 0.8142, 0.8908, 0.9499, 0.9872, 1.0000,\n",
      "         0.9872],\n",
      "        [0.3532, 0.4394, 0.5328, 0.6297, 0.7253, 0.8142, 0.8908, 0.9499, 0.9872,\n",
      "         1.0000]], grad_fn=<RBFCovarianceBackward>)\n"
     ]
    }
   ],
   "source": [
    "print(torch.linalg.eigh(model(train_x).covariance_matrix)[0].flip(0))\n",
    "print(model(train_x).covariance_matrix)"
   ]
  },
  {
   "cell_type": "markdown",
   "metadata": {},
   "source": [
    "# Training"
   ]
  },
  {
   "cell_type": "code",
   "execution_count": 52,
   "metadata": {},
   "outputs": [],
   "source": [
    "num_train_iter = 200\n",
    "use_MAP = True \n",
    "use_LBFGS = True\n",
    "# Train the MAP for 100 Iterations of ADAM and then 50 more of L-BFGS\n",
    "loss, training_log = optimize_hyperparameters(model, likelihood, num_train_iter, train_x, train_y, use_LBFGS, MAP=use_MAP, log_param_path=True, random_restarts=1, log_likelihood=True)"
   ]
  },
  {
   "cell_type": "code",
   "execution_count": 53,
   "metadata": {},
   "outputs": [
    {
     "name": "stdout",
     "output_type": "stream",
     "text": [
      "tensor([ 9.7675e+00,  2.3029e-01,  2.1598e-03,  1.2405e-05,  1.6218e-07,\n",
      "         4.5395e-08, -2.5296e-08, -5.3566e-08, -8.6761e-08, -5.6854e-07],\n",
      "       grad_fn=<FlipBackward0>)\n",
      "tensor([[1.0000, 0.9985, 0.9942, 0.9870, 0.9770, 0.9643, 0.9489, 0.9311, 0.9110,\n",
      "         0.8888],\n",
      "        [0.9985, 1.0000, 0.9985, 0.9942, 0.9870, 0.9770, 0.9643, 0.9489, 0.9311,\n",
      "         0.9110],\n",
      "        [0.9942, 0.9985, 1.0000, 0.9985, 0.9942, 0.9870, 0.9770, 0.9643, 0.9489,\n",
      "         0.9311],\n",
      "        [0.9870, 0.9942, 0.9985, 1.0000, 0.9985, 0.9942, 0.9870, 0.9770, 0.9643,\n",
      "         0.9489],\n",
      "        [0.9770, 0.9870, 0.9942, 0.9985, 1.0000, 0.9985, 0.9942, 0.9870, 0.9770,\n",
      "         0.9643],\n",
      "        [0.9643, 0.9770, 0.9870, 0.9942, 0.9985, 1.0000, 0.9985, 0.9942, 0.9870,\n",
      "         0.9770],\n",
      "        [0.9489, 0.9643, 0.9770, 0.9870, 0.9942, 0.9985, 1.0000, 0.9985, 0.9942,\n",
      "         0.9870],\n",
      "        [0.9311, 0.9489, 0.9643, 0.9770, 0.9870, 0.9942, 0.9985, 1.0000, 0.9985,\n",
      "         0.9942],\n",
      "        [0.9110, 0.9311, 0.9489, 0.9643, 0.9770, 0.9870, 0.9942, 0.9985, 1.0000,\n",
      "         0.9985],\n",
      "        [0.8888, 0.9110, 0.9311, 0.9489, 0.9643, 0.9770, 0.9870, 0.9942, 0.9985,\n",
      "         1.0000]], grad_fn=<RBFCovarianceBackward>)\n"
     ]
    }
   ],
   "source": [
    "print(torch.linalg.eigh(model(train_x).covariance_matrix)[0].flip(0))\n",
    "print(model(train_x).covariance_matrix)"
   ]
  },
  {
   "cell_type": "code",
   "execution_count": 54,
   "metadata": {},
   "outputs": [
    {
     "name": "stdout",
     "output_type": "stream",
     "text": [
      "MAP:-1.5562047958374023\n",
      "[('likelihood.noise_covar.raw_noise', Parameter containing:\n",
      "tensor([-11.8720], requires_grad=True)), ('covar_module.raw_lengthscale', Parameter containing:\n",
      "tensor([[1.9227]], requires_grad=True))]\n"
     ]
    }
   ],
   "source": [
    "print(f\"{'MAP' if use_MAP else 'likelihood'}:{loss}\")\n",
    "print(list(model.named_parameters()))"
   ]
  },
  {
   "cell_type": "code",
   "execution_count": 55,
   "metadata": {},
   "outputs": [
    {
     "data": {
      "text/plain": [
       "tensor([0.0001], grad_fn=<AddBackward0>)"
      ]
     },
     "execution_count": 55,
     "metadata": {},
     "output_type": "execute_result"
    }
   ],
   "source": [
    "model.likelihood.noise"
   ]
  },
  {
   "cell_type": "code",
   "execution_count": 56,
   "metadata": {},
   "outputs": [
    {
     "data": {
      "image/png": "[encoded data removed]",
      "text/plain": [
       "<Figure size 400x300 with 1 Axes>"
      ]
     },
     "metadata": {},
     "output_type": "display_data"
    }
   ],
   "source": [
    "# Get into evaluation (predictive posterior) mode\n",
    "model.eval()\n",
    "likelihood.eval()\n",
    "\n",
    "# Test points are regularly spaced along [0,1]\n",
    "# Make predictions by feeding model through likelihood\n",
    "with torch.no_grad(), gpytorch.settings.fast_pred_var():\n",
    "    test_x = torch.linspace(0, 1, 51)\n",
    "    a = model(test_x)\n",
    "    observed_pred = likelihood(a)\n",
    "    \n",
    "with torch.no_grad():\n",
    "    # Initialize plot\n",
    "    f, ax = plt.subplots(1, 1, figsize=(4, 3))\n",
    "\n",
    "    # Get upper and lower confidence bounds\n",
    "    lower, upper = observed_pred.confidence_region()\n",
    "    # Plot training data as black stars\n",
    "    ax.plot(train_x.numpy(), train_y.numpy(), 'k*')\n",
    "    # Plot predictive means as blue line\n",
    "    ax.plot(test_x.numpy(), observed_pred.mean.numpy(), 'b')\n",
    "    # Shade between the lower and upper confidence bounds\n",
    "    ax.fill_between(test_x.numpy(), lower.numpy(), upper.numpy(), alpha=0.5)\n",
    "    ax.set_ylim([-3, 3])\n",
    "    ax.legend(['Observed Data', 'Mean', 'Confidence'])"
   ]
  },
  {
   "cell_type": "code",
   "execution_count": 57,
   "metadata": {},
   "outputs": [
    {
     "data": {
      "text/plain": [
       "(tensor([-0.0229, -0.0032,  0.0165,  0.0362,  0.0559,  0.0756,  0.0954,  0.1152,\n",
       "          0.1350,  0.1548,  0.1747,  0.1946,  0.2145,  0.2346,  0.2546,  0.2746,\n",
       "          0.2948,  0.3150,  0.3352,  0.3554,  0.3757,  0.3960,  0.4163,  0.4366,\n",
       "          0.4570,  0.4773,  0.4977,  0.5181,  0.5384,  0.5587,  0.5791,  0.5995,\n",
       "          0.6197,  0.6400,  0.6602,  0.6804,  0.7004,  0.7204,  0.7404,  0.7603,\n",
       "          0.7800,  0.7997,  0.8192,  0.8385,  0.8577,  0.8769,  0.8958,  0.9144,\n",
       "          0.9331,  0.9513,  0.9692]),\n",
       " tensor([0.0298, 0.0479, 0.0664, 0.0850, 0.1038, 0.1228, 0.1420, 0.1613, 0.1808,\n",
       "         0.2004, 0.2201, 0.2399, 0.2598, 0.2798, 0.2999, 0.3200, 0.3401, 0.3604,\n",
       "         0.3807, 0.4010, 0.4213, 0.4417, 0.4620, 0.4824, 0.5028, 0.5232, 0.5435,\n",
       "         0.5639, 0.5843, 0.6046, 0.6248, 0.6450, 0.6653, 0.6855, 0.7056, 0.7257,\n",
       "         0.7458, 0.7658, 0.7857, 0.8056, 0.8255, 0.8453, 0.8650, 0.8848, 0.9045,\n",
       "         0.9241, 0.9437, 0.9634, 0.9828, 1.0025, 1.0222]))"
      ]
     },
     "execution_count": 57,
     "metadata": {},
     "output_type": "execute_result"
    }
   ],
   "source": [
    "observed_pred.confidence_region()"
   ]
  },
  {
   "cell_type": "code",
   "execution_count": 58,
   "metadata": {},
   "outputs": [
    {
     "data": {
      "text/plain": [
       "[<matplotlib.lines.Line2D at 0x7fe86b8ba020>]"
      ]
     },
     "execution_count": 58,
     "metadata": {},
     "output_type": "execute_result"
    },
    {
     "data": {
      "image/png": "[encoded data removed]",
      "text/plain": [
       "<Figure size 640x480 with 2 Axes>"
      ]
     },
     "metadata": {},
     "output_type": "display_data"
    }
   ],
   "source": [
    "#plt.plot(training_log[\"training_log\"]['likelihood.noise_covar.raw_noise'])\n",
    "#plt.plot(training_log[\"likelihood_log\"])\n",
    "param_keys = list(training_log[\"training_log\"].keys())\n",
    "filtered = False \n",
    "filtered_noise = list()\n",
    "filtered_length = list()\n",
    "filtered_loglike = list()\n",
    "\n",
    "# loop to filter draws below X \n",
    "for n, l, llik in zip(training_log[\"training_log\"][param_keys[0]], training_log[\"training_log\"][param_keys[1]], training_log[\"likelihood_log\"]):\n",
    "    if llik > -5000:\n",
    "        filtered_noise.append(n)\n",
    "        filtered_length.append(l)\n",
    "        filtered_loglike.append(llik)\n",
    "\n",
    "if filtered:\n",
    "    for i in range(len(filtered_noise)-1):\n",
    "        n, l = filtered_noise[i], filtered_length[i]\n",
    "        n2, l2 = filtered_noise[i+1], filtered_length[i+1]\n",
    "        plt.arrow(n, l, n2-n, l2-l, color=mpl.colormaps[\"Greens\"](i/len(filtered_noise)), head_length = 0.07, head_width = 0.025, length_includes_head = True)\n",
    "    plt.scatter(filtered_noise, filtered_length, c=filtered_loglike, s=3)\n",
    "else:\n",
    "    for i in range(len(training_log[\"training_log\"][param_keys[0]])-1):\n",
    "        n, l = training_log[\"training_log\"][param_keys[0]][i], training_log[\"training_log\"][param_keys[1]][i]\n",
    "        n2, l2 = training_log[\"training_log\"][param_keys[0]][i+1], training_log[\"training_log\"][param_keys[1]][i+1]\n",
    "        #plt.arrow(n, l, n2-n, l2-l, color=mpl.colormaps[\"Greens\"](i/len(training_log[\"training_log\"][param_keys[0]])), head_length = 0.07, head_width = 0.025, length_includes_head = True)\n",
    "    plt.scatter(training_log[\"training_log\"][param_keys[0]], training_log[\"training_log\"][param_keys[1]], c=-torch.Tensor(training_log[\"likelihood_log\"]), s=3)\n",
    "plt.title(\"Log MAP (larger = better)\" if use_MAP else \"Log Likelihood (larger = better)\")\n",
    "plt.colorbar()\n",
    "\n",
    "plt.plot(training_log[\"training_log\"][param_keys[0]][-1], training_log[\"training_log\"][param_keys[1]][-1], \"ro\") \n"
   ]
  },
  {
   "cell_type": "code",
   "execution_count": 59,
   "metadata": {},
   "outputs": [
    {
     "name": "stdout",
     "output_type": "stream",
     "text": [
      "tensor(35.1784)\n",
      "15.562047958374023\n",
      "tensor(15.5620, grad_fn=<MulBackward0>)\n"
     ]
    }
   ],
   "source": [
    "with torch.no_grad():\n",
    "    observed_pred_prior = likelihood(model(model.train_inputs[0]))\n",
    "\n",
    "like_cov_chol = torch.linalg.cholesky(observed_pred_prior.covariance_matrix)\n",
    "like_dist = torch.distributions.multivariate_normal.MultivariateNormal(observed_pred_prior.mean, scale_tril=like_cov_chol)\n",
    "print(like_dist.log_prob(model.train_targets))\n",
    "print(-training_log[\"likelihood_log\"][-1]*COUNT)\n",
    "print(-loss*COUNT)"
   ]
  },
  {
   "cell_type": "code",
   "execution_count": 61,
   "metadata": {},
   "outputs": [
    {
     "name": "stdout",
     "output_type": "stream",
     "text": [
      "-20.0\n",
      "0.00010000205656979233\n",
      "tensor(3.2617, grad_fn=<DivBackward0>)\n",
      "-19.77777862548828\n",
      "0.00010000257316278294\n",
      "tensor(3.2617, grad_fn=<DivBackward0>)\n",
      "-19.55555534362793\n",
      "0.00010000321344705299\n",
      "tensor(3.2617, grad_fn=<DivBackward0>)\n",
      "-19.33333396911621\n",
      "0.00010000401380239055\n",
      "tensor(3.2617, grad_fn=<DivBackward0>)\n",
      "-19.11111068725586\n",
      "0.00010000501060858369\n",
      "tensor(3.2617, grad_fn=<DivBackward0>)\n",
      "-18.88888931274414\n",
      "0.00010000626207329333\n",
      "tensor(3.2617, grad_fn=<DivBackward0>)\n",
      "-18.66666603088379\n",
      "0.00010000781912822276\n",
      "tensor(3.2617, grad_fn=<DivBackward0>)\n",
      "-18.44444465637207\n",
      "0.00010000976180890575\n",
      "tensor(3.2617, grad_fn=<DivBackward0>)\n",
      "-18.22222137451172\n",
      "0.00010001219197874889\n",
      "tensor(3.2617, grad_fn=<DivBackward0>)\n",
      "-18.0\n",
      "0.000100015226053074\n",
      "tensor(3.2617, grad_fn=<DivBackward0>)\n",
      "-17.77777862548828\n",
      "0.00010001901682699099\n",
      "tensor(3.2617, grad_fn=<DivBackward0>)\n",
      "-17.55555534362793\n",
      "0.00010002375347539783\n",
      "tensor(3.2616, grad_fn=<DivBackward0>)\n",
      "-17.33333396911621\n",
      "0.00010002966155298054\n",
      "tensor(3.2616, grad_fn=<DivBackward0>)\n",
      "-17.11111068725586\n",
      "0.00010003704664995894\n",
      "tensor(3.2616, grad_fn=<DivBackward0>)\n",
      "-16.88888931274414\n",
      "0.00010004626528825611\n",
      "tensor(3.2615, grad_fn=<DivBackward0>)\n",
      "-16.66666603088379\n",
      "0.00010005777585320175\n",
      "tensor(3.2615, grad_fn=<DivBackward0>)\n",
      "-16.44444465637207\n",
      "0.00010007215314544737\n",
      "tensor(3.2614, grad_fn=<DivBackward0>)\n",
      "-16.22222137451172\n",
      "0.00010009011020883918\n",
      "tensor(3.2613, grad_fn=<DivBackward0>)\n",
      "-16.0\n",
      "0.00010011253471020609\n",
      "tensor(3.2613, grad_fn=<DivBackward0>)\n",
      "-15.777777671813965\n",
      "0.00010014053987106308\n",
      "tensor(3.2611, grad_fn=<DivBackward0>)\n",
      "-15.55555534362793\n",
      "0.00010017550812335685\n",
      "tensor(3.2610, grad_fn=<DivBackward0>)\n",
      "-15.333333015441895\n",
      "0.00010021918569691479\n",
      "tensor(3.2607, grad_fn=<DivBackward0>)\n",
      "-15.11111068725586\n",
      "0.00010027373355114833\n",
      "tensor(3.2605, grad_fn=<DivBackward0>)\n",
      "-14.88888931274414\n",
      "0.00010034185106633231\n",
      "tensor(3.2601, grad_fn=<DivBackward0>)\n",
      "-14.666666984558105\n",
      "0.00010042692156275734\n",
      "tensor(3.2597, grad_fn=<DivBackward0>)\n",
      "-14.44444465637207\n",
      "0.00010053315781988204\n",
      "tensor(3.2592, grad_fn=<DivBackward0>)\n",
      "-14.222222328186035\n",
      "0.00010066583490697667\n",
      "tensor(3.2586, grad_fn=<DivBackward0>)\n",
      "-14.0\n",
      "0.00010083152301376686\n",
      "tensor(3.2577, grad_fn=<DivBackward0>)\n",
      "-13.777777671813965\n",
      "0.00010103845124831423\n",
      "tensor(3.2567, grad_fn=<DivBackward0>)\n",
      "-13.55555534362793\n",
      "0.00010129687143489718\n",
      "tensor(3.2555, grad_fn=<DivBackward0>)\n",
      "-13.333333015441895\n",
      "0.00010161959653487429\n",
      "tensor(3.2540, grad_fn=<DivBackward0>)\n",
      "-13.11111068725586\n",
      "0.00010202262637903914\n",
      "tensor(3.2521, grad_fn=<DivBackward0>)\n",
      "-12.88888931274414\n",
      "0.0001025259552989155\n",
      "tensor(3.2498, grad_fn=<DivBackward0>)\n",
      "-12.666666984558105\n",
      "0.00010315453255316243\n",
      "tensor(3.2468, grad_fn=<DivBackward0>)\n",
      "-12.44444465637207\n",
      "0.00010393953562015668\n",
      "tensor(3.2432, grad_fn=<DivBackward0>)\n",
      "-12.222222328186035\n",
      "0.00010491988359717652\n",
      "tensor(3.2385, grad_fn=<DivBackward0>)\n",
      "-12.0\n",
      "0.00010614418715704232\n",
      "tensor(3.2330, grad_fn=<DivBackward0>)\n",
      "-11.777777671813965\n",
      "0.00010767316416604444\n",
      "tensor(3.2261, grad_fn=<DivBackward0>)\n",
      "-11.55555534362793\n",
      "0.00010958261555060744\n",
      "tensor(3.2176, grad_fn=<DivBackward0>)\n",
      "-11.333333015441895\n",
      "0.00011196722334716469\n",
      "tensor(3.2072, grad_fn=<DivBackward0>)\n",
      "-11.11111068725586\n",
      "0.00011494522914290428\n",
      "tensor(3.1945, grad_fn=<DivBackward0>)\n",
      "-10.88888931274414\n",
      "0.00011866428394569084\n",
      "tensor(3.1790, grad_fn=<DivBackward0>)\n",
      "-10.666666984558105\n",
      "0.0001233088260050863\n",
      "tensor(3.1604, grad_fn=<DivBackward0>)\n",
      "-10.44444465637207\n",
      "0.00012910911755170673\n",
      "tensor(3.1381, grad_fn=<DivBackward0>)\n",
      "-10.222222328186035\n",
      "0.00013635275536216795\n",
      "tensor(3.1115, grad_fn=<DivBackward0>)\n",
      "-10.0\n",
      "0.0001453988952562213\n",
      "tensor(3.0803, grad_fn=<DivBackward0>)\n",
      "-9.777777671813965\n",
      "0.00015669604181312025\n",
      "tensor(3.0438, grad_fn=<DivBackward0>)\n",
      "-9.55555534362793\n",
      "0.00017080429825000465\n",
      "tensor(3.0017, grad_fn=<DivBackward0>)\n",
      "-9.333333015441895\n",
      "0.00018842311692424119\n",
      "tensor(2.9537, grad_fn=<DivBackward0>)\n",
      "-9.11111068725586\n",
      "0.0002104258892359212\n",
      "tensor(2.8996, grad_fn=<DivBackward0>)\n",
      "-8.88888931274414\n",
      "0.00023790323757566512\n",
      "tensor(2.8394, grad_fn=<DivBackward0>)\n",
      "-8.666666984558105\n",
      "0.00027221738127991557\n",
      "tensor(2.7732, grad_fn=<DivBackward0>)\n",
      "-8.44444465637207\n",
      "0.0003150689008180052\n",
      "tensor(2.7013, grad_fn=<DivBackward0>)\n",
      "-8.222222328186035\n",
      "0.00036858138628304005\n",
      "tensor(2.6240, grad_fn=<DivBackward0>)\n",
      "-8.0\n",
      "0.0004354063712526113\n",
      "tensor(2.5419, grad_fn=<DivBackward0>)\n",
      "-7.777777671813965\n",
      "0.0005188544164411724\n",
      "tensor(2.4554, grad_fn=<DivBackward0>)\n",
      "-7.55555534362793\n",
      "0.0006230586441233754\n",
      "tensor(2.3650, grad_fn=<DivBackward0>)\n",
      "-7.333333492279053\n",
      "0.0007531784940510988\n",
      "tensor(2.2713, grad_fn=<DivBackward0>)\n",
      "-7.111111164093018\n",
      "0.0009156551095657051\n",
      "tensor(2.1748, grad_fn=<DivBackward0>)\n",
      "-6.888888835906982\n",
      "0.0011185266776010394\n",
      "tensor(2.0760, grad_fn=<DivBackward0>)\n",
      "-6.666666507720947\n",
      "0.0013718248810619116\n",
      "tensor(1.9751, grad_fn=<DivBackward0>)\n",
      "-6.44444465637207\n",
      "0.0016880653565749526\n",
      "tensor(1.8727, grad_fn=<DivBackward0>)\n",
      "-6.222222328186035\n",
      "0.0020828621927648783\n",
      "tensor(1.7689, grad_fn=<DivBackward0>)\n",
      "-6.0\n",
      "0.0025756852701306343\n",
      "tensor(1.6639, grad_fn=<DivBackward0>)\n",
      "-5.777777671813965\n",
      "0.0031908059027045965\n",
      "tensor(1.5581, grad_fn=<DivBackward0>)\n",
      "-5.55555534362793\n",
      "0.003958467394113541\n",
      "tensor(1.4516, grad_fn=<DivBackward0>)\n",
      "-5.333333492279053\n",
      "0.004916331730782986\n",
      "tensor(1.3444, grad_fn=<DivBackward0>)\n",
      "-5.111111164093018\n",
      "0.006111275404691696\n",
      "tensor(1.2367, grad_fn=<DivBackward0>)\n",
      "-4.888888835906982\n",
      "0.00760157685726881\n",
      "tensor(1.1287, grad_fn=<DivBackward0>)\n",
      "-4.666666507720947\n",
      "0.00945962592959404\n",
      "tensor(1.0203, grad_fn=<DivBackward0>)\n",
      "-4.44444465637207\n",
      "0.011775203980505466\n",
      "tensor(0.9118, grad_fn=<DivBackward0>)\n",
      "-4.222222328186035\n",
      "0.014659509062767029\n",
      "tensor(0.8031, grad_fn=<DivBackward0>)\n",
      "-4.0\n",
      "0.018249928951263428\n",
      "tensor(0.6943, grad_fn=<DivBackward0>)\n",
      "-3.777777671813965\n",
      "0.022715790197253227\n",
      "tensor(0.5856, grad_fn=<DivBackward0>)\n",
      "-3.555555582046509\n",
      "0.02826511301100254\n",
      "tensor(0.4771, grad_fn=<DivBackward0>)\n",
      "-3.3333332538604736\n",
      "0.03515242040157318\n",
      "tensor(0.3688, grad_fn=<DivBackward0>)\n",
      "-3.1111111640930176\n",
      "0.04368753731250763\n",
      "tensor(0.2609, grad_fn=<DivBackward0>)\n",
      "-2.8888888359069824\n",
      "0.05424532666802406\n",
      "tensor(0.1535, grad_fn=<DivBackward0>)\n",
      "-2.6666667461395264\n",
      "0.067275770008564\n",
      "tensor(0.0467, grad_fn=<DivBackward0>)\n",
      "-2.444444417953491\n",
      "0.08331398665904999\n",
      "tensor(-0.0594, grad_fn=<DivBackward0>)\n",
      "-2.222222328186035\n",
      "0.10298867523670197\n",
      "tensor(-0.1644, grad_fn=<DivBackward0>)\n",
      "-2.0\n",
      "0.12702800333499908\n",
      "tensor(-0.2683, grad_fn=<DivBackward0>)\n",
      "-1.7777777910232544\n",
      "0.15626007318496704\n",
      "tensor(-0.3708, grad_fn=<DivBackward0>)\n",
      "-1.5555555820465088\n",
      "0.19160600006580353\n",
      "tensor(-0.4717, grad_fn=<DivBackward0>)\n",
      "-1.3333333730697632\n",
      "0.23406252264976501\n",
      "tensor(-0.5706, grad_fn=<DivBackward0>)\n",
      "-1.1111111640930176\n",
      "0.28467196226119995\n",
      "tensor(-0.6674, grad_fn=<DivBackward0>)\n",
      "-0.8888888955116272\n",
      "0.34447821974754333\n",
      "tensor(-0.7616, grad_fn=<DivBackward0>)\n",
      "-0.6666666865348816\n",
      "0.4144700765609741\n",
      "tensor(-0.8531, grad_fn=<DivBackward0>)\n",
      "-0.4444444477558136\n",
      "0.49551573395729065\n",
      "tensor(-0.9414, grad_fn=<DivBackward0>)\n",
      "-0.2222222238779068\n",
      "0.5882962346076965\n",
      "tensor(-1.0262, grad_fn=<DivBackward0>)\n",
      "0.0\n",
      "0.6932471990585327\n",
      "tensor(-1.1074, grad_fn=<DivBackward0>)\n",
      "0.2222222238779068\n",
      "0.8105185031890869\n",
      "tensor(-1.1848, grad_fn=<DivBackward0>)\n",
      "0.4444444477558136\n",
      "0.9399601817131042\n",
      "tensor(-1.2581, grad_fn=<DivBackward0>)\n",
      "0.6666666865348816\n",
      "1.0811368227005005\n",
      "tensor(-1.3274, grad_fn=<DivBackward0>)\n",
      "0.8888888955116272\n",
      "1.2333672046661377\n",
      "tensor(-1.3926, grad_fn=<DivBackward0>)\n",
      "1.1111111640930176\n",
      "1.3957831859588623\n",
      "tensor(-1.4538, grad_fn=<DivBackward0>)\n",
      "1.3333333730697632\n",
      "1.5673959255218506\n"
     ]
    },
    {
     "name": "stderr",
     "output_type": "stream",
     "text": [
      "/home/besginow/anaconda3/envs/sage/lib/python3.10/site-packages/gpytorch/models/exact_gp.py:274: GPInputWarning: The input matches the stored training data. Did you forget to call model.train()?\n",
      "  warnings.warn(\n"
     ]
    },
    {
     "name": "stdout",
     "output_type": "stream",
     "text": [
      "tensor(-1.5113, grad_fn=<DivBackward0>)\n",
      "1.5555555820465088\n",
      "1.747161626815796\n",
      "tensor(-1.5650, grad_fn=<DivBackward0>)\n",
      "1.7777777910232544\n",
      "1.9340379238128662\n",
      "tensor(-1.6154, grad_fn=<DivBackward0>)\n",
      "2.0\n",
      "2.127027988433838\n",
      "tensor(-1.6625, grad_fn=<DivBackward0>)\n"
     ]
    }
   ],
   "source": [
    "for n_val in np.linspace(-20, 2, 100):\n",
    "    model.likelihood.raw_noise.data = torch.full_like(model.likelihood.raw_noise.data, n_val)\n",
    "    print(model.likelihood.raw_noise.item())\n",
    "    print(model.likelihood.noise.item())\n",
    "    mll = gpytorch.mlls.ExactMarginalLogLikelihood(likelihood, model)\n",
    "    print(mll(likelihood(model(train_x)), train_y))"
   ]
  },
  {
   "cell_type": "markdown",
   "metadata": {},
   "source": [
    "# Laplace"
   ]
  },
  {
   "cell_type": "code",
   "execution_count": 16,
   "metadata": {},
   "outputs": [
    {
     "name": "stdout",
     "output_type": "stream",
     "text": [
      "L-BFGS iterations: 32\n",
      "tensor(-0.4439, dtype=torch.float64, grad_fn=<AddBackward0>)\n",
      "{'neg MLL': tensor(-1.5562, grad_fn=<NegBackward0>), 'punish term': tensor(-2.0001, dtype=torch.float64), 'laplace without replacement': tensor(7.0145, dtype=torch.float64, grad_fn=<SubBackward0>), 'num_replaced': tensor(2), 'parameter list': ['likelihood.noise_covar.raw_noise', 'covar_module.raw_lengthscale'], 'Jacobian': (tensor([0.0207], grad_fn=<SoftplusBackwardBackward0>), tensor([[-2.0332e-05]], grad_fn=<SoftplusBackwardBackward0>)), 'parameter values': tensor([[-11.8720],\n",
      "        [  1.9227]]), 'corrected Hessian': tensor([[46.4268,  0.0000],\n",
      "        [ 0.0000, 46.4268]], dtype=torch.float64), 'diag(constructed eigvals)': tensor([46.4268, 46.4268], dtype=torch.float64), 'original symmetrized Hessian': tensor([[0.0195, 0.0032],\n",
      "        [0.0032, 0.0373]], dtype=torch.float64), 'prior mean': tensor([[-3.5164],\n",
      "        [-0.2122]], dtype=torch.float64), 'diag(prior var)': tensor([12.8388,  3.5704], dtype=torch.float64), 'likelihood approximation': tensor(-0.4439, dtype=torch.float64, grad_fn=<AddBackward0>), 'Derivative time': 0.002000570297241211, 'Approximation time': 0.0005331039428710938, 'Correction time': 0.0002846717834472656, 'Prior generation time': 0.00013756752014160156, 'Total time': 0.0028908252716064453}\n"
     ]
    },
    {
     "data": {
      "text/plain": [
       "<matplotlib.collections.PathCollection at 0x7fe7c9c87190>"
      ]
     },
     "execution_count": 16,
     "metadata": {},
     "output_type": "execute_result"
    },
    {
     "data": {
      "image/png": "[encoded data removed]",
      "text/plain": [
       "<Figure size 640x480 with 1 Axes>"
      ]
     },
     "metadata": {},
     "output_type": "display_data"
    }
   ],
   "source": [
    "print(f\"L-BFGS iterations: {len(training_log['likelihood_log']) - num_train_iter}\")\n",
    "\n",
    "lap, lap_log = metrics.calculate_laplace(model, -loss, with_prior=True, param_punish_term=-1.0)\n",
    "print(lap)\n",
    "print(lap_log)\n",
    "\n",
    "# Draw the distribution defined by the mean (found parametrization) and covariance matrix (Hessian)\n",
    "# (4.133) in Bishop, 2006: f(z) ~ f(z_0)exp(-0.5 (z-z_0)^T H (z-z_0)) with z the parameters, and H the Hessian\n",
    "# We just leave out the f(z_0)\n",
    "\n",
    "scaling_factor = lap_log[\"neg MLL\"]\n",
    "mu = [training_log[\"training_log\"][param_keys[0]][-1], training_log[\"training_log\"][param_keys[1]][-1]]\n",
    "K = lap_log[\"corrected Hessian\"]\n",
    "new_unit_x, new_unit_y = get_std_points(mu, K.inverse()[:2, :2])\n",
    "plt.scatter(new_unit_x, new_unit_y, color=\"grey\", s=3)\n",
    "K = lap_log[\"original symmetrized Hessian\"]\n",
    "new_unit_x, new_unit_y = get_std_points(mu, K.inverse()[:2, :2])\n",
    "plt.scatter(new_unit_x, new_unit_y, color=\"black\", s=3)\n",
    "\n"
   ]
  },
  {
   "cell_type": "code",
   "execution_count": 17,
   "metadata": {},
   "outputs": [
    {
     "data": {
      "text/plain": [
       "torch.return_types.linalg_eigh(\n",
       "eigenvalues=tensor([0.0180, 0.0478]),\n",
       "eigenvectors=tensor([[ 0.2907, -0.9568],\n",
       "        [-0.9568, -0.2907]]))"
      ]
     },
     "execution_count": 17,
     "metadata": {},
     "output_type": "execute_result"
    }
   ],
   "source": [
    "torch.linalg.eigh(torch.tensor([[0.0453, 0.0083],\n",
    "        [0.0083, 0.0205]]))"
   ]
  },
  {
   "cell_type": "markdown",
   "metadata": {},
   "source": [
    "# MCMC"
   ]
  },
  {
   "cell_type": "code",
   "execution_count": 18,
   "metadata": {},
   "outputs": [
    {
     "name": "stdout",
     "output_type": "stream",
     "text": [
      "Building..."
     ]
    },
    {
     "name": "stderr",
     "output_type": "stream",
     "text": [
      "In file included from /home/besginow/anaconda3/envs/sage/lib/python3.10/site-packages/httpstan/include/stan/math/prim/fun.hpp:124,\n",
      "                 from /home/besginow/anaconda3/envs/sage/lib/python3.10/site-packages/httpstan/include/stan/math/rev/fun/multiply.hpp:7,\n",
      "                 from /home/besginow/anaconda3/envs/sage/lib/python3.10/site-packages/httpstan/include/stan/math/rev/fun/elt_multiply.hpp:9,\n",
      "                 from /home/besginow/anaconda3/envs/sage/lib/python3.10/site-packages/httpstan/include/stan/math/rev/fun.hpp:55,\n",
      "                 from /home/besginow/anaconda3/envs/sage/lib/python3.10/site-packages/httpstan/include/stan/math/rev.hpp:10,\n",
      "                 from /home/besginow/anaconda3/envs/sage/lib/python3.10/site-packages/httpstan/include/stan/math.hpp:19,\n",
      "                 from /home/besginow/anaconda3/envs/sage/lib/python3.10/site-packages/httpstan/include/stan/model/model_header.hpp:4,\n",
      "                 from /home/besginow/.cache/httpstan/4.9.1/models/cmuo7zny/model_cmuo7zny.cpp:2:\n",
      "/home/besginow/anaconda3/envs/sage/lib/python3.10/site-packages/httpstan/include/stan/math/prim/fun/grad_2F1.hpp: In instantiation of 'TupleT stan::math::internal::grad_2F1_impl(const T1&, const T2&, const T3&, const T_z&, double, int) [with bool calc_a1 = true; bool calc_a2 = true; bool calc_b1 = true; bool calc_z = true; T1 = double; T2 = double; T3 = double; T_z = double; ScalarT = double; TupleT = std::tuple<double, double, double, double>]':\n",
      "/home/besginow/anaconda3/envs/sage/lib/python3.10/site-packages/httpstan/include/stan/math/prim/fun/grad_2F1.hpp:307:57:   required from 'auto stan::math::grad_2F1(const T1&, const T2&, const T3&, const T_z&, double, int) [with bool ReturnSameT = true; T1 = double; T2 = double; T3 = double; T_z = double; stan::require_t<std::integral_constant<bool, __v> >* <anonymous> = 0]'\n",
      "/home/besginow/anaconda3/envs/sage/lib/python3.10/site-packages/httpstan/include/stan/math/prim/fun/grad_inc_beta.hpp:37:46:   required from here\n",
      "/home/besginow/anaconda3/envs/sage/lib/python3.10/site-packages/httpstan/include/stan/math/prim/fun/grad_2F1.hpp:192:12: warning: unused variable 'pre_mult' [-Wunused-variable]\n",
      "  192 |       auto pre_mult = a2 * pow(1 - z, -1 - a2);\n",
      "      |            ^~~~~~~~\n",
      "/home/besginow/anaconda3/envs/sage/lib/python3.10/site-packages/httpstan/include/stan/math/prim/fun/grad_2F1.hpp: In instantiation of 'TupleT stan::math::internal::grad_2F1_impl(const T1&, const T2&, const T3&, const T_z&, double, int) [with bool calc_a1 = true; bool calc_a2 = true; bool calc_b1 = true; bool calc_z = true; T1 = stan::math::var_value<double>; T2 = stan::math::var_value<double>; T3 = stan::math::var_value<double>; T_z = stan::math::var_value<double>; ScalarT = stan::math::var_value<double>; TupleT = std::tuple<stan::math::var_value<double, void>, stan::math::var_value<double, void>, stan::math::var_value<double, void>, stan::math::var_value<double, void> >]':\n",
      "/home/besginow/anaconda3/envs/sage/lib/python3.10/site-packages/httpstan/include/stan/math/prim/fun/grad_2F1.hpp:307:57:   required from 'auto stan::math::grad_2F1(const T1&, const T2&, const T3&, const T_z&, double, int) [with bool ReturnSameT = true; T1 = stan::math::var_value<double>; T2 = stan::math::var_value<double>; T3 = stan::math::var_value<double>; T_z = stan::math::var_value<double>; stan::require_t<std::integral_constant<bool, __v> >* <anonymous> = 0]'\n",
      "/home/besginow/anaconda3/envs/sage/lib/python3.10/site-packages/httpstan/include/stan/math/rev/fun/grad_inc_beta.hpp:49:51:   required from here\n",
      "/home/besginow/anaconda3/envs/sage/lib/python3.10/site-packages/httpstan/include/stan/math/prim/fun/grad_2F1.hpp:192:12: warning: variable 'pre_mult' set but not used [-Wunused-but-set-variable]\n",
      "/home/besginow/.cache/httpstan/4.9.1/models/cmuo7zny/model_cmuo7zny.cpp: In instantiation of 'void model_cmuo7zny_namespace::model_cmuo7zny::transform_inits_impl(VecVar&, VecI&, VecVar&, std::ostream*) const [with VecVar = std::vector<double, std::allocator<double> >; VecI = std::vector<int>; stan::require_vector_t<T_y>* <anonymous> = 0; stan::require_vector_like_vt<std::is_integral, VecI>* <anonymous> = 0; std::ostream = std::basic_ostream<char>]':\n",
      "/home/besginow/.cache/httpstan/4.9.1/models/cmuo7zny/model_cmuo7zny.cpp:645:69:   required from here\n",
      "/home/besginow/.cache/httpstan/4.9.1/models/cmuo7zny/model_cmuo7zny.cpp:469:11: warning: variable 'pos__' set but not used [-Wunused-but-set-variable]\n",
      "  469 |       int pos__ = std::numeric_limits<int>::min();\n",
      "      |           ^~~~~\n",
      "In file included from /home/besginow/anaconda3/envs/sage/lib/python3.10/site-packages/httpstan/include/stan/math/prim/fun.hpp:124,\n",
      "                 from /home/besginow/anaconda3/envs/sage/lib/python3.10/site-packages/httpstan/include/stan/math/rev/fun/multiply.hpp:7,\n",
      "                 from /home/besginow/anaconda3/envs/sage/lib/python3.10/site-packages/httpstan/include/stan/math/rev/fun/elt_multiply.hpp:9,\n",
      "                 from /home/besginow/anaconda3/envs/sage/lib/python3.10/site-packages/httpstan/include/stan/math/rev/fun.hpp:55,\n",
      "                 from /home/besginow/anaconda3/envs/sage/lib/python3.10/site-packages/httpstan/include/stan/math/rev.hpp:10,\n",
      "                 from /home/besginow/anaconda3/envs/sage/lib/python3.10/site-packages/httpstan/include/stan/math.hpp:19,\n",
      "                 from /home/besginow/anaconda3/envs/sage/lib/python3.10/site-packages/httpstan/include/stan/model/model_header.hpp:4,\n",
      "                 from /home/besginow/.cache/httpstan/4.9.1/models/cmuo7zny/model_cmuo7zny.cpp:2:\n",
      "/home/besginow/anaconda3/envs/sage/lib/python3.10/site-packages/httpstan/include/stan/math/prim/fun/grad_2F1.hpp: In instantiation of 'TupleT stan::math::internal::grad_2F1_impl_ab(const T1&, const T2&, const T3&, const T_z&, double, int) [with bool calc_a1 = true; bool calc_a2 = true; bool calc_b1 = true; T1 = double; T2 = double; T3 = double; T_z = double; ScalarT = double; TupleT = std::tuple<double, double, double>]':\n",
      "/home/besginow/anaconda3/envs/sage/lib/python3.10/site-packages/httpstan/include/stan/math/prim/fun/grad_2F1.hpp:205:78:   required from 'TupleT stan::math::internal::grad_2F1_impl(const T1&, const T2&, const T3&, const T_z&, double, int) [with bool calc_a1 = true; bool calc_a2 = true; bool calc_b1 = true; bool calc_z = true; T1 = double; T2 = double; T3 = double; T_z = double; ScalarT = double; TupleT = std::tuple<double, double, double, double>]'\n",
      "/home/besginow/anaconda3/envs/sage/lib/python3.10/site-packages/httpstan/include/stan/math/prim/fun/grad_2F1.hpp:307:57:   required from 'auto stan::math::grad_2F1(const T1&, const T2&, const T3&, const T_z&, double, int) [with bool ReturnSameT = true; T1 = double; T2 = double; T3 = double; T_z = double; stan::require_t<std::integral_constant<bool, __v> >* <anonymous> = 0]'\n",
      "/home/besginow/anaconda3/envs/sage/lib/python3.10/site-packages/httpstan/include/stan/math/prim/fun/grad_inc_beta.hpp:37:46:   required from here\n",
      "/home/besginow/anaconda3/envs/sage/lib/python3.10/site-packages/httpstan/include/stan/math/prim/fun/grad_2F1.hpp:68:10: warning: unused variable 'log_precision' [-Wunused-variable]\n",
      "   68 |   double log_precision = log(precision);\n",
      "      |          ^~~~~~~~~~~~~\n",
      "/home/besginow/anaconda3/envs/sage/lib/python3.10/site-packages/httpstan/include/stan/math/prim/fun/grad_2F1.hpp: In instantiation of 'TupleT stan::math::internal::grad_2F1_impl_ab(const T1&, const T2&, const T3&, const T_z&, double, int) [with bool calc_a1 = true; bool calc_a2 = true; bool calc_b1 = true; T1 = stan::math::var_value<double>; T2 = stan::math::var_value<double>; T3 = stan::math::var_value<double>; T_z = stan::math::var_value<double>; ScalarT = stan::math::var_value<double>; TupleT = std::tuple<stan::math::var_value<double, void>, stan::math::var_value<double, void>, stan::math::var_value<double, void> >]':\n",
      "/home/besginow/anaconda3/envs/sage/lib/python3.10/site-packages/httpstan/include/stan/math/prim/fun/grad_2F1.hpp:205:78:   required from 'TupleT stan::math::internal::grad_2F1_impl(const T1&, const T2&, const T3&, const T_z&, double, int) [with bool calc_a1 = true; bool calc_a2 = true; bool calc_b1 = true; bool calc_z = true; T1 = stan::math::var_value<double>; T2 = stan::math::var_value<double>; T3 = stan::math::var_value<double>; T_z = stan::math::var_value<double>; ScalarT = stan::math::var_value<double>; TupleT = std::tuple<stan::math::var_value<double, void>, stan::math::var_value<double, void>, stan::math::var_value<double, void>, stan::math::var_value<double, void> >]'\n",
      "/home/besginow/anaconda3/envs/sage/lib/python3.10/site-packages/httpstan/include/stan/math/prim/fun/grad_2F1.hpp:307:57:   required from 'auto stan::math::grad_2F1(const T1&, const T2&, const T3&, const T_z&, double, int) [with bool ReturnSameT = true; T1 = stan::math::var_value<double>; T2 = stan::math::var_value<double>; T3 = stan::math::var_value<double>; T_z = stan::math::var_value<double>; stan::require_t<std::integral_constant<bool, __v> >* <anonymous> = 0]'\n",
      "/home/besginow/anaconda3/envs/sage/lib/python3.10/site-packages/httpstan/include/stan/math/rev/fun/grad_inc_beta.hpp:49:51:   required from here\n",
      "/home/besginow/anaconda3/envs/sage/lib/python3.10/site-packages/httpstan/include/stan/math/prim/fun/grad_2F1.hpp:68:10: warning: unused variable 'log_precision' [-Wunused-variable]\n",
      "/home/besginow/.cache/httpstan/4.9.1/models/cmuo7zny/model_cmuo7zny.cpp: In instantiation of 'void model_cmuo7zny_namespace::model_cmuo7zny::write_array_impl(RNG&, VecR&, VecI&, VecVar&, bool, bool, std::ostream*) const [with RNG = boost::random::additive_combine_engine<boost::random::linear_congruential_engine<unsigned int, 40014, 0, 2147483563>, boost::random::linear_congruential_engine<unsigned int, 40692, 0, 2147483399> >; VecR = Eigen::Matrix<double, -1, 1>; VecI = std::vector<int>; VecVar = Eigen::Matrix<double, -1, 1>; stan::require_vector_like_vt<std::is_floating_point, VecR>* <anonymous> = 0; stan::require_vector_like_vt<std::is_integral, VecI>* <anonymous> = 0; stan::require_vector_vt<std::is_floating_point, VecVar>* <anonymous> = 0; std::ostream = std::basic_ostream<char>]':\n",
      "/home/besginow/.cache/httpstan/4.9.1/models/cmuo7zny/model_cmuo7zny.cpp:577:23:   required from 'void model_cmuo7zny_namespace::model_cmuo7zny::write_array(RNG&, Eigen::Matrix<double, -1, 1>&, Eigen::Matrix<double, -1, 1>&, bool, bool, std::ostream*) const [with RNG = boost::random::additive_combine_engine<boost::random::linear_congruential_engine<unsigned int, 40014, 0, 2147483563>, boost::random::linear_congruential_engine<unsigned int, 40692, 0, 2147483399> >; std::ostream = std::basic_ostream<char>]'\n",
      "/home/besginow/anaconda3/envs/sage/lib/python3.10/site-packages/httpstan/include/stan/model/model_base_crtp.hpp:140:61:   required from 'void stan::model::model_base_crtp<M>::write_array(boost::random::ecuyer1988&, Eigen::VectorXd&, Eigen::VectorXd&, bool, bool, std::ostream*) const [with M = model_cmuo7zny_namespace::model_cmuo7zny; boost::random::ecuyer1988 = boost::random::additive_combine_engine<boost::random::linear_congruential_engine<unsigned int, 40014, 0, 2147483563>, boost::random::linear_congruential_engine<unsigned int, 40692, 0, 2147483399> >; Eigen::VectorXd = Eigen::Matrix<double, -1, 1>; std::ostream = std::basic_ostream<char>]'\n",
      "/home/besginow/anaconda3/envs/sage/lib/python3.10/site-packages/httpstan/include/stan/model/model_base_crtp.hpp:136:8:   required from here\n",
      "/home/besginow/.cache/httpstan/4.9.1/models/cmuo7zny/model_cmuo7zny.cpp:402:20: warning: unused variable 'jacobian__' [-Wunused-variable]\n",
      "  402 |     constexpr bool jacobian__ = false;\n",
      "      |                    ^~~~~~~~~~\n",
      "/home/besginow/.cache/httpstan/4.9.1/models/cmuo7zny/model_cmuo7zny.cpp: In instantiation of 'void model_cmuo7zny_namespace::model_cmuo7zny::write_array_impl(RNG&, VecR&, VecI&, VecVar&, bool, bool, std::ostream*) const [with RNG = boost::random::additive_combine_engine<boost::random::linear_congruential_engine<unsigned int, 40014, 0, 2147483563>, boost::random::linear_congruential_engine<unsigned int, 40692, 0, 2147483399> >; VecR = std::vector<double, std::allocator<double> >; VecI = std::vector<int>; VecVar = std::vector<double, std::allocator<double> >; stan::require_vector_like_vt<std::is_floating_point, VecR>* <anonymous> = 0; stan::require_vector_like_vt<std::is_integral, VecI>* <anonymous> = 0; stan::require_vector_vt<std::is_floating_point, VecVar>* <anonymous> = 0; std::ostream = std::basic_ostream<char>]':\n",
      "/home/besginow/.cache/httpstan/4.9.1/models/cmuo7zny/model_cmuo7zny.cpp:595:23:   required from 'void model_cmuo7zny_namespace::model_cmuo7zny::write_array(RNG&, std::vector<double, std::allocator<double> >&, std::vector<int>&, std::vector<double, std::allocator<double> >&, bool, bool, std::ostream*) const [with RNG = boost::random::additive_combine_engine<boost::random::linear_congruential_engine<unsigned int, 40014, 0, 2147483563>, boost::random::linear_congruential_engine<unsigned int, 40692, 0, 2147483399> >; std::ostream = std::basic_ostream<char>]'\n",
      "/home/besginow/anaconda3/envs/sage/lib/python3.10/site-packages/httpstan/include/stan/model/model_base_crtp.hpp:202:61:   required from 'void stan::model::model_base_crtp<M>::write_array(boost::random::ecuyer1988&, std::vector<double, std::allocator<double> >&, std::vector<int>&, std::vector<double, std::allocator<double> >&, bool, bool, std::ostream*) const [with M = model_cmuo7zny_namespace::model_cmuo7zny; boost::random::ecuyer1988 = boost::random::additive_combine_engine<boost::random::linear_congruential_engine<unsigned int, 40014, 0, 2147483563>, boost::random::linear_congruential_engine<unsigned int, 40692, 0, 2147483399> >; std::ostream = std::basic_ostream<char>]'\n",
      "/home/besginow/anaconda3/envs/sage/lib/python3.10/site-packages/httpstan/include/stan/model/model_base_crtp.hpp:198:8:   required from here\n",
      "/home/besginow/.cache/httpstan/4.9.1/models/cmuo7zny/model_cmuo7zny.cpp:402:20: warning: unused variable 'jacobian__' [-Wunused-variable]\n"
     ]
    },
    {
     "name": "stdout",
     "output_type": "stream",
     "text": [
      "\n"
     ]
    },
    {
     "name": "stderr",
     "output_type": "stream",
     "text": [
      "\n",
      "Building: 15.7s, done.Messages from stanc:\n",
      "Warning in '/tmp/httpstan_eje_o7rx/model_cmuo7zny.stan', line 30, column 12: A\n",
      "    control flow statement depends on parameter(s): theta_tilde.\n",
      "Warning in '/tmp/httpstan_eje_o7rx/model_cmuo7zny.stan', line 5, column 12: A\n",
      "    control flow statement inside function softplus depends on argument v. At\n",
      "    '/tmp/httpstan_eje_o7rx/model_cmuo7zny.stan', line 45, column 90 to\n",
      "    column 98, the value of v depends on parameter(s): theta_tilde.\n",
      "Warning in '/tmp/httpstan_eje_o7rx/model_cmuo7zny.stan', line 5, column 12: A\n",
      "    control flow statement inside function softplus depends on argument v. At\n",
      "    '/tmp/httpstan_eje_o7rx/model_cmuo7zny.stan', line 45, column 136 to\n",
      "    column 144, the value of v depends on parameter(s): theta_tilde.\n",
      "Warning: The parameter theta_tilde has no priors. This means either no prior\n",
      "    is provided, or the prior(s) depend on data variables. In the later case,\n",
      "    this may be a false positive.\n",
      "Sampling:   0%\n",
      "Sampling: 100% (2000/2000)\n",
      "Sampling: 100% (2000/2000), done.\n",
      "Messages received during sampling:\n",
      "  Gradient evaluation took 4.5e-05 seconds\n",
      "  1000 transitions using 10 leapfrog steps per transition would take 0.45 seconds.\n",
      "  Adjust your expectations accordingly!\n",
      "/home/besginow/anaconda3/envs/sage/lib/python3.10/site-packages/gpytorch/models/exact_gp.py:274: GPInputWarning: The input matches the stored training data. Did you forget to call model.train()?\n",
      "  warnings.warn(\n"
     ]
    },
    {
     "name": "stdout",
     "output_type": "stream",
     "text": [
      "tensor(-2534.1782)\n"
     ]
    }
   ],
   "source": [
    "from metrics import calculate_mc_STAN\n",
    "# Perform MCMC\n",
    "MCMC_approx, MC_log = calculate_mc_STAN(\n",
    "    model, likelihood, 1000, log_param_path=True, log_full_likelihood=True)\n",
    "print(MCMC_approx)"
   ]
  },
  {
   "cell_type": "code",
   "execution_count": 19,
   "metadata": {},
   "outputs": [],
   "source": [
    "# w. 0 ADAM (MAP)\n",
    "#[('likelihood.noise_covar.raw_noise', Parameter containing:\n",
    "#tensor([-11.8925], requires_grad=True)), ('covar_module.raw_lengthscale', Parameter containing:\n",
    "#tensor([[1.7432]], requires_grad=True))]\n",
    "# w. 50 ADAM\n",
    "# [('likelihood.noise_covar.raw_noise', Parameter containing:\n",
    "# tensor([-11.6812], requires_grad=True)), ('covar_module.raw_lengthscale', Parameter containing:\n",
    "# tensor([[1.5973]], requires_grad=True))]\n",
    "# w. 100 ADAM\n",
    "# [('likelihood.noise_covar.raw_noise', Parameter containing:\n",
    "# tensor([-10.8088], requires_grad=True)), ('covar_module.raw_lengthscale', Parameter containing:\n",
    "# tensor([[1.8571]], requires_grad=True))]\n",
    "\n",
    "#max_index = MC_log['manual lp list'].index(max(MC_log['manual lp list']))\n",
    "#for i, param in enumerate(MC_log['param draws dict']):\n",
    "#    print(f\"{lap_log['parameter list'][i]}:{MC_log['param draws dict'][param][max_index]}\")"
   ]
  },
  {
   "cell_type": "code",
   "execution_count": 20,
   "metadata": {},
   "outputs": [
    {
     "name": "stdout",
     "output_type": "stream",
     "text": [
      "{'mu': tensor([[-3.5164],\n",
      "        [-0.2122]]), 'var': tensor([[12.8388,  0.0000],\n",
      "        [ 0.0000,  3.5704]])}\n"
     ]
    },
    {
     "data": {
      "image/png": "[encoded data removed]",
      "text/plain": [
       "<Figure size 640x480 with 1 Axes>"
      ]
     },
     "metadata": {},
     "output_type": "display_data"
    }
   ],
   "source": [
    "\n",
    "\n",
    "for param_name in MC_log['param draws dict']:\n",
    "    plt.hist(MC_log['param draws dict'][param_name])\n",
    "print(MC_log[\"Parameter prior\"])\n",
    "plt.savefig(f\"{figure_path}/MCMC_param_distribution_{COUNT}_datapoints.png\")"
   ]
  },
  {
   "cell_type": "code",
   "execution_count": 21,
   "metadata": {},
   "outputs": [
    {
     "data": {
      "text/plain": [
       "Text(0.5, 1.0, 'Log Likelihood')"
      ]
     },
     "execution_count": 21,
     "metadata": {},
     "output_type": "execute_result"
    },
    {
     "data": {
      "image/png": "[encoded data removed]",
      "text/plain": [
       "<Figure size 640x480 with 1 Axes>"
      ]
     },
     "metadata": {},
     "output_type": "display_data"
    }
   ],
   "source": [
    "plt.plot(MC_log['manual lp list'])\n",
    "plt.title(\"Log Likelihood\")"
   ]
  },
  {
   "cell_type": "code",
   "execution_count": 22,
   "metadata": {},
   "outputs": [
    {
     "name": "stdout",
     "output_type": "stream",
     "text": [
      "{'theta_tilde.1': {'mu': -10.531926098833898, 'var': 2.3687502828048808}, 'theta_tilde.2': {'mu': 1.6477672335308422, 'var': 0.4788421346697103}, 'theta.1': {'mu': -9.1454382226713, 'var': 0.04690393864657492}, 'theta.2': {'mu': 1.6477672335308422, 'var': 0.4788421346697103}}\n",
      "[-11.872030258178711, 1.9226597547531128]\n",
      "tensor([0.0215, 0.0215], dtype=torch.float64)\n"
     ]
    }
   ],
   "source": [
    "print(MC_log[\"Parameter statistics\"])\n",
    "\n",
    "mu = [training_log[\"training_log\"][param_keys[0]][-1], training_log[\"training_log\"][param_keys[1]][-1]]\n",
    "K = lap_log[\"corrected Hessian\"]\n",
    "print(f\"{[training_log['training_log'][param_key][-1] for param_key in param_keys]}\")\n",
    "print(f\"{K.inverse().diag()}\")"
   ]
  },
  {
   "cell_type": "code",
   "execution_count": null,
   "metadata": {},
   "outputs": [],
   "source": []
  },
  {
   "cell_type": "code",
   "execution_count": 23,
   "metadata": {},
   "outputs": [
    {
     "data": {
      "text/plain": [
       "Text(0.5, 1.0, 'Log Likelihood')"
      ]
     },
     "execution_count": 23,
     "metadata": {},
     "output_type": "execute_result"
    },
    {
     "data": {
      "image/png": "[encoded data removed]",
      "text/plain": [
       "<Figure size 640x480 with 2 Axes>"
      ]
     },
     "metadata": {},
     "output_type": "display_data"
    }
   ],
   "source": [
    "#\n",
    "#scaling_factor = lap_log[\"neg MLL\"]\n",
    "#mu = [training_log[\"training_log\"][param_keys[0]][-1], training_log[\"training_log\"][param_keys[1]][-1]]\n",
    "#K = lap_log[\"corrected Hessian\"]\n",
    "#new_unit_x, new_unit_y = get_std_points(mu, K)\n",
    "##plt.scatter(new_unit_x, new_unit_y, color=\"grey\", s=3)\n",
    "#K = lap_log[\"original symmetrized Hessian\"]\n",
    "#new_unit_x, new_unit_y = get_std_points(mu, K)\n",
    "#plt.scatter(new_unit_x, new_unit_y, color=\"black\", s=3)\n",
    "#\n",
    "\n",
    "filtered = False \n",
    "filtered_noise = list()\n",
    "filtered_length = list()\n",
    "filtered_loglike = list()\n",
    "\n",
    "# loop to filter draws below X \n",
    "for n, l, llik in zip(MC_log['param draws dict'][\"theta.1\"], MC_log['param draws dict'][\"theta.2\"], MC_log['manual lp list']):\n",
    "    if llik > -100:\n",
    "        filtered_noise.append(n)\n",
    "        filtered_length.append(l)\n",
    "        filtered_loglike.append(llik)\n",
    "\n",
    "if filtered:\n",
    "    for i in range(len(filtered_noise)-1):\n",
    "        n, l = filtered_noise[i], filtered_length[i]\n",
    "        n2, l2 = filtered_noise[i+1], filtered_length[i+1]\n",
    "        #plt.arrow(n, l, n2-n, l2-l, color=mpl.colormaps[\"Greens\"](i/len(filtered_noise)), head_length = 0.07, head_width = 0.025, length_includes_head = True)\n",
    "    plt.scatter(filtered_noise, filtered_length, c=filtered_loglike, s=3)\n",
    "    max_index = MC_log['manual lp list'].index(max(MC_log['manual lp list']))\n",
    "    print(f\"{max(MC_log['manual lp list'])} : {MC_log['param draws dict']['theta.1'][max_index]} {MC_log['param draws dict']['theta.2'][max_index]}\")\n",
    "    plt.plot(MC_log['param draws dict'][\"theta.1\"][max_index], MC_log['param draws dict'][\"theta.2\"][max_index], \"ro\")\n",
    "else:\n",
    "    for i in range(len(MC_log['param draws dict'][\"theta.1\"])-1):\n",
    "        n, l = MC_log['param draws dict'][\"theta.1\"][i], MC_log['param draws dict'][\"theta.2\"][i]\n",
    "        n2, l2 = MC_log['param draws dict'][\"theta.1\"][i+1], MC_log['param draws dict'][\"theta.2\"][i+1]\n",
    "        #plt.arrow(n, l, n2-n, l2-l, color=mpl.colormaps[\"Greens\"](i/len(MC_log['param draws dict'][\"theta.1\"])), head_length = 0.07, head_width = 0.025, length_includes_head = True)\n",
    "    plt.scatter(MC_log['param draws dict'][\"theta.1\"], MC_log['param draws dict'][\"theta.2\"], c=torch.Tensor(MC_log['manual lp list']), s=3)\n",
    "    max_index = MC_log['manual lp list'].index(max(MC_log['manual lp list']))\n",
    "    plt.plot(MC_log['param draws dict'][\"theta.1\"][max_index], MC_log['param draws dict'][\"theta.2\"][max_index], \"ro\")\n",
    "\n",
    "plt.colorbar() \n",
    "\n",
    "mu = [training_log[\"training_log\"][param_keys[0]][-1], training_log[\"training_log\"][param_keys[1]][-1]]\n",
    "K = lap_log[\"corrected Hessian\"]\n",
    "new_unit_x, new_unit_y = get_std_points(mu, K.inverse()[:2, :2])\n",
    "plt.scatter(new_unit_x, new_unit_y, color=\"black\", s=3)\n",
    "\n",
    "K = lap_log[\"original symmetrized Hessian\"]\n",
    "new_unit_x, new_unit_y = get_std_points(mu, K.inverse()[:2, :2])\n",
    "plt.scatter(new_unit_x, new_unit_y, color=\"turquoise\", s=3)\n",
    "plt.title(\"Log Likelihood\")\n"
   ]
  },
  {
   "cell_type": "code",
   "execution_count": 24,
   "metadata": {},
   "outputs": [
    {
     "data": {
      "text/plain": [
       "Text(0.5, 1.0, 'Log Likelihood')"
      ]
     },
     "execution_count": 24,
     "metadata": {},
     "output_type": "execute_result"
    },
    {
     "data": {
      "image/png": "[encoded data removed]",
      "text/plain": [
       "<Figure size 640x480 with 2 Axes>"
      ]
     },
     "metadata": {},
     "output_type": "display_data"
    }
   ],
   "source": [
    "# Contour plot of the likelihood surface according to the explored samples\n",
    "# loop to filter draws below -5000\n",
    "filtered_noise = list()\n",
    "filtered_length = list()\n",
    "filtered_loglike = list()\n",
    "for n, l, llik in zip(MC_log['param draws dict'][\"theta.1\"], MC_log['param draws dict'][\"theta.2\"], MC_log['manual lp list']):\n",
    "    if llik > -5000:\n",
    "        filtered_noise.append(n)\n",
    "        filtered_length.append(l)\n",
    "        filtered_loglike.append(llik)\n",
    "plt.scatter(MC_log['param draws dict'][\"theta.1\"], MC_log['param draws dict'][\"theta.2\"], c=range(len(MC_log['param draws dict'][\"theta.2\"])), cmap=\"Greens\", s=2)\n",
    "plt.colorbar() \n",
    "## Drawing the parameter Prior\n",
    "new_unit_x, new_unit_y = get_std_points(MC_log[\"Parameter prior\"][\"mu\"].numpy().T[0][:2], MC_log[\"Parameter prior\"][\"var\"].inverse()[:2, :2])\n",
    "# Draw one standard deviation around the center of the distribution\n",
    "plt.scatter(new_unit_x, new_unit_y, color=\"pink\", s=3)\n",
    "#plt.scatter(filtered_noise, filtered_length, c=filtered_loglike)\n",
    "\n",
    "\n",
    "\n",
    "plt.title(\"Log Likelihood\")"
   ]
  },
  {
   "cell_type": "code",
   "execution_count": null,
   "metadata": {},
   "outputs": [],
   "source": []
  },
  {
   "cell_type": "code",
   "execution_count": null,
   "metadata": {},
   "outputs": [],
   "source": []
  },
  {
   "cell_type": "code",
   "execution_count": null,
   "metadata": {},
   "outputs": [],
   "source": []
  },
  {
   "cell_type": "code",
   "execution_count": null,
   "metadata": {},
   "outputs": [],
   "source": []
  },
  {
   "cell_type": "code",
   "execution_count": 25,
   "metadata": {},
   "outputs": [
    {
     "data": {
      "text/plain": [
       "tensor(0.0001)"
      ]
     },
     "execution_count": 25,
     "metadata": {},
     "output_type": "execute_result"
    }
   ],
   "source": [
    "def f4(x):\n",
    "    return x + torch.log(-torch.expm1(-x))\n",
    "f4(torch.tensor(1e-4))\n",
    "torch.nn.functional.softplus(torch.tensor(-9.2102))"
   ]
  },
  {
   "cell_type": "code",
   "execution_count": null,
   "metadata": {},
   "outputs": [],
   "source": []
  }
 ],
 "metadata": {
  "kernelspec": {
   "display_name": "sage",
   "language": "python",
   "name": "python3"
  },
  "language_info": {
   "codemirror_mode": {
    "name": "ipython",
    "version": 3
   },
   "file_extension": ".py",
   "mimetype": "text/x-python",
   "name": "python",
   "nbconvert_exporter": "python",
   "pygments_lexer": "ipython3",
   "version": "3.10.2"
  },
  "orig_nbformat": 4
 },
 "nbformat": 4,
 "nbformat_minor": 2
}
