{
 "cells": [
  {
   "cell_type": "code",
   "execution_count": 64,
   "id": "688c65a0",
   "metadata": {},
   "outputs": [],
   "source": [
    "import numpy as np\n",
    "import os\n",
    "import pickle\n",
    "import torch\n",
    "import gpytorch"
   ]
  },
  {
   "cell_type": "code",
   "execution_count": 65,
   "id": "23cd1c79",
   "metadata": {},
   "outputs": [],
   "source": [
    "# Load ALL the the results\n",
    "jar_of_pickles = os.listdir(\"results/parameter_stuff\")\n",
    "jar_of_pickles.sort()\n",
    "jar_of_pickles = [p for p in jar_of_pickles if p.endswith(\".pickle\")]\n",
    "all_results = []\n",
    "for pickl in jar_of_pickles:\n",
    "    with open(pickl, \"rb\") as f:\n",
    "        test = pickle.load(f)\n",
    "        all_results.append(test)"
   ]
  },
  {
   "cell_type": "code",
   "execution_count": 66,
   "id": "1b9202a9",
   "metadata": {},
   "outputs": [],
   "source": [
    "param_lists = {\"SE\": {\"raw_lengthscale\" : []},\n",
    "            \"MAT52\": {\"raw_lengthscale\" : []},\n",
    "            \"MAT32\": {\"raw_lengthscale\" : []},\n",
    "            \"RQ\": {\"raw_lengthscale\" : [], \n",
    "                    \"raw_alpha\" : []},\n",
    "            \"PER\":{\"raw_lengthscale\": [], \"raw_period_length\":[]},\n",
    "            \"LIN\":{\"raw_variance\" : []},\n",
    "            \"C\":{\"raw_outputscale\":[]},\n",
    "            \"noise\": {\"raw_noise\":[]}}"
   ]
  },
  {
   "cell_type": "code",
   "execution_count": 67,
   "id": "ecad95d0",
   "metadata": {},
   "outputs": [],
   "source": [
    "def extract_param_values(kernel_name, params_result, constraint = None):\n",
    "    temp = {\"SE\": {\"raw_lengthscale\" : []},\n",
    "            \"MAT52\": {\"raw_lengthscale\" : []},\n",
    "            \"MAT32\": {\"raw_lengthscale\" : []},\n",
    "            \"RQ\": {\"raw_lengthscale\" : [], \n",
    "                    \"raw_alpha\" : []},\n",
    "            \"PER\":{\"raw_lengthscale\": [], \"raw_period_length\":[]},\n",
    "            \"LIN\":{\"raw_variance\" : []},\n",
    "            \"C\":{\"raw_outputscale\":[]},\n",
    "            \"noise\": {\"raw_noise\":[]}}\n",
    "\n",
    "    kernel_name = kernel_name.split(\"_\")[-1].split(\".\")[0]\n",
    "    \n",
    "    if constraint is None:\n",
    "        constraint = lambda x:x\n",
    "    elif constraint == \"positive\":\n",
    "        positive = gpytorch.constraints.Positive()\n",
    "        constraint = positive.transform\n",
    "    else:\n",
    "        constraint = constraint\n",
    "    \n",
    "    temp[\"noise\"][\"raw_noise\"].append(constraint(params_result[0][1]).item())\n",
    "    \n",
    "    # Here I have a \"0\" and \"1\" in the kernels, in particular 2 scale kernels\n",
    "    if \"+\" in kernel_name:\n",
    "        # Kernel 0\n",
    "        n1 = kernel_name.split(\"+\")[0]\n",
    "        n1_params = [p for p in params_result if \"0\" in p[0]]\n",
    "        for p in n1_params:\n",
    "            if \"outputscale\" in p[0].split(\".\")[-1]:\n",
    "                temp[\"C\"][p[0].split(\".\")[-1]].append(constraint(p[1]).item())\n",
    "                continue\n",
    "            temp[n1][p[0].split(\".\")[-1]].append(constraint(p[1]).item())\n",
    "        \n",
    "        n2 = kernel_name.split(\"+\")[1]\n",
    "        n2_params = [p for p in params_result if \"1\" in p[0]]\n",
    "        for p in n2_params:\n",
    "            if \"outputscale\" in p[0].split(\".\")[-1]:\n",
    "                temp[\"C\"][p[0].split(\".\")[-1]].append(constraint(p[1]).item())\n",
    "                continue\n",
    "            temp[n2][p[0].split(\".\")[-1]].append(constraint(p[1]).item())\n",
    "\n",
    "        \n",
    "    elif \"*\" in kernel_name:\n",
    "        param_lists[\"C\"][\"raw_outputscale\"].append(constraint(params_result[1][1]).item())\n",
    "        \n",
    "        n1 = kernel_name.split(\"*\")[0]\n",
    "        n1_params = [p for p in params_result if \"0\" in p[0]]\n",
    "        for p in n1_params:\n",
    "            temp[n1][p[0].split(\".\")[-1]].append(constraint(p[1]).item())\n",
    "        \n",
    "        n2 = kernel_name.split(\"*\")[1]\n",
    "        n2_params = [p for p in params_result if \"1\" in p[0]]\n",
    "        for p in n2_params:\n",
    "            temp[n2][p[0].split(\".\")[-1]].append(constraint(p[1]).item())\n",
    "\n",
    "        \n",
    "        \n",
    "    \n",
    "    \n",
    "\n",
    "    return temp\n",
    "    \n",
    "    "
   ]
  },
  {
   "cell_type": "code",
   "execution_count": 68,
   "id": "268e3a42",
   "metadata": {},
   "outputs": [],
   "source": [
    "def extend_current_dict(old, new_data):\n",
    "    # We assume the exact same structure of both\n",
    "    # In both we have dicts of dicts and at some point lists which we append to\n",
    "    for key in old:\n",
    "        for inner_key in old[key]:\n",
    "            old[key][inner_key] = old[key][inner_key] + new_data[key][inner_key]\n",
    "    return old"
   ]
  },
  {
   "cell_type": "code",
   "execution_count": 69,
   "id": "109ef9a8",
   "metadata": {},
   "outputs": [],
   "source": [
    "all_param_values = {\"SE\": {\"raw_lengthscale\" : []},\n",
    "            \"MAT52\": {\"raw_lengthscale\" : []},\n",
    "            \"MAT32\": {\"raw_lengthscale\" : []},\n",
    "            \"RQ\": {\"raw_lengthscale\" : [], \n",
    "                    \"raw_alpha\" : []},\n",
    "            \"PER\":{\"raw_lengthscale\": [], \"raw_period_length\":[]},\n",
    "            \"LIN\":{\"raw_variance\" : []},\n",
    "            \"C\":{\"raw_outputscale\":[]},\n",
    "            \"noise\": {\"raw_noise\":[]}}\n",
    "for name, result in zip(jar_of_pickles, all_results):\n",
    "    for train_run in result:\n",
    "        #extend_current_dict(all_param_values, extract_param_values(name, result[train_run], constraint=\"positive\"))\n",
    "        extend_current_dict(all_param_values, extract_param_values(name, result[train_run], constraint=None))\n"
   ]
  },
  {
   "cell_type": "code",
   "execution_count": null,
   "id": "ed0a551e",
   "metadata": {},
   "outputs": [],
   "source": []
  },
  {
   "cell_type": "code",
   "execution_count": 70,
   "id": "d34d40f7",
   "metadata": {},
   "outputs": [
    {
     "name": "stdout",
     "output_type": "stream",
     "text": [
      "SE-length: \t-0.21221139138922668, \t1.8895426067756804\n",
      "MAT32-length: \t1.5711054238673443, \t2.4453761235991216\n",
      "MAT52-length: \t0.7993038925994188, \t2.145122566357853\n",
      "RQ-length: \t-0.049841950913676276, \t1.9426354614713097\n",
      "RQ-length: \t1.882148553921053, \t3.096431944989054\n",
      "PER-length: \t0.7778461197268618, \t2.288946656544974\n",
      "PER-period: \t0.6485334993738499, \t0.9930632050553377\n",
      "LIN-variance: \t-0.8017903983055685, \t0.9966569921354465\n",
      "C-scale: \t-1.6253091096349706, \t2.2570021716661923\n",
      "Noise-noise: \t-3.51640656386717, \t3.5831320474767407\n"
     ]
    }
   ],
   "source": [
    "# Calculate mean + std of all raw values\n",
    "#print(f\"Lengthscale Mean: {np.mean(all_param_values[\"SE\"][\"raw_lengthscale\"])}, Std: {np.std(all_param_values[\"SE\"][\"raw_lengthscale\"])}\")\n",
    "print(f\"SE-length: \\t{np.mean(all_param_values['SE']['raw_lengthscale'])}, \\t{np.std(all_param_values['SE']['raw_lengthscale'])}\")\n",
    "print(f\"MAT32-length: \\t{np.mean(all_param_values['MAT32']['raw_lengthscale'])}, \\t{np.std(all_param_values['MAT32']['raw_lengthscale'])}\")\n",
    "print(f\"MAT52-length: \\t{np.mean(all_param_values['MAT52']['raw_lengthscale'])}, \\t{np.std(all_param_values['MAT52']['raw_lengthscale'])}\")\n",
    "print(f\"RQ-length: \\t{np.mean(all_param_values['RQ']['raw_lengthscale'])}, \\t{np.std(all_param_values['RQ']['raw_lengthscale'])}\")\n",
    "print(f\"RQ-length: \\t{np.mean(all_param_values['RQ']['raw_alpha'])}, \\t{np.std(all_param_values['RQ']['raw_alpha'])}\")\n",
    "print(f\"PER-length: \\t{np.mean(all_param_values['PER']['raw_lengthscale'])}, \\t{np.std(all_param_values['PER']['raw_lengthscale'])}\")\n",
    "print(f\"PER-period: \\t{np.mean(all_param_values['PER']['raw_period_length'])}, \\t{np.std(all_param_values['PER']['raw_period_length'])}\")\n",
    "print(f\"LIN-variance: \\t{np.mean(all_param_values['LIN']['raw_variance'])}, \\t{np.std(all_param_values['LIN']['raw_variance'])}\")\n",
    "print(f\"C-scale: \\t{np.mean(all_param_values['C']['raw_outputscale'])}, \\t{np.std(all_param_values['C']['raw_outputscale'])}\")\n",
    "print(f\"Noise-noise: \\t{np.mean(all_param_values['noise']['raw_noise'])}, \\t{np.std(all_param_values['noise']['raw_noise'])}\")\n",
    "\n",
    "\n",
    "\n",
    "\n",
    "\n",
    "#all_param_values[\"SE\"][\"raw_lengthscale\"]"
   ]
  },
  {
   "cell_type": "code",
   "execution_count": 71,
   "id": "842d27ed",
   "metadata": {},
   "outputs": [
    {
     "name": "stdout",
     "output_type": "stream",
     "text": [
      "prior_dict = {'SE': {'raw_lengthscale' : {\"mean\": -0.21221139138922668 , \"std\":1.8895426067756804}},\n",
      "            'MAT52': {'raw_lengthscale' :{\"mean\": 0.7993038925994188, \"std\":2.145122566357853 } },\n",
      "            'MAT32': {'raw_lengthscale' :{\"mean\": 1.5711054238673443, \"std\":2.4453761235991216 } },\n",
      "            'RQ': {'raw_lengthscale' :{\"mean\": -0.049841950913676276, \"std\":1.9426354614713097 }, \n",
      "                    'raw_alpha' :{\"mean\": 1.882148553921053, \"std\":3.096431944989054 } },\n",
      "            'PER':{'raw_lengthscale':{\"mean\": 0.7778461197268618, \"std\":2.288946656544974 },\n",
      "                    'raw_period_length':{\"mean\": 0.6485334993738499, \"std\":0.9930632050553377 } },\n",
      "            'LIN':{'raw_variance' :{\"mean\": -0.8017903983055685, \"std\":0.9966569921354465 } },\n",
      "            'C':{'raw_outputscale':{\"mean\": -1.6253091096349706, \"std\":2.2570021716661923 } },\n",
      "            'noise': {'raw_noise':{\"mean\": -3.51640656386717, \"std\":3.5831320474767407 } } }\n"
     ]
    }
   ],
   "source": [
    "print(f\"\"\"prior_dict = {{'SE': {{'raw_lengthscale' : {{\"mean\": {np.mean(all_param_values['SE']['raw_lengthscale'])} , \"std\":{np.std(all_param_values['SE']['raw_lengthscale'])}}}}},\n",
    "            'MAT52': {{'raw_lengthscale' :{{\"mean\": {np.mean(all_param_values['MAT52']['raw_lengthscale'])}, \"std\":{np.std(all_param_values['MAT52']['raw_lengthscale'])} }} }},\n",
    "            'MAT32': {{'raw_lengthscale' :{{\"mean\": {np.mean(all_param_values['MAT32']['raw_lengthscale'])}, \"std\":{np.std(all_param_values['MAT32']['raw_lengthscale'])} }} }},\n",
    "            'RQ': {{'raw_lengthscale' :{{\"mean\": {np.mean(all_param_values['RQ']['raw_lengthscale'])}, \"std\":{np.std(all_param_values['RQ']['raw_lengthscale'])} }}, \n",
    "                    'raw_alpha' :{{\"mean\": {np.mean(all_param_values['RQ']['raw_alpha'])}, \"std\":{np.std(all_param_values['RQ']['raw_alpha'])} }} }},\n",
    "            'PER':{{'raw_lengthscale':{{\"mean\": {np.mean(all_param_values['PER']['raw_lengthscale'])}, \"std\":{np.std(all_param_values['PER']['raw_lengthscale'])} }},\n",
    "                    'raw_period_length':{{\"mean\": {np.mean(all_param_values['PER']['raw_period_length'])}, \"std\":{np.std(all_param_values['PER']['raw_period_length'])} }} }},\n",
    "            'LIN':{{'raw_variance' :{{\"mean\": {np.mean(all_param_values['LIN']['raw_variance'])}, \"std\":{np.std(all_param_values['LIN']['raw_variance'])} }} }},\n",
    "            'C':{{'raw_outputscale':{{\"mean\": {np.mean(all_param_values['C']['raw_outputscale'])}, \"std\":{np.std(all_param_values['C']['raw_outputscale'])} }} }},\n",
    "            'noise': {{'raw_noise':{{\"mean\": {np.mean(all_param_values['noise']['raw_noise'])}, \"std\":{np.std(all_param_values['noise']['raw_noise'])} }} }} }}\"\"\")"
   ]
  }
 ],
 "metadata": {
  "kernelspec": {
   "display_name": "Python 3 (ipykernel)",
   "language": "python",
   "name": "python3"
  },
  "language_info": {
   "codemirror_mode": {
    "name": "ipython",
    "version": 3
   },
   "file_extension": ".py",
   "mimetype": "text/x-python",
   "name": "python",
   "nbconvert_exporter": "python",
   "pygments_lexer": "ipython3",
   "version": "3.10.2"
  }
 },
 "nbformat": 4,
 "nbformat_minor": 5
}
